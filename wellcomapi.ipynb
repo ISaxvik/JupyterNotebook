{
 "cells": [
  {
   "cell_type": "code",
   "execution_count": 1,
   "metadata": {},
   "outputs": [],
   "source": [
    "import os\n",
    "\n",
    "from msal import ConfidentialClientApplication\n",
    "from msal_requests_auth.auth import ClientCredentialAuth\n",
    "from requests import Session\n"
   ]
  },
  {
   "cell_type": "code",
   "execution_count": null,
   "metadata": {},
   "outputs": [],
   "source": [
    "\n",
    "# Prepare Auth\n",
    "app_reg = ConfidentialClientApplication(\n",
    "    client_id=os.getenv(\"app_id\"),\n",
    "    client_credential=os.getenv(\"client_secret\"),\n",
    "    authority=os.getenv(\"authority_url\"),\n",
    ")\n",
    "environment_url = os.getenv(\"environment_url\")\n",
    "auth = ClientCredentialAuth(\n",
    "    client=app_reg,\n",
    "    scopes=[environment_url + \"/.default\"]\n",
    ")\n",
    "\n",
    "# Prepare Session\n",
    "session = Session()\n",
    "session.auth = auth"
   ]
  }
 ],
 "metadata": {
  "kernelspec": {
   "display_name": "base",
   "language": "python",
   "name": "python3"
  },
  "language_info": {
   "codemirror_mode": {
    "name": "ipython",
    "version": 3
   },
   "file_extension": ".py",
   "mimetype": "text/x-python",
   "name": "python",
   "nbconvert_exporter": "python",
   "pygments_lexer": "ipython3",
   "version": "3.11.5"
  }
 },
 "nbformat": 4,
 "nbformat_minor": 2
}
