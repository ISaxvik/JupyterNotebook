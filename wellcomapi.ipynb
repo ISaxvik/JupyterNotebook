{
 "cells": [
  {
   "cell_type": "code",
   "execution_count": 1,
   "metadata": {},
   "outputs": [],
   "source": [
    "import os\n",
    "\n",
    "from msal import ConfidentialClientApplication\n",
    "from msal_requests_auth.auth import ClientCredentialAuth\n",
    "from requests import Session\n"
   ]
  },
  {
   "cell_type": "code",
   "execution_count": null,
   "metadata": {},
   "outputs": [],
   "source": [
    "\n",
    "# Prepare Auth\n",
    "app_reg = ConfidentialClientApplication(\n",
    "    client_id=os.getenv(\"app_id\"),\n",
    "    client_credential=os.getenv(\"client_secret\"),\n",
    "    authority=os.getenv(\"authority_url\"),\n",
    ")\n",
    "environment_url = os.getenv(\"environment_url\")\n",
    "auth = ClientCredentialAuth(\n",
    "    client=app_reg,\n",
    "    scopes=[environment_url + \"/.default\"]\n",
    ")\n",
    "\n",
    "# Prepare Session\n",
    "session = Session()\n",
    "session.auth = auth"
   ]
  },
  {
   "cell_type": "code",
   "execution_count": null,
   "metadata": {},
   "outputs": [],
   "source": [
    "MICROSOFT_CLIENT_ID = mssparkutils.credentials.getSecret('https://s314oedkv.vault.azure.net/','ClientId')\n",
    "MICROSOFT_TENANT_ID = mssparkutils.credentials.getSecret('https://s314oedkv.vault.azure.net/','TENANT-ID')\n",
    "MICROSOFT_CLIENT_SECRET = mssparkutils.credentials.getSecret('https://s314oedkv.vault.azure.net/','ClientSecret')\n",
    "CENTURIES_ID = mssparkutils.credentials.getSecret('https://s314oedkv.vault.azure.net/','CenturiesAppId')\n",
    " \n",
    "TENANT = MICROSOFT_TENANT_ID\n",
    "AUTHORITY = 'https://login.microsoftonline.com/' + MICROSOFT_TENANT_ID +'/oauth2/v2.0/token'\n",
    "RESOURCE = CENTURIES_ID\n",
    "SCOPE = RESOURCE + '/.default'\n",
    " \n",
    "data = {'client_id':MICROSOFT_CLIENT_ID,\n",
    "        'grant_type':'client_credentials',\n",
    "        'client_secret':MICROSOFT_CLIENT_SECRET,\n",
    "        'scope': SCOPE}\n",
    " \n",
    "import requests\n",
    " \n",
    "response = requests.post(AUTHORITY, data = data)\n",
    "response = response.json()\n",
    " \n",
    "# Set variables from api call to access_token and token_type\n",
    "ms_token_type = response.get('token_type', None)\n",
    "ms_access_token = response.get('access_token', None)"
   ]
  }
 ],
 "metadata": {
  "kernelspec": {
   "display_name": "base",
   "language": "python",
   "name": "python3"
  },
  "language_info": {
   "codemirror_mode": {
    "name": "ipython",
    "version": 3
   },
   "file_extension": ".py",
   "mimetype": "text/x-python",
   "name": "python",
   "nbconvert_exporter": "python",
   "pygments_lexer": "ipython3",
   "version": "3.11.5"
  }
 },
 "nbformat": 4,
 "nbformat_minor": 2
}
