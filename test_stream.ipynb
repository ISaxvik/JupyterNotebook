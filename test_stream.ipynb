{
 "cells": [
  {
   "cell_type": "code",
   "execution_count": null,
   "metadata": {},
   "outputs": [],
   "source": [
    "import pandas as pd\n",
    "import numpy as np\n",
    "import panel as pn\n",
    "import hvplot.pandas\n",
    "\n",
    "df = pd.DataFrame({\"x\": np.random.randint(0, 10, 10), \"Date\": pd.date_range(end=pd.Timestamp.now(), periods=10)})\n",
    "\n",
    "def update():\n",
    "    global df\n",
    "    print(\"hel\")\n",
    "\n",
    "\n",
    "    # df_new = pd.concat([df, new_data], axis=0)\n",
    "    # df_new = pd.DataFrame(df, new_data)\n",
    "    # new_row = {'x': np.random.randint(0, 10, 3), 'Date':pd.date_range(end=pd.Timestamp.now(), periods=3)}\n",
    "    # df = df.append(new_row, ignore_index=True)\n",
    "\n",
    "    # new_row = np.random.randint(0, 10, 3),pd.date_range(end=pd.Timestamp.now(), periods=3)\n",
    "    # df.loc[len(df.index)] =new_row\n",
    "\n",
    "    # USE CONCAT\n",
    "    # display(df)\n",
    "    new_row = pd.DataFrame({'x': np.random.randint(0, 10, 3), 'Date':pd.date_range(end=pd.Timestamp.now(), periods=3)})\n",
    "    # display(new_row)\n",
    "    df = pd.concat([df, new_row],  ignore_index = True, axis=0)\n",
    "    # display(df)\n",
    "    df.reset_index()\n",
    "\n",
    "    # display(df)\n",
    "\n",
    "    print(f\"df {len(df)}\")\n",
    "    return df\n",
    "\n",
    "def panel_app():\n",
    "    global df\n",
    "    plot = df.hvplot.line(x=\"x\", y=\"Date\", datashade=True)\n",
    "    print(\"in panel_app\")\n",
    "    cb = pn.state.add_periodic_callback(lambda: plot.data.update(update), 200, timeout=5000)\n",
    "\n",
    "\n",
    "    toggle = pn.widgets.Toggle(name='Toggle callback', value=True)\n",
    "\n",
    "\n",
    "    toggle.link(cb, bidirectional=True, value='running')\n",
    "\n",
    "    return pn.Column(plot, toggle)\n",
    "\n",
    "pn.serve(panel_app)"
   ]
  },
  {
   "cell_type": "code",
   "execution_count": null,
   "metadata": {},
   "outputs": [],
   "source": [
    "import pandas as pd\n",
    "import numpy as np\n",
    "import panel as pn\n",
    "import hvplot.pandas\n",
    "import param\n",
    "\n",
    "df = pd.DataFrame({\"x\": np.random.randint(0, 10, 10), \"y\": np.random.randint(0, 10, 10)})\n",
    "\n",
    "def update():\n",
    "    global df\n",
    "    try:\n",
    "        new_row = pd.DataFrame({\"x\": np.random.randint(0, 10, 3), \"y\": np.random.randint(0, 10, 3)})\n",
    "        df_new = pd.concat([df, new_row], ignore_index=True, axis=0)\n",
    "        df = df_new\n",
    "        print(len(df))\n",
    "        return df\n",
    "    except Exception as e:\n",
    "        print(f\"An error occurred: {e}\")\n",
    "\n",
    "@param.depends('df')\n",
    "def plot_func():\n",
    "    return df.hvplot.scatter(x=\"x\", y=\"y\")\n",
    "\n",
    "def panel_app():\n",
    "    global df\n",
    "    # df = pd.DataFrame({\"x\": np.random.randint(0, 10, 10), \"y\": np.random.randint(0, 10, 10)})\n",
    "    plot = plot_func()\n",
    "    cb = pn.state.add_periodic_callback(lambda: plot.data.update(update()), 200, timeout=1000) #\n",
    "    toggle = pn.widgets.Toggle(name='Toggle callback', value=True)\n",
    "    toggle.link(cb, bidirectional=True, value='running')\n",
    "    return pn.Column(plot, toggle)\n",
    "\n",
    "pn.serve(panel_app)"
   ]
  },
  {
   "cell_type": "code",
   "execution_count": null,
   "metadata": {},
   "outputs": [],
   "source": [
    "import pandas as pd\n",
    "import numpy as np\n",
    "import panel as pn\n",
    "import hvplot.pandas\n",
    "import holoviews as hv\n",
    "import time\n",
    "\n",
    "def generate_data():\n",
    "    while True:\n",
    "        yield pd.DataFrame({\"x\": np.random.randint(0, 10, 10), \"y\": np.random.randint(0, 10, 10)})\n",
    "        time.sleep(1)\n",
    "\n",
    "def update(data):\n",
    "    return hv.Points(data, kdims=[\"x\"], vdims=[\"y\"])\n",
    "\n",
    "def panel_app():\n",
    "    data_stream = hv.streams.Stream(source=generate_data())\n",
    "    plot = hv.DynamicMap(update, streams=[data_stream])\n",
    "    plot = plot.opts(width=400, height=400, xlim=(0, 10), ylim=(0, 10))\n",
    "    return plot\n",
    "\n",
    "pn.serve(panel_app)"
   ]
  },
  {
   "cell_type": "code",
   "execution_count": null,
   "metadata": {},
   "outputs": [],
   "source": [
    "import pandas as pd\n",
    "import holoviews as hv\n",
    "import hvplot.pandas\n",
    "from holoviews.streams import Pipe, Buffer\n",
    "hv.extension('bokeh')\n",
    "\n",
    "# Create a dataframe\n",
    "df = pd.DataFrame({'x': [1, 2, 3, 4, 5], 'y': [2, 4, 6, 8, 10]})\n",
    "\n",
    "# Define a function that converts the dataframe to a holoviews object\n",
    "def df_to_hv(df):\n",
    "    return hv.Points(df, kdims=['x'], vdims=['y'])\n",
    "\n",
    "# Create a Pipe object that will receive the dataframe updates\n",
    "pipe = Pipe(data=df)\n",
    "\n",
    "# Create a Buffer object that will hold the updated holoviews object\n",
    "buffer = Buffer(df_to_hv(df))\n",
    "\n",
    "# Define a callback function that updates the Buffer object whenever the Pipe object receives new data\n",
    "def callback(data):\n",
    "    buffer.send(df_to_hv(data))\n",
    "\n",
    "# Attach the callback function to the Pipe object\n",
    "pipe.add_subscriber(callback)\n",
    "\n",
    "# Plot the dataframe using hvplot\n",
    "plot = df.hvplot.scatter(x='x', y='y')\n",
    "\n",
    "# Combine the plot and the Buffer object\n",
    "layout = plot * buffer\n",
    "\n",
    "# Display the layout\n",
    "layout"
   ]
  },
  {
   "cell_type": "code",
   "execution_count": null,
   "metadata": {},
   "outputs": [],
   "source": [
    "import time\n",
    "import hvplot.pandas\n",
    "import pandas as pd\n",
    "\n",
    "# Define a function that updates a dictionary with a stream of data\n",
    "def update_dict(data):\n",
    "    # Initialize the dataframe\n",
    "    df = pd.DataFrame(columns=['x', 'y'])\n",
    "\n",
    "    # Loop over the data and update the dataframe\n",
    "    for x, y in data:\n",
    "        df = df._append({'x': x, 'y': y}, ignore_index=True)\n",
    "\n",
    "        # Plot the updated dataframe using hvplot\n",
    "        plot = df.hvplot.scatter(x='x', y='y', xlim=(0, 6), ylim=(0, 12))\n",
    "\n",
    "        # Display the plot\n",
    "        display(plot)\n",
    "\n",
    "        # Pause for a short time to simulate real-time streaming\n",
    "        time.sleep(1)\n",
    "\n",
    "# Define some example data\n",
    "data = [(1, 2), (2, 4), (3, 6), (4, 8), (5, 10)]\n",
    "\n",
    "# Update the dictionary with the data stream\n",
    "update_dict(data)"
   ]
  },
  {
   "cell_type": "code",
   "execution_count": null,
   "metadata": {},
   "outputs": [],
   "source": [
    "import time\n",
    "import numpy as np\n",
    "import pandas as pd\n",
    "import holoviews as hv\n",
    "import streamz\n",
    "import streamz.dataframe\n",
    "\n",
    "from holoviews import opts\n",
    "from holoviews.streams import Pipe, Buffer\n",
    "\n",
    "hv.extension('bokeh')"
   ]
  },
  {
   "cell_type": "code",
   "execution_count": null,
   "metadata": {},
   "outputs": [],
   "source": [
    "pipe = Pipe(data=[])\n",
    "vector_dmap = hv.DynamicMap(hv.VectorField, streams=[pipe])\n",
    "vector_dmap.opts(color='Magnitude', xlim=(-1, 1), ylim=(-1, 1))"
   ]
  },
  {
   "cell_type": "code",
   "execution_count": null,
   "metadata": {},
   "outputs": [],
   "source": [
    "x,y  = np.mgrid[-10:11,-10:11] * 0.1\n",
    "sine_rings  = np.sin(x**2+y**2)*np.pi+np.pi\n",
    "exp_falloff = 1/np.exp((x**2+y**2)/8)\n",
    "\n",
    "for i in np.linspace(0, 1, 25):\n",
    "    time.sleep(0.1)\n",
    "    pipe.send((x,y,sine_rings*i, exp_falloff))"
   ]
  },
  {
   "cell_type": "code",
   "execution_count": null,
   "metadata": {},
   "outputs": [],
   "source": [
    "example = pd.DataFrame({'x': [], 'y': [], 'count': []}, columns=['x', 'y', 'count'])\n",
    "dfstream = Buffer(example, length=100, index=False)\n",
    "curve_dmap = hv.DynamicMap(hv.Curve, streams=[dfstream])\n",
    "point_dmap = hv.DynamicMap(hv.Points, streams=[dfstream])"
   ]
  },
  {
   "cell_type": "code",
   "execution_count": null,
   "metadata": {},
   "outputs": [],
   "source": [
    "(curve_dmap * point_dmap).opts(\n",
    "    opts.Points(color='count', line_color='black', size=5, padding=0.1, xaxis=None, yaxis=None),\n",
    "    opts.Curve(line_width=1, color='black'))"
   ]
  },
  {
   "cell_type": "code",
   "execution_count": null,
   "metadata": {},
   "outputs": [],
   "source": [
    "def gen_brownian():\n",
    "    x, y, count = 0, 0, 0\n",
    "    while True:\n",
    "        x += np.random.randn()\n",
    "        y += np.random.randn()\n",
    "        count += 1\n",
    "        yield pd.DataFrame([(x, y, count)], columns=['x', 'y', 'count'])\n",
    "\n",
    "brownian = gen_brownian()\n",
    "for i in range(200):\n",
    "    dfstream.send(next(brownian))"
   ]
  },
  {
   "cell_type": "code",
   "execution_count": null,
   "metadata": {},
   "outputs": [],
   "source": [
    "simple_sdf = streamz.dataframe.Random(freq='10ms', interval='100ms')\n",
    "print(simple_sdf.index)\n",
    "simple_sdf.example.dtypes"
   ]
  },
  {
   "cell_type": "code",
   "execution_count": null,
   "metadata": {},
   "outputs": [],
   "source": [
    "sdf = (simple_sdf-0.5).cumsum()\n",
    "hv.DynamicMap(hv.Curve, streams=[Buffer(sdf.x)]).opts(width=500, show_grid=True)\n"
   ]
  },
  {
   "cell_type": "code",
   "execution_count": null,
   "metadata": {},
   "outputs": [],
   "source": [
    "\n",
    "import pandas as pd\n",
    "from time import sleep\n",
    "from datetime import datetime\n",
    "\n",
    "from streamz import Stream\n",
    "from streamz.dataframe import DataFrame\n",
    "\n",
    "\n",
    "#Set up a dummy dataframe\n",
    "ddf=pd.DataFrame({'a':range(1,5),'b':range(11,15)})\n",
    "#Create a stream source\n",
    "source = Stream()\n",
    "\n",
    "#Create a dataframe model for the stream\n",
    "samples = pd.DataFrame({'a':[0],'b':[0]})\n",
    "\n",
    "#Creating the streaming dataframe\n",
    "sdf = DataFrame(source, example=samples)\n",
    "\n",
    "#That window thing again...\n",
    "df = sdf.window(4).full()\n",
    "\n",
    "#FUnction to run when an item appears on the stream\n",
    "def stest(r):\n",
    "    print(datetime.now())\n",
    "    print(r)\n",
    "\n",
    "#Add the callback function to streamer\n",
    "df.stream.sink(stest)\n",
    "\n",
    "#This does stream from the dataframe\n",
    "for i in range(len(ddf)):\n",
    "    source.emit(ddf.iloc[i])\n",
    "    sleep(2)\n",
    "\n",
    "df"
   ]
  },
  {
   "cell_type": "code",
   "execution_count": null,
   "metadata": {},
   "outputs": [],
   "source": [
    "from tornado import gen\n",
    "from tornado.ioloop import PeriodicCallback\n",
    "\n",
    "from holoviews.streams import Buffer\n",
    "\n",
    "import holoviews as hv\n",
    "hv.extension('bokeh')\n",
    "\n",
    "\n",
    "import numpy as np\n",
    "import pandas as pd\n",
    "\n",
    "df = pd.DataFrame({'x':range(1000), 'y':np.sin(range(1000))})\n",
    "\n",
    "rowcount = 0\n",
    "maxrows = 1000\n",
    "\n",
    "dfbuffer = Buffer(np.zeros((0, 2)), length=20)\n",
    "\n",
    "@gen.coroutine\n",
    "def g():\n",
    "    global rowcount\n",
    "    item = df[['x','y']].iloc[rowcount].values.tolist()\n",
    "    dfbuffer.send(np.array([item]))\n",
    "    rowcount += 1\n",
    "\n",
    "    if rowcount>=maxrows:\n",
    "        cbdf.stop()\n",
    "\n",
    "\n",
    "\n",
    "#How can we get the thing to stop?\n",
    "\n",
    "cbdf = PeriodicCallback(g, 500)\n",
    "cbdf.start()\n",
    "hv.DynamicMap(hv.Curve, streams=[dfbuffer]).opts(padding=0.1, width=600, color = 'green',)"
   ]
  },
  {
   "cell_type": "code",
   "execution_count": null,
   "metadata": {},
   "outputs": [],
   "source": [
    "simple_sdf.start()"
   ]
  },
  {
   "cell_type": "code",
   "execution_count": null,
   "metadata": {},
   "outputs": [],
   "source": [
    "! pip install \"notebook>=5.3\" \"ipywidgets>=7.5\""
   ]
  },
  {
   "cell_type": "code",
   "execution_count": null,
   "metadata": {},
   "outputs": [],
   "source": [
    "# ! pip install --upgrade ipywidgets==7.7.2\n",
    "! pip install --upgrade ipywidgets==7.6 "
   ]
  },
  {
   "cell_type": "code",
   "execution_count": null,
   "metadata": {},
   "outputs": [],
   "source": [
    "! jupyter --v"
   ]
  },
  {
   "cell_type": "code",
   "execution_count": null,
   "metadata": {},
   "outputs": [],
   "source": []
  },
  {
   "cell_type": "code",
   "execution_count": null,
   "metadata": {},
   "outputs": [],
   "source": [
    "from streamz import Stream\n",
    "\n",
    "def query(df):\n",
    "    return df[df.name == 'Alice']\n",
    "\n",
    "def aggregate(acc, df):\n",
    "    return acc + df.amount.sum()\n",
    "\n",
    "stream = Stream()\n",
    "stream.map(query).accumulate(aggregate, start=0)"
   ]
  },
  {
   "cell_type": "code",
   "execution_count": null,
   "metadata": {},
   "outputs": [],
   "source": [
    "import pandas as pd\n",
    "from streamz.dataframe import DataFrame\n",
    "import panel as pn\n",
    "\n",
    "example = pd.DataFrame({'name': [], 'amount': []})\n",
    "sdf = DataFrame(stream, example=example)\n",
    "\n",
    "pn.Row(sdf[sdf.name == 'Alice'].amount.sum()).show()"
   ]
  },
  {
   "cell_type": "code",
   "execution_count": null,
   "metadata": {},
   "outputs": [],
   "source": [
    "import time\n",
    "import numpy as np\n",
    "import pandas as pd\n",
    "import holoviews as hv\n",
    "import streamz\n",
    "import streamz.dataframe\n",
    "\n",
    "from holoviews import opts\n",
    "from holoviews.streams import Pipe, Buffer\n",
    "\n",
    "hv.extension('bokeh')"
   ]
  },
  {
   "cell_type": "code",
   "execution_count": null,
   "metadata": {},
   "outputs": [],
   "source": [
    "point_source = streamz.Stream()\n",
    "pipe = Pipe(data=pd.DataFrame({'x': [1,2,3], 'y': [1,2,3], 'count': 3}))\n",
    "point_source.sliding_window(20).map(pd.concat).sink(pipe.send) # Connect streamz to the Pipe\n",
    "scatter_dmap = hv.DynamicMap(hv.Scatter, streams=[pipe])"
   ]
  },
  {
   "cell_type": "code",
   "execution_count": null,
   "metadata": {},
   "outputs": [],
   "source": [
    "pn.serve(pn.Row(scatter_dmap.opts(bgcolor='black', color='count', ylim=(-4, 4), show_legend=False)))"
   ]
  },
  {
   "cell_type": "code",
   "execution_count": null,
   "metadata": {},
   "outputs": [],
   "source": [
    "for i in range(50):\n",
    "    df = pd.DataFrame({'x': np.random.rand(3), 'y': np.random.randn(3), 'count': i},\n",
    "                      columns=['x', 'y', 'count'])\n",
    "    point_source.emit(df) # emit pushes data at this point into the stream that is point_source\n",
    "    # time.sleep(1)"
   ]
  },
  {
   "cell_type": "code",
   "execution_count": null,
   "metadata": {},
   "outputs": [],
   "source": []
  },
  {
   "cell_type": "code",
   "execution_count": null,
   "metadata": {},
   "outputs": [],
   "source": [
    "def gen_brownian():\n",
    "    x, y, count = 0, 0, 0\n",
    "    while True:\n",
    "        x += np.random.randn()\n",
    "        y += np.random.randn()\n",
    "        count += 1\n",
    "        yield pd.DataFrame([(x, y, count)], columns=['x', 'y', 'count'])\n",
    "\n",
    "brownian = gen_brownian()\n",
    "for i in range(200):\n",
    "    dfstream.send(next(brownian))"
   ]
  },
  {
   "cell_type": "markdown",
   "metadata": {},
   "source": [
    "### stream points"
   ]
  },
  {
   "cell_type": "code",
   "execution_count": null,
   "metadata": {},
   "outputs": [],
   "source": [
    "simple_sdf = streamz.dataframe.Random(freq='10ms', interval='100ms')\n",
    "# print(simple_sdf.index)\n",
    "# simple_sdf.example.dtypes\n",
    "\n",
    "sdf = simple_sdf\n",
    "# pn.serve(pn.Row(hv.DynamicMap(hv.Curve, streams=[Buffer(sdf.x)]).opts(width=500, show_grid=True)))"
   ]
  },
  {
   "cell_type": "code",
   "execution_count": null,
   "metadata": {},
   "outputs": [],
   "source": [
    "pn.serve(pn.Row(hv.DynamicMap(hv.Scatter, streams=[Buffer(sdf.x)]).redim.label(x='value', index='time')))\n"
   ]
  },
  {
   "cell_type": "markdown",
   "metadata": {},
   "source": [
    "# TRANSLATE INTO WITH DATES"
   ]
  },
  {
   "cell_type": "code",
   "execution_count": null,
   "metadata": {},
   "outputs": [],
   "source": [
    "## MAL\n",
    "simple_sdf = streamz.dataframe.Random(freq='10ms', interval='100ms')\n",
    "print(simple_sdf.index)\n",
    "simple_sdf.example.dtypes\n",
    "\n",
    "sdf = (simple_sdf-0.5).cumsum()\n",
    "pn.serve(pn.Row(hv.DynamicMap(hv.Curve, streams=[Buffer(sdf.x)]).opts(width=500, show_grid=True)))"
   ]
  },
  {
   "cell_type": "code",
   "execution_count": null,
   "metadata": {},
   "outputs": [],
   "source": [
    "sdf = streamz.dataframe.Random(freq='10ms', interval='100ms')\n",
    "print(simple_sdf.index)\n",
    "simple_sdf.example.dtypes\n",
    "\n",
    "sdf = (simple_sdf-0.5).cumsum()\n",
    "pn.serve(pn.Row(hv.DynamicMap(hv.Curve, streams=[Buffer(sdf.x)]).opts(width=500, show_grid=True)))"
   ]
  },
  {
   "cell_type": "code",
   "execution_count": null,
   "metadata": {},
   "outputs": [],
   "source": [
    "sdf = (simple_sdf-0.5).cumsum()\n",
    "pn.serve(pn.Row(hv.DynamicMap(hv.Curve, streams=[Buffer(sdf.x)]).opts(width=500, show_grid=True)))"
   ]
  },
  {
   "cell_type": "code",
   "execution_count": null,
   "metadata": {},
   "outputs": [],
   "source": [
    "sdf.stop()"
   ]
  },
  {
   "cell_type": "code",
   "execution_count": null,
   "metadata": {},
   "outputs": [],
   "source": [
    "!jupyter --version\n"
   ]
  },
  {
   "cell_type": "code",
   "execution_count": null,
   "metadata": {},
   "outputs": [],
   "source": [
    "!pip install jupyterlab==1\n",
    "\n"
   ]
  },
  {
   "cell_type": "code",
   "execution_count": null,
   "metadata": {},
   "outputs": [],
   "source": [
    "\n",
    "pn.param.ParamMethod.loading_indicator = True\n",
    "\n",
    "# Defining the paramterised class \n",
    "class CustomDashboard(param.Parameterized):\n",
    "    \n",
    "\n",
    "    df = pd.DataFrame({\"x\": np.random.randint(0, 10, 10), \"y\": np.random.randint(0, 10, 10)})\n",
    "\n",
    "\n",
    "\n",
    "\n",
    "    # @param.depends('show_all_dates', watch=True)\n",
    "    # def toggle_on_change(self) :\n",
    "    #     self.plot()\n",
    "    \n",
    "    \n",
    "\n",
    "\n",
    "\n",
    "    \n",
    "    #Main function for plotting. Too long, should be refactored with more functions\n",
    "    @param.depends('df') # TODO why does this function not depend on 'wellbore'? is it bc this funciton is indrectly triggered as sensor updates based on wellbore which will trigger this function?\n",
    "    def plot(self):\n",
    "        return df.hvplot.scatter(x=\"x\", y=\"y\")\n",
    "\n",
    "\n",
    "    \n",
    "    #Run update sensor method to populate sensor dropdown\n",
    "    def __init__(self, **params):\n",
    "        super().__init__(**params)\n",
    "        # self.update_sensors()\n",
    "\n",
    "\n",
    "\n",
    "\n",
    "\n",
    "\n",
    "\n",
    "\n",
    "\n",
    "        \n",
    "\n",
    "\n",
    "    def panel(self):\n",
    "        return pn.Row(\n",
    "            pn.Column(pn.Param(self.param), width = 300), pn.Row(self.plot)\n",
    "\n",
    "        )\n",
    "\n",
    "# Instantiate the dashboard\n",
    "dashboard = CustomDashboard()\n",
    "\n",
    "# Trigger initial sensor update\n",
    "#dashboard.update_sensors()\n",
    "\n",
    "# Display the dashboard\n",
    "dashboard.panel().show()\n",
    "\n",
    "\n",
    "\n"
   ]
  },
  {
   "cell_type": "code",
   "execution_count": null,
   "metadata": {},
   "outputs": [],
   "source": [
    "import hvplot.pandas  # noqa\n",
    "import pandas as pd\n",
    "import panel as pn\n",
    "\n",
    "pn.extension()\n",
    "\n",
    "\n",
    "def function_to_generate_dataframe(x):\n",
    "    # x only used to trigger the function\n",
    "    df = pd._testing.makeDataFrame()\n",
    "    df[\"C\"] = df[\"C\"].round()\n",
    "    return df\n",
    "\n",
    "\n",
    "widget = pn.widgets.IntSlider(end=100)\n",
    "hvplot.bind(function_to_generate_dataframe, widget).interactive().hvplot.scatter(x=\"A\", y=\"B\", by=\"C\")"
   ]
  },
  {
   "cell_type": "code",
   "execution_count": null,
   "metadata": {},
   "outputs": [],
   "source": [
    "!jupyter nbextension enable --py widgetsnbextension\n"
   ]
  }
 ],
 "metadata": {
  "kernelspec": {
   "display_name": "base",
   "language": "python",
   "name": "python3"
  },
  "language_info": {
   "codemirror_mode": {
    "name": "ipython",
    "version": 3
   },
   "file_extension": ".py",
   "mimetype": "text/x-python",
   "name": "python",
   "nbconvert_exporter": "python",
   "pygments_lexer": "ipython3",
   "version": "3.11.5"
  }
 },
 "nbformat": 4,
 "nbformat_minor": 2
}
