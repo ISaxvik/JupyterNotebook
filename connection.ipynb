{
 "cells": [
  {
   "cell_type": "code",
   "execution_count": null,
   "metadata": {},
   "outputs": [],
   "source": [
    "# %pip install hvplot\n",
    "# %pip install plotly\n",
    "# %pip install holoviews\n",
    "# %pip install xarray\n",
    "# %pip install panel"
   ]
  },
  {
   "cell_type": "code",
   "execution_count": null,
   "metadata": {},
   "outputs": [],
   "source": [
    "import numpy as np\n",
    "\n",
    "import datetime as dt\n",
    "import panel as pn\n",
    "\n",
    "pn.extension()\n",
    "import panel as pn\n",
    "import pandas as pd\n",
    "import numpy as np\n",
    "import random\n",
    "from datetime import datetime, timedelta\n",
    "\n",
    "import pathlib\n",
    "\n",
    "import holoviews as hv\n",
    "import matplotlib.pyplot as plt\n",
    "import hvplot\n",
    "import param\n",
    "import hvplot.pandas\n",
    "\n",
    "\n",
    "pn.extension(sizing_mode='stretch_width')\n",
    "\n",
    "pn.extension('perspective')"
   ]
  },
  {
   "cell_type": "code",
   "execution_count": null,
   "metadata": {},
   "outputs": [],
   "source": [
    "# Contact Project Administrator to get these\n",
    "TENANT_ID = \"3aa4a235-b6e2-48d5-9195-7fcf05b459b0\" # AAD using @equinor.com\n",
    "CLIENT_ID = \"3d7a85da-05ab-4675-b5f9-0c4b96a1c84b\" # CDF_ALL_USER_APPLICATION_FLOW\n",
    "CDF_CLUSTER = \"westeurope-1\"\n",
    "\n",
    "# -------------for DEV project-----------------\n",
    "COGNITE_PROJECT = \"equinor-dev\"\n",
    "\n",
    "# -------------for TEST project-----------------\n",
    "# COGNITE_PROJECT = \"equinor-test\""
   ]
  },
  {
   "cell_type": "code",
   "execution_count": null,
   "metadata": {},
   "outputs": [],
   "source": [
    "from cognite.client import CogniteClient\n",
    "client = CogniteClient.default_oauth_interactive(\n",
    "    project=COGNITE_PROJECT,\n",
    "    tenant_id=TENANT_ID,\n",
    "    client_id=CLIENT_ID,\n",
    "    cdf_cluster=CDF_CLUSTER,\n",
    "    client_name=\"my-cognite-python-test\", # a name to identify your session\n",
    ")\n",
    "from cognite.client.data_classes import LabelFilter"
   ]
  },
  {
   "cell_type": "code",
   "execution_count": null,
   "metadata": {},
   "outputs": [],
   "source": [
    "display(f'{client.version=} / {client.config.project=}')\n",
    "# print(client.iam.token.inspect())"
   ]
  },
  {
   "cell_type": "code",
   "execution_count": null,
   "metadata": {},
   "outputs": [],
   "source": [
    "#test"
   ]
  },
  {
   "cell_type": "code",
   "execution_count": null,
   "metadata": {},
   "outputs": [],
   "source": [
    "wellcom_dataset = \"src:015:wellcom\"\n",
    "edm_dataset = \"src:012:edm\"\n",
    "witsml_dataset = \"src:014:witsmldata\""
   ]
  },
  {
   "cell_type": "code",
   "execution_count": null,
   "metadata": {},
   "outputs": [],
   "source": [
    "active_wellbore = \"active:wellbore\"\n",
    "match_witsml = \"match:witsml:wellcom\" # sensor data only for johan svendrup\n",
    "match_edm = \"match:edm:wellcom\""
   ]
  },
  {
   "cell_type": "markdown",
   "metadata": {},
   "source": [
    "# defien and show datasets"
   ]
  },
  {
   "cell_type": "code",
   "execution_count": null,
   "metadata": {},
   "outputs": [],
   "source": [
    "#list wellcom wellbores that are active in WITSML\n",
    "active_wellbores = client.assets.list(data_set_external_ids = wellcom_dataset, labels=LabelFilter(contains_all=[active_wellbore]), limit=-1)\n",
    "active_wellbores"
   ]
  },
  {
   "cell_type": "code",
   "execution_count": null,
   "metadata": {},
   "outputs": [],
   "source": [
    "witsml_db  = client.time_series.list(data_set_external_ids = witsml_dataset, limit=-1)\n",
    "witsml_db"
   ]
  },
  {
   "cell_type": "markdown",
   "metadata": {},
   "source": [
    "## make to padnas"
   ]
  },
  {
   "cell_type": "code",
   "execution_count": null,
   "metadata": {},
   "outputs": [],
   "source": [
    "pd_active_wellbores = active_wellbores.to_pandas(metadata_prefix=active_wellbores)\n",
    "pd_active_wellbores"
   ]
  },
  {
   "cell_type": "code",
   "execution_count": null,
   "metadata": {},
   "outputs": [],
   "source": [
    "_pd_witsml = witsml_db.to_pandas(metadata_prefix=witsml_db)\n",
    "_pd_witsml"
   ]
  },
  {
   "cell_type": "markdown",
   "metadata": {},
   "source": [
    "### query pandas witsml"
   ]
  },
  {
   "cell_type": "code",
   "execution_count": null,
   "metadata": {},
   "outputs": [],
   "source": [
    "_pd_witsml.columns"
   ]
  },
  {
   "cell_type": "code",
   "execution_count": null,
   "metadata": {},
   "outputs": [],
   "source": [
    "import json \n",
    "import pandas as pd \n",
    "# from pandas.json_normalize import json_normalize #package for flattening json in pandas df"
   ]
  },
  {
   "cell_type": "markdown",
   "metadata": {},
   "source": [
    "## flatten witsml data"
   ]
  },
  {
   "cell_type": "code",
   "execution_count": null,
   "metadata": {},
   "outputs": [],
   "source": [
    "_pd_witsml_flattened = pd.concat([_pd_witsml.drop(['metadata'], axis=1), pd.json_normalize(_pd_witsml['metadata'])], axis=1)\n",
    "\n"
   ]
  },
  {
   "cell_type": "code",
   "execution_count": null,
   "metadata": {},
   "outputs": [],
   "source": [
    "_pd_witsml_flattened.columns"
   ]
  },
  {
   "cell_type": "code",
   "execution_count": null,
   "metadata": {},
   "outputs": [],
   "source": [
    "_pd_witsml_flattened = _pd_witsml_flattened[['id', 'uidWell', 'uidWellbore',  'nameWellbore','external_id', 'name', 'is_string', 'unit', 'asset_id', 'is_step',\n",
    "       'description', 'security_categories', 'data_set_id', 'created_time',\n",
    "       'last_updated_time', 'type', 'commonData_dTimCreation',\n",
    "       'commonData_dTimLastChange', 'commonData_itemState',\n",
    "       'commonData_sourceName', 'creationDate', 'direction',\n",
    "       'endDateTimeIndex', 'indexCurve', 'indexType', 'name', 'nameWell',\n",
    "       'nullValue', 'objectGrowing', 'serviceCompany',\n",
    "       'startDateTimeIndex',  'uidLog',\n",
    "       'unavailable_in_source', 'witsml-server-ref', 'source',\n",
    "       'curveDescription', 'maxDateTimeIndex', 'minDateTimeIndex', 'mnemAlias',\n",
    "       'mnemonic', 'typeLogData', 'uid', 'unit']]\n",
    "_pd_witsml_flattened"
   ]
  },
  {
   "cell_type": "code",
   "execution_count": null,
   "metadata": {},
   "outputs": [],
   "source": [
    "_pd_witsml_flattened[_pd_witsml_flattened['description'] == 'BITDEP']['external_id'].iloc[0]"
   ]
  },
  {
   "cell_type": "code",
   "execution_count": null,
   "metadata": {},
   "outputs": [],
   "source": [
    "_pd_witsml_flattened['nameWell'].nunique()"
   ]
  },
  {
   "cell_type": "code",
   "execution_count": null,
   "metadata": {},
   "outputs": [],
   "source": [
    "_df_name_is_cempumppr = _pd_witsml_flattened[_pd_witsml_flattened['description'] == 'CEMPUMPPR']"
   ]
  },
  {
   "cell_type": "code",
   "execution_count": null,
   "metadata": {},
   "outputs": [],
   "source": [
    "_df_name_is_cempumppr.sort_values(by=['startDateTimeIndex']).head(80)"
   ]
  },
  {
   "cell_type": "code",
   "execution_count": null,
   "metadata": {},
   "outputs": [],
   "source": [
    "len(_df_name_is_cempumppr)"
   ]
  },
  {
   "cell_type": "code",
   "execution_count": null,
   "metadata": {},
   "outputs": [],
   "source": [
    "len(_df_name_is_cempumppr['nameWellbore'].unique())"
   ]
  },
  {
   "cell_type": "markdown",
   "metadata": {},
   "source": [
    "## find sensorid to base real time data on"
   ]
  },
  {
   "cell_type": "code",
   "execution_count": null,
   "metadata": {},
   "outputs": [],
   "source": [
    "_df_name_is_bitdep = _pd_witsml_flattened[_pd_witsml_flattened['description'] == 'BITDEP']"
   ]
  },
  {
   "cell_type": "code",
   "execution_count": null,
   "metadata": {},
   "outputs": [],
   "source": [
    "_df_name_is_bitdep[_df_name_is_bitdep['nameWellbore'] == 'NO 16/2-D-15']"
   ]
  },
  {
   "cell_type": "markdown",
   "metadata": {},
   "source": [
    "## set sensorid"
   ]
  },
  {
   "cell_type": "code",
   "execution_count": null,
   "metadata": {},
   "outputs": [],
   "source": [
    "_sel_sensorid = int(_df_name_is_bitdep[_df_name_is_bitdep['nameWellbore'] == 'NO 16/2-D-15'].id.iloc[0])\n",
    "_sel_sensorid "
   ]
  },
  {
   "cell_type": "markdown",
   "metadata": {},
   "source": [
    "#### make list of all sensorids to use in panel"
   ]
  },
  {
   "cell_type": "code",
   "execution_count": null,
   "metadata": {},
   "outputs": [],
   "source": [
    "_sensorids_list = pd.Series(_df_name_is_bitdep['nameWellbore']).unique().tolist()\n",
    "# _sensorids_list"
   ]
  },
  {
   "cell_type": "code",
   "execution_count": null,
   "metadata": {},
   "outputs": [],
   "source": [
    "sr2 = pd.Series(pd.Series(_df_name_is_bitdep['nameWellbore']).tolist(), index = _df_name_is_bitdep['id'])\n",
    "d = {key: value for key, value in sr2.items()}\n",
    "_sensorids_list = d\n",
    "_sensorids_list\n"
   ]
  },
  {
   "cell_type": "markdown",
   "metadata": {},
   "source": [
    "#### panel choose _sel_sensorid"
   ]
  },
  {
   "cell_type": "code",
   "execution_count": null,
   "metadata": {},
   "outputs": [],
   "source": [
    "# indicator = pn.indicators.LoadingSpinner(value=False, size=25)\n",
    "# text = pn.widgets.TextInput(value='Start')\n",
    "\n",
    "# def update_indicator(event, clicks):\n",
    "#     if not event:\n",
    "#         return\n",
    "    \n",
    "#     indicator.value = not indicator.value\n",
    "#     text.value = f\"you have clicked me {clicks} times\"\n",
    "\n",
    "# pn.bind(update_indicator, test_widget, test_widget.param.clicks, watch=True)\n",
    "\n",
    "# pn.Column(pn.Row(test_widget, text),indicator)"
   ]
  },
  {
   "cell_type": "code",
   "execution_count": null,
   "metadata": {},
   "outputs": [],
   "source": [
    "# _sensorids_list = [{1:\"fefe\"}, {2 :\"foo\"}]"
   ]
  },
  {
   "cell_type": "code",
   "execution_count": null,
   "metadata": {},
   "outputs": [],
   "source": [
    "sr2 = pd.Series(pd.Series(_df_name_is_bitdep['nameWellbore']).tolist(), index = _df_name_is_bitdep['id'])\n",
    "d = {key: value for key, value in sr2.items()}\n",
    "_sensorids_list = d\n",
    "_sensorids_list\n",
    "\n",
    "\n",
    "\n",
    "_sel_sensorid_widget = pn.widgets.Select(name='Select', options=_sensorids_list)\n",
    "\n",
    "\n",
    "\n",
    "# def _update__sel_sensorid\n",
    "# @param.depends(_sel_sensorid_widget.param.values().__getattribute__('value'))\n",
    "def _update__sel_sensorid( self, value):\n",
    "    _sel_sensorid = value\n",
    "    return _sel_sensorid\n",
    "\n",
    "# bind _sel_sensorid to event _sel_sensorid_widget and display together with _sel_sensorid_widget\n",
    "pn.Row(_sel_sensorid_widget, _sel_sensorid_widget.param.values().__getitem__('value'), pn.bind(_update__sel_sensorid, _sel_sensorid_widget,value=_sel_sensorid_widget.param.values().__getitem__('value'), watch=True )).servable() \n",
    "\n",
    "# pn.Row(_sel_sensorid_widget, pn.bind(_update__sel_sensorid, _sel_sensorid_widget,value=_sel_sensorid_widget.param.values().items())).servable()"
   ]
  },
  {
   "cell_type": "code",
   "execution_count": null,
   "metadata": {},
   "outputs": [],
   "source": [
    "_sel_sensorid =_sel_sensorid_widget.param.values().__getitem__('value')\n",
    "_sel_sensorid\n",
    "## TODO why is _sel_sensorid not updating automatically?"
   ]
  },
  {
   "cell_type": "code",
   "execution_count": null,
   "metadata": {},
   "outputs": [],
   "source": [
    "_sel_sensorid"
   ]
  },
  {
   "cell_type": "code",
   "execution_count": null,
   "metadata": {},
   "outputs": [],
   "source": [
    "_sel_sensorid = 746172675242144"
   ]
  },
  {
   "cell_type": "code",
   "execution_count": null,
   "metadata": {},
   "outputs": [],
   "source": []
  },
  {
   "cell_type": "markdown",
   "metadata": {},
   "source": [
    "## TIME SERIES QUERY based on _sel_sensorid"
   ]
  },
  {
   "cell_type": "code",
   "execution_count": null,
   "metadata": {},
   "outputs": [],
   "source": [
    "from cognite.client.utils import MIN_TIMESTAMP_MS, MAX_TIMESTAMP_MS"
   ]
  },
  {
   "cell_type": "code",
   "execution_count": null,
   "metadata": {},
   "outputs": [],
   "source": [
    "client.time_series.data.retrieve(id=746172675242144,\n",
    "    start=MIN_TIMESTAMP_MS,\n",
    "    end=MAX_TIMESTAMP_MS + 1)"
   ]
  },
  {
   "cell_type": "code",
   "execution_count": null,
   "metadata": {},
   "outputs": [],
   "source": [
    "_df_real_time = client.time_series.data.retrieve(\n",
    "    id=_sel_sensorid,\n",
    "    start=MIN_TIMESTAMP_MS,\n",
    "    end=MAX_TIMESTAMP_MS + 1) \n",
    "_df_real_time\n"
   ]
  },
  {
   "cell_type": "markdown",
   "metadata": {},
   "source": [
    "## to pandas"
   ]
  },
  {
   "cell_type": "code",
   "execution_count": null,
   "metadata": {},
   "outputs": [],
   "source": [
    "_pd_real_time = _df_real_time.to_pandas( )\n",
    "# make Value columsn or easier filtering\n",
    "_pd_real_time['Value'] = _pd_real_time[_pd_real_time.columns]"
   ]
  },
  {
   "cell_type": "code",
   "execution_count": null,
   "metadata": {},
   "outputs": [],
   "source": [
    "_pd_real_time.sort_index(ascending=True)"
   ]
  },
  {
   "cell_type": "code",
   "execution_count": null,
   "metadata": {},
   "outputs": [],
   "source": [
    "_pd_real_time"
   ]
  },
  {
   "cell_type": "code",
   "execution_count": null,
   "metadata": {},
   "outputs": [],
   "source": [
    "\n",
    "_pd_real_time_plot = _pd_real_time\n",
    "# da['new_index'] = str(da.index)\n",
    "# da = da.drop(columns=['dw:witsml:log.1ac57fe7-4c90-4bc7-a350-8d17f077bb32.05424d07-6a7d-4ef2-acc1-2c2a6c2eb062.05424d07-6a7d-4ef2-acc1-2c2a6c2eb062.bitdep||v1'])\n",
    "# da.set_index('new_index')"
   ]
  },
  {
   "cell_type": "code",
   "execution_count": null,
   "metadata": {},
   "outputs": [],
   "source": [
    "_pd_real_time_plot = _pd_real_time_plot.drop(_pd_real_time_plot.columns[[0]], axis=1)  # _pd_witsml_flattened.columns is zero-based pd.Index\n",
    "_pd_real_time_plot['_new_index'] = _pd_real_time_plot.index\n",
    "_pd_real_time_plot"
   ]
  },
  {
   "cell_type": "code",
   "execution_count": null,
   "metadata": {},
   "outputs": [],
   "source": [
    "# from bokeh.sampledata.sea_surface_temperature import sea_surface_temperature as sst\n",
    "\n",
    "# sst.hvplot()"
   ]
  },
  {
   "cell_type": "code",
   "execution_count": null,
   "metadata": {},
   "outputs": [],
   "source": [
    "min(_pd_real_time_plot['_new_index'])\n",
    "# Timestamp('2022-01-26 07:42:42')"
   ]
  },
  {
   "cell_type": "code",
   "execution_count": null,
   "metadata": {},
   "outputs": [],
   "source": [
    "max(_pd_real_time_plot['_new_index'])"
   ]
  },
  {
   "cell_type": "code",
   "execution_count": null,
   "metadata": {},
   "outputs": [],
   "source": [
    "_pd_real_time_plot[pd.isnull(_pd_real_time_plot).any(axis=1)]"
   ]
  },
  {
   "cell_type": "markdown",
   "metadata": {},
   "source": [
    "## plot real time data"
   ]
  },
  {
   "cell_type": "code",
   "execution_count": null,
   "metadata": {},
   "outputs": [],
   "source": [
    "_pd_real_time_plot.hvplot(height=1000,\n",
    "    width=500, title='Real Time',\n",
    "    x='Value',\n",
    "    y=['_new_index'], \n",
    "    ylim=(min(_pd_real_time_plot['_new_index']), max(_pd_real_time_plot['_new_index']))\n",
    ").opts(invert_yaxis=True)"
   ]
  },
  {
   "cell_type": "markdown",
   "metadata": {},
   "source": [
    "## plot with panel"
   ]
  },
  {
   "cell_type": "code",
   "execution_count": null,
   "metadata": {},
   "outputs": [],
   "source": [
    "# sr2 = pd.Series(pd.Series(_pd_witsml_flattened['id']).tolist(), index = _pd_witsml_flattened['id'])\n",
    "# d = {key: value for key, value in sr2.items()}\n",
    "# _sensorids_list = d\n",
    "_sensorids_list = pd.Series(_pd_witsml_flattened['id']).tolist()\n",
    "\n",
    "\n",
    "\n",
    "# create the Select widget\n",
    "_sel_sensorid_widget = pn.widgets.Select(name='Select', options=_sensorids_list, width=200)\n",
    "\n",
    "\n",
    "\n",
    "# def _update__sel_sensorid\n",
    "# @param.depends(_sel_sensorid_widget.param.values().__getattribute__('value'))\n",
    "def _update__sel_sensorid(value):\n",
    "    _sel_sensorid = value\n",
    "    # do something with _sel_sensorid\n",
    "    return _sel_sensorid\n",
    "\n",
    "# bind _sel_sensorid to event _sel_sensorid_widget and display together with _sel_sensorid_widget\n",
    "# pn.Row(_sel_sensorid_widget, _sel_sensorid_widget.param.values().__getitem__('value'), pn.bind(_update__sel_sensorid, _sel_sensorid_widget,value=_sel_sensorid_widget.param.values().__getitem__('value'), watch=True )).servable() \n",
    "\n",
    "# pn.Row(_sel_sensorid_widget, pn.bind(_update__sel_sensorid, _sel_sensorid_widget,value=_sel_sensorid_widget.param.values().items())).servable()"
   ]
  },
  {
   "cell_type": "markdown",
   "metadata": {},
   "source": [
    "#### make plot"
   ]
  },
  {
   "cell_type": "code",
   "execution_count": null,
   "metadata": {},
   "outputs": [],
   "source": [
    "\n",
    "# make plot of real time data\n",
    "plot =_pd_real_time_plot.hvplot(height=1000,\n",
    "    width=500, title='Real Time',\n",
    "    x='Value',\n",
    "    y='_new_index', \n",
    "    ylim=(min(_pd_real_time_plot['_new_index']), max(_pd_real_time_plot['_new_index']))\n",
    ").opts(invert_yaxis=True)\n",
    "\n",
    "\n"
   ]
  },
  {
   "cell_type": "markdown",
   "metadata": {},
   "source": [
    "#### show panel"
   ]
  },
  {
   "cell_type": "code",
   "execution_count": null,
   "metadata": {},
   "outputs": [],
   "source": [
    "\n",
    "# bind the update function to the widget\n",
    "_sel_sensorid_widget.param.watch(_update__sel_sensorid, 'value')\n",
    "\n",
    "# display the widget and plot side by side\n",
    "pn.Row(_sel_sensorid_widget, plot,_sel_sensorid_widget.value).servable()"
   ]
  },
  {
   "cell_type": "markdown",
   "metadata": {},
   "source": [
    "## trying with plotly"
   ]
  },
  {
   "cell_type": "code",
   "execution_count": null,
   "metadata": {},
   "outputs": [],
   "source": [
    "pn.pane.Perspective(\n",
    "    _pd_real_time,columns=['Value']\n",
    ").servable()"
   ]
  }
 ],
 "metadata": {
  "kernelspec": {
   "display_name": "Python 3",
   "language": "python",
   "name": "python3"
  },
  "language_info": {
   "codemirror_mode": {
    "name": "ipython",
    "version": 3
   },
   "file_extension": ".py",
   "mimetype": "text/x-python",
   "name": "python",
   "nbconvert_exporter": "python",
   "pygments_lexer": "ipython3",
   "version": "3.11.5"
  }
 },
 "nbformat": 4,
 "nbformat_minor": 2
}
