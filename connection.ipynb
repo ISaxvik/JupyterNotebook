{
 "cells": [
  {
   "cell_type": "markdown",
   "metadata": {},
   "source": [
    "### Installs \n",
    "##### - in dev container for codespaces"
   ]
  },
  {
   "cell_type": "code",
   "execution_count": null,
   "metadata": {},
   "outputs": [],
   "source": [
    "# %pip install hvplot\n",
    "# %pip install plotly\n",
    "# %pip install holoviews\n",
    "# %pip install xarray\n",
    "# %pip install panel\n",
    "# %pip install matplotlib\n",
    "# %pip install jupyter_bokeh\n",
    "# %pip install cognite-sdk\n",
    "# %pip install cognite\n"
   ]
  },
  {
   "cell_type": "markdown",
   "metadata": {},
   "source": [
    "### Imports"
   ]
  },
  {
   "cell_type": "code",
   "execution_count": null,
   "metadata": {},
   "outputs": [],
   "source": [
    "import numpy as np\n",
    "\n",
    "import datetime as dt\n",
    "import panel as pn\n",
    "\n",
    "pn.extension()\n",
    "import panel as pn\n",
    "import pandas as pd\n",
    "import numpy as np\n",
    "import random\n",
    "from datetime import datetime, timedelta\n",
    "import json \n",
    "import pandas as pd \n",
    "# from pandas.json_normalize import json_normalize #package for flattening json in pandas df\n",
    "\n",
    "import pathlib\n",
    "\n",
    "import holoviews as hv\n",
    "import matplotlib.pyplot as plt\n",
    "import hvplot\n",
    "import param\n",
    "import hvplot.pandas\n",
    "\n",
    "\n",
    "pn.extension(sizing_mode='stretch_width')\n",
    "\n",
    "pn.extension('perspective')\n",
    "from cognite.client.utils import MIN_TIMESTAMP_MS, MAX_TIMESTAMP_MS"
   ]
  },
  {
   "cell_type": "markdown",
   "metadata": {},
   "source": [
    "### cognite credentials"
   ]
  },
  {
   "cell_type": "code",
   "execution_count": null,
   "metadata": {},
   "outputs": [],
   "source": [
    "# Contact Project Administrator to get these\n",
    "TENANT_ID = \"3aa4a235-b6e2-48d5-9195-7fcf05b459b0\" # AAD using @equinor.com\n",
    "CLIENT_ID = \"3d7a85da-05ab-4675-b5f9-0c4b96a1c84b\" # CDF_ALL_USER_APPLICATION_FLOW\n",
    "CDF_CLUSTER = \"westeurope-1\"\n",
    "\n",
    "# -------------for DEV project-----------------\n",
    "COGNITE_PROJECT = \"equinor-dev\"\n",
    "\n",
    "# -------------for TEST project-----------------\n",
    "# COGNITE_PROJECT = \"equinor-test\""
   ]
  },
  {
   "cell_type": "code",
   "execution_count": null,
   "metadata": {},
   "outputs": [],
   "source": [
    "from cognite.client import CogniteClient\n",
    "client = CogniteClient.default_oauth_interactive(\n",
    "    project=COGNITE_PROJECT,\n",
    "    tenant_id=TENANT_ID,\n",
    "    client_id=CLIENT_ID,\n",
    "    cdf_cluster=CDF_CLUSTER,\n",
    "    client_name=\"my-cognite-python-test\", # a name to identify your session\n",
    ")\n",
    "from cognite.client.data_classes import LabelFilter"
   ]
  },
  {
   "cell_type": "code",
   "execution_count": null,
   "metadata": {},
   "outputs": [],
   "source": [
    "display(f'{client.version=} / {client.config.project=}')\n",
    "# print(client.iam.token.inspect())"
   ]
  },
  {
   "cell_type": "code",
   "execution_count": null,
   "metadata": {},
   "outputs": [],
   "source": [
    "#test"
   ]
  },
  {
   "cell_type": "code",
   "execution_count": null,
   "metadata": {},
   "outputs": [],
   "source": [
    "wellcom_dataset = \"src:015:wellcom\"\n",
    "edm_dataset = \"src:012:edm\"\n",
    "witsml_dataset = \"src:014:witsmldata\""
   ]
  },
  {
   "cell_type": "code",
   "execution_count": null,
   "metadata": {},
   "outputs": [],
   "source": [
    "active_wellbore = \"active:wellbore\"\n",
    "match_witsml = \"match:witsml:wellcom\" # sensor data only for johan svendrup\n",
    "match_edm = \"match:edm:wellcom\""
   ]
  },
  {
   "cell_type": "markdown",
   "metadata": {},
   "source": [
    "# defien and show datasets"
   ]
  },
  {
   "cell_type": "code",
   "execution_count": null,
   "metadata": {},
   "outputs": [],
   "source": [
    "#list wellcom wellbores that are active in WITSML\n",
    "active_wellbores = client.assets.list(data_set_external_ids = wellcom_dataset, labels=LabelFilter(contains_all=[active_wellbore]), limit=-1)\n",
    "active_wellbores"
   ]
  },
  {
   "cell_type": "code",
   "execution_count": null,
   "metadata": {},
   "outputs": [],
   "source": [
    "witsml_db  = client.time_series.list(data_set_external_ids = witsml_dataset, limit=-1)\n",
    "witsml_db"
   ]
  },
  {
   "cell_type": "markdown",
   "metadata": {},
   "source": [
    "## make to padnas"
   ]
  },
  {
   "cell_type": "code",
   "execution_count": null,
   "metadata": {},
   "outputs": [],
   "source": [
    "pd_active_wellbores = active_wellbores.to_pandas(metadata_prefix=active_wellbores)\n",
    "pd_active_wellbores"
   ]
  },
  {
   "cell_type": "code",
   "execution_count": null,
   "metadata": {},
   "outputs": [],
   "source": [
    "_pd_witsml = witsml_db.to_pandas(metadata_prefix=witsml_db)\n",
    "_pd_witsml"
   ]
  },
  {
   "cell_type": "markdown",
   "metadata": {},
   "source": [
    "### query pandas witsml"
   ]
  },
  {
   "cell_type": "code",
   "execution_count": null,
   "metadata": {},
   "outputs": [],
   "source": [
    "_pd_witsml.columns"
   ]
  },
  {
   "cell_type": "markdown",
   "metadata": {},
   "source": [
    "## flatten witsml data"
   ]
  },
  {
   "cell_type": "code",
   "execution_count": null,
   "metadata": {},
   "outputs": [],
   "source": [
    "_pd_witsml_flattened = pd.concat([_pd_witsml.drop(['metadata'], axis=1), pd.json_normalize(_pd_witsml['metadata'])], axis=1)\n",
    "\n"
   ]
  },
  {
   "cell_type": "code",
   "execution_count": null,
   "metadata": {},
   "outputs": [],
   "source": [
    "_pd_witsml_flattened.columns"
   ]
  },
  {
   "cell_type": "code",
   "execution_count": null,
   "metadata": {},
   "outputs": [],
   "source": [
    "_pd_witsml_flattened = _pd_witsml_flattened[['id', 'uidWell', 'uidWellbore',  'nameWellbore','external_id', 'name', 'is_string', 'unit', 'asset_id', 'is_step',\n",
    "       'description', 'security_categories', 'data_set_id', 'created_time',\n",
    "       'last_updated_time', 'type', 'commonData_dTimCreation',\n",
    "       'commonData_dTimLastChange', 'commonData_itemState',\n",
    "       'commonData_sourceName', 'creationDate', 'direction',\n",
    "       'endDateTimeIndex', 'indexCurve', 'indexType', 'name', 'nameWell',\n",
    "       'nullValue', 'objectGrowing', 'serviceCompany',\n",
    "       'startDateTimeIndex',  'uidLog',\n",
    "       'unavailable_in_source', 'witsml-server-ref', 'source',\n",
    "       'curveDescription', 'maxDateTimeIndex', 'minDateTimeIndex', 'mnemAlias',\n",
    "       'mnemonic', 'typeLogData', 'uid', 'unit']]\n",
    "_pd_witsml_flattened"
   ]
  },
  {
   "cell_type": "code",
   "execution_count": null,
   "metadata": {},
   "outputs": [],
   "source": [
    "_pd_witsml_flattened[_pd_witsml_flattened['description'] == 'BITDEP']['external_id'].iloc[0]"
   ]
  },
  {
   "cell_type": "code",
   "execution_count": null,
   "metadata": {},
   "outputs": [],
   "source": [
    "_pd_witsml_flattened['nameWell'].nunique()"
   ]
  },
  {
   "cell_type": "code",
   "execution_count": null,
   "metadata": {},
   "outputs": [],
   "source": [
    "_df_name_is_cempumppr = _pd_witsml_flattened[_pd_witsml_flattened['description'] == 'CEMPUMPPR']"
   ]
  },
  {
   "cell_type": "code",
   "execution_count": null,
   "metadata": {},
   "outputs": [],
   "source": [
    "_df_name_is_cempumppr.sort_values(by=['startDateTimeIndex']).head(80)"
   ]
  },
  {
   "cell_type": "code",
   "execution_count": null,
   "metadata": {},
   "outputs": [],
   "source": [
    "len(_df_name_is_cempumppr)"
   ]
  },
  {
   "cell_type": "code",
   "execution_count": null,
   "metadata": {},
   "outputs": [],
   "source": [
    "len(_df_name_is_cempumppr['nameWellbore'].unique())"
   ]
  },
  {
   "cell_type": "markdown",
   "metadata": {},
   "source": [
    "## find sensorid to base real time data on"
   ]
  },
  {
   "cell_type": "code",
   "execution_count": null,
   "metadata": {},
   "outputs": [],
   "source": [
    "_df_name_is_bitdep = _pd_witsml_flattened[_pd_witsml_flattened['description'] == 'BITDEP']"
   ]
  },
  {
   "cell_type": "code",
   "execution_count": null,
   "metadata": {},
   "outputs": [],
   "source": [
    "_df_name_is_bitdep[_df_name_is_bitdep['nameWellbore'] == 'NO 16/2-D-18']"
   ]
  },
  {
   "cell_type": "markdown",
   "metadata": {},
   "source": [
    "## set sensorid"
   ]
  },
  {
   "cell_type": "code",
   "execution_count": null,
   "metadata": {},
   "outputs": [],
   "source": [
    "_sel_sensorid = int(_df_name_is_bitdep[_df_name_is_bitdep['nameWellbore'] == 'NO 16/2-D-15'].id.iloc[0])\n",
    "_sel_sensorid "
   ]
  },
  {
   "cell_type": "markdown",
   "metadata": {},
   "source": [
    "#### make list of all sensorids to use in panel"
   ]
  },
  {
   "cell_type": "code",
   "execution_count": null,
   "metadata": {},
   "outputs": [],
   "source": [
    "_sensorids_list = pd.Series(_df_name_is_bitdep['nameWellbore']).unique().tolist()\n",
    "# _sensorids_list"
   ]
  },
  {
   "cell_type": "code",
   "execution_count": null,
   "metadata": {},
   "outputs": [],
   "source": [
    "sr2 = pd.Series(pd.Series(_df_name_is_bitdep['nameWellbore']).tolist(), index = _df_name_is_bitdep['id'])\n",
    "d = {key: value for key, value in sr2.items()}\n",
    "_sensorids_list = d\n",
    "_sensorids_list\n"
   ]
  },
  {
   "cell_type": "markdown",
   "metadata": {},
   "source": [
    "#### panel choose _sel_sensorid"
   ]
  },
  {
   "cell_type": "code",
   "execution_count": null,
   "metadata": {},
   "outputs": [],
   "source": [
    "# indicator = pn.indicators.LoadingSpinner(value=False, size=25)\n",
    "# text = pn.widgets.TextInput(value='Start')\n",
    "\n",
    "# def update_indicator(event, clicks):\n",
    "#     if not event:\n",
    "#         return\n",
    "    \n",
    "#     indicator.value = not indicator.value\n",
    "#     text.value = f\"you have clicked me {clicks} times\"\n",
    "\n",
    "# pn.bind(update_indicator, test_widget, test_widget.param.clicks, watch=True)\n",
    "\n",
    "# pn.Column(pn.Row(test_widget, text),indicator)"
   ]
  },
  {
   "cell_type": "code",
   "execution_count": null,
   "metadata": {},
   "outputs": [],
   "source": [
    "# _sensorids_list = [{1:\"fefe\"}, {2 :\"foo\"}]"
   ]
  },
  {
   "cell_type": "code",
   "execution_count": null,
   "metadata": {},
   "outputs": [],
   "source": [
    "sr2 = pd.Series(pd.Series(_df_name_is_bitdep['nameWellbore']).tolist(), index = _df_name_is_bitdep['id'])\n",
    "d = {key: value for key, value in sr2.items()}\n",
    "_sensorids_list = d\n",
    "_sensorids_list\n",
    "\n",
    "\n",
    "\n",
    "_sel_sensorid_widget = pn.widgets.Select(name='Select', options=_sensorids_list)\n",
    "\n",
    "\n",
    "\n",
    "# def _update__sel_sensorid\n",
    "# @param.depends(_sel_sensorid_widget.param.values().__getattribute__('value'))\n",
    "def _update__sel_sensorid( self, value):\n",
    "    _sel_sensorid = value\n",
    "    return _sel_sensorid\n",
    "\n",
    "# bind _sel_sensorid to event _sel_sensorid_widget and display together with _sel_sensorid_widget\n",
    "pn.Row(_sel_sensorid_widget, _sel_sensorid_widget.param.values().__getitem__('value'), pn.bind(_update__sel_sensorid, _sel_sensorid_widget,value=_sel_sensorid_widget.param.values().__getitem__('value'), watch=True )).servable() \n",
    "\n",
    "# pn.Row(_sel_sensorid_widget, pn.bind(_update__sel_sensorid, _sel_sensorid_widget,value=_sel_sensorid_widget.param.values().items())).servable()"
   ]
  },
  {
   "cell_type": "code",
   "execution_count": null,
   "metadata": {},
   "outputs": [],
   "source": [
    "_sel_sensorid =_sel_sensorid_widget.param.values().__getitem__('value')\n",
    "_sel_sensorid\n",
    "## TODO why is _sel_sensorid not updating automatically?"
   ]
  },
  {
   "cell_type": "code",
   "execution_count": null,
   "metadata": {},
   "outputs": [],
   "source": [
    "_sel_sensorid"
   ]
  },
  {
   "cell_type": "code",
   "execution_count": null,
   "metadata": {},
   "outputs": [],
   "source": [
    "_sel_sensorid = 746172675242144"
   ]
  },
  {
   "cell_type": "code",
   "execution_count": null,
   "metadata": {},
   "outputs": [],
   "source": []
  },
  {
   "cell_type": "markdown",
   "metadata": {},
   "source": [
    "## TIME SERIES QUERY based on _sel_sensorid"
   ]
  },
  {
   "cell_type": "code",
   "execution_count": null,
   "metadata": {},
   "outputs": [],
   "source": [
    "client.time_series.data.retrieve(id=746172675242144,\n",
    "    start=MIN_TIMESTAMP_MS,\n",
    "    end=MAX_TIMESTAMP_MS + 1)"
   ]
  },
  {
   "cell_type": "code",
   "execution_count": null,
   "metadata": {},
   "outputs": [],
   "source": [
    "_df_real_time = client.time_series.data.retrieve(\n",
    "    id=_sel_sensorid,\n",
    "    start=MIN_TIMESTAMP_MS,\n",
    "    end=MAX_TIMESTAMP_MS + 1) \n",
    "_df_real_time\n"
   ]
  },
  {
   "cell_type": "markdown",
   "metadata": {},
   "source": [
    "## to pandas"
   ]
  },
  {
   "cell_type": "code",
   "execution_count": null,
   "metadata": {},
   "outputs": [],
   "source": [
    "_pd_real_time = _df_real_time.to_pandas( )\n",
    "# make Value columsn or easier filtering\n",
    "_pd_real_time['Value'] = _pd_real_time[_pd_real_time.columns]"
   ]
  },
  {
   "cell_type": "code",
   "execution_count": null,
   "metadata": {},
   "outputs": [],
   "source": [
    "_pd_real_time.sort_index(ascending=True)"
   ]
  },
  {
   "cell_type": "code",
   "execution_count": null,
   "metadata": {},
   "outputs": [],
   "source": [
    "_pd_real_time"
   ]
  },
  {
   "cell_type": "code",
   "execution_count": null,
   "metadata": {},
   "outputs": [],
   "source": [
    "\n",
    "_pd_real_time_plot = _pd_real_time\n",
    "# da['new_index'] = str(da.index)\n",
    "# da = da.drop(columns=['dw:witsml:log.1ac57fe7-4c90-4bc7-a350-8d17f077bb32.05424d07-6a7d-4ef2-acc1-2c2a6c2eb062.05424d07-6a7d-4ef2-acc1-2c2a6c2eb062.bitdep||v1'])\n",
    "# da.set_index('new_index')"
   ]
  },
  {
   "cell_type": "code",
   "execution_count": null,
   "metadata": {},
   "outputs": [],
   "source": [
    "_pd_real_time_plot = _pd_real_time_plot.drop(_pd_real_time_plot.columns[[0]], axis=1)  # _pd_witsml_flattened.columns is zero-based pd.Index\n",
    "_pd_real_time_plot['Date'] = _pd_real_time_plot.index\n",
    "_pd_real_time_plot"
   ]
  },
  {
   "cell_type": "code",
   "execution_count": null,
   "metadata": {},
   "outputs": [],
   "source": [
    "# from bokeh.sampledata.sea_surface_temperature import sea_surface_temperature as sst\n",
    "\n",
    "# sst.hvplot()"
   ]
  },
  {
   "cell_type": "code",
   "execution_count": null,
   "metadata": {},
   "outputs": [],
   "source": [
    "min(_pd_real_time_plot['Date'])\n",
    "# Timestamp('2022-01-26 07:42:42')"
   ]
  },
  {
   "cell_type": "code",
   "execution_count": null,
   "metadata": {},
   "outputs": [],
   "source": [
    "max(_pd_real_time_plot['Date'])"
   ]
  },
  {
   "cell_type": "code",
   "execution_count": null,
   "metadata": {},
   "outputs": [],
   "source": [
    "# _pd_real_time_plot[pd.isnull(_pd_real_time_plot).any(axis=1)]"
   ]
  },
  {
   "cell_type": "markdown",
   "metadata": {},
   "source": [
    "# Da Real Sht"
   ]
  },
  {
   "cell_type": "code",
   "execution_count": null,
   "metadata": {},
   "outputs": [],
   "source": [
    "from bokeh.models import DatetimeTickFormatter\n"
   ]
  },
  {
   "cell_type": "code",
   "execution_count": null,
   "metadata": {},
   "outputs": [],
   "source": [
    "_w_test = pn.widgets.Select(options=[1,2,3])\n",
    "_w_test"
   ]
  },
  {
   "cell_type": "code",
   "execution_count": null,
   "metadata": {},
   "outputs": [],
   "source": [
    "_w_test.options = [4,5]"
   ]
  },
  {
   "cell_type": "code",
   "execution_count": null,
   "metadata": {},
   "outputs": [],
   "source": [
    "_w_test"
   ]
  },
  {
   "cell_type": "code",
   "execution_count": null,
   "metadata": {},
   "outputs": [],
   "source": [
    "import datetime\n",
    "\n",
    "# Convert Unix timestamp to datetime object\n",
    "unix_timestamp = 1.669268e+09\n",
    "dt = datetime.datetime.fromtimestamp(unix_timestamp)\n",
    "\n",
    "# Print the datetime object\n",
    "print(dt)\n",
    "\n"
   ]
  },
  {
   "cell_type": "code",
   "execution_count": null,
   "metadata": {},
   "outputs": [],
   "source": [
    "# Format the datetime object as a string\n",
    "date_str = dt.strftime('%Y-%m-%d:%H:%M:%S')\n",
    "\n",
    "# Print the formatted string\n",
    "print(date_str)"
   ]
  },
  {
   "cell_type": "markdown",
   "metadata": {},
   "source": [
    "# Make stuff"
   ]
  },
  {
   "cell_type": "code",
   "execution_count": null,
   "metadata": {},
   "outputs": [],
   "source": [
    "#### REWQRITE PROPER NEW ONES\n",
    "\n",
    "\n",
    "# make lists to use in widgets\n",
    "def _make_wellbores_list(df):\n",
    "    _wellbores_list = pd.Series(df['nameWellbore']).unique().tolist()\n",
    "    return _wellbores_list\n",
    "\n",
    "def _make_sensortypes_list(df):\n",
    "    # wellbore = _w_wellbore\n",
    "    # _sensortypes_list = pd.Series(_pd_witsml_flattened[_pd_witsml_flattened['nameWellbore'] == _w_wellbore.param.values().__getitem__('value')]['uid']).unique().tolist() # TODO filter by wellbore as not all wellbores have all sensortypes    print(\"_make_sensortypes_list\")\n",
    "    _sensortypes_list = pd.Series(_pd_witsml_flattened['uid']).unique().tolist() # TODO filter by wellbore as not all wellbores have all sensortypes    print(\"_make_sensortypes_list\")\n",
    "    # print(len(_sensortypes_list))\n",
    "    return _sensortypes_list\n",
    "\n",
    "\n",
    "\n",
    "\n",
    "## make widgets\n",
    "def _w_wellbores_select(df):\n",
    "    \"\"\"\n",
    "    Args: df on the format of _pd_witsml_flattened\n",
    "    \"\"\"\n",
    "    _wellbore = pn.widgets.Select(name='Select wellbore', options=_make_wellbores_list(df))\n",
    "    return _wellbore\n",
    "\n",
    "def _w_sensortypes_select(df):\n",
    "    \"\"\"\n",
    "    Args: df on the format of _pd_witsml_flattened\n",
    "    \"\"\"\n",
    "    _sensor_type = pn.widgets.Select(name='Select sensor type', options=_make_sensortypes_list(df))\n",
    "    return _sensor_type\n",
    "\n",
    "\n",
    "# Set widgets\n",
    "_w_sensortype = _w_sensortypes_select(_pd_witsml_flattened)\n",
    "_w_wellbore = _w_wellbores_select(_pd_witsml_flattened)\n",
    "\n",
    "\n",
    "\n",
    "\n",
    "\n",
    "\n",
    "\n",
    "#plot data \n",
    "def create_plot(_interactive, next_var = str | None, test=\"false\"):#, wellbore, sensortype, df_witsml):\n",
    "    ''' Plots data '''    \n",
    "    # _sensortype = _w_sensortype.param.get_param_values().__getitem__(24)[1]\n",
    "    print(\"below is from create_plot\")\n",
    "    _sensortype = _w_sensortype\n",
    "    _wellbore = _w_wellbore\n",
    "    # print(_sensortype)\n",
    "    line_plot = _interactive.hvplot(height=1000,\n",
    "\n",
    "        width=500, title= 'Real Time data for ' + \" \",# + str(dict(_w_sensortype.param.values().items())['value']),# + _wellbore,\n",
    "        x='Value',\n",
    "        xlabel = _sensortype,\n",
    "        # hover_cols=['Description'],\n",
    "        # y=['Date'],\n",
    "        y=['Date_Seconds'],\n",
    "\n",
    "        autorange=\"y\"\n",
    "        # value_label = 'Date'\n",
    "        # ,ylim=(min(df['Date']), max(df['Date']))#,\n",
    "    ).opts(invert_yaxis=True)\n",
    "\n",
    "    constant_x = 10\n",
    "    formatter = DatetimeTickFormatter(\n",
    "    years='%Y') \n",
    "    # years = \"%Y\",\n",
    "    # months = \"%m/%Y\",\n",
    "    # days=\"%m/%d %H:%M\",\n",
    "    # hours=\"%m/%d %H:%M\",\n",
    "\n",
    "\n",
    "\n",
    "\n",
    "\n",
    "        # Fasit for giterating over interactive\n",
    "    testing =  _interactive[_interactive['ystartRect'].notna()]\n",
    "    print(testing)\n",
    "    rectangles = []\n",
    "\n",
    "    # Define a function to get a tuple of values from columns COLA and COLB\n",
    "    def get_tuple(row):\n",
    "        # rectangles.append({row['labelRect'] : (-133570, row['yend_secondsRect'], 133570, row['ystart_secondsRect'] )})\n",
    "        rectangles.append((-1.669268e+012, row['yend_secondsRect'], 1.669268e+12, row['ystart_secondsRect'] ))\n",
    "\n",
    "        # return (row['key'], row['ystartRect'])\n",
    "\n",
    "\n",
    "    # Use a list comprehension to extract the values from the dictionaries\n",
    "    # values = [tuple(dictionary.values()) for dictionary in rectangles]\n",
    "\n",
    "    # Print the values\n",
    "    # print(values)\n",
    "\n",
    "    # Initialize an empty list to store the tuples\n",
    "\n",
    "\n",
    "    testing.apply(get_tuple, axis=1)\n",
    "    # rectangles\n",
    "\n",
    "# set colors of rectanlges\n",
    "    # for dict in rectangles:\n",
    "    #     if '- D' in dict:\n",
    "    #         fill_color = 'red'\n",
    "    #     elif '- U' in dict:\n",
    "    #         fill_color = 'green'\n",
    "    #     else:\n",
    "    #         fill_color = 'orange'\n",
    "\n",
    "\n",
    "    hv_rectangles = hv.Rectangles(rectangles)\n",
    "    overlay = line_plot.opts(yformatter = formatter) + (line_plot.opts(color='white') * hv_rectangles).opts(yformatter = formatter)\n",
    "    # overlay = line_plot + (line_plot * hv_rectangles)\n",
    "\n",
    "\n",
    "\n",
    "\n",
    "\n",
    "\n",
    "    # x=pd.Series([constant_x] * num_rows)\n",
    "    # scatter_plot = _interactive.hvplot(y=['DescriptionDate'],hover_cols=['Description'], kind='scatter')\n",
    "    # combined_plot  =plot * scatter_plot\n",
    "\n",
    "        ### THIS ONE - edit with pd.Timestamp() instead\n",
    "    # Define the coordinates of the rectangles\n",
    "    # rectangles = [\n",
    "    #     {'x': 2000000000000.00, 'ystart': pd.Timestamp('2022-11-24 05:27:00'), 'yend':pd.Timestamp('2022-11-25 05:27:00') ,'width': 20000000000000.00,  'label': 'Rectangle 1 - U'}, #'height': 200000.00,\n",
    "    #     {'x': 2000000000000.00, 'ystart': pd.Timestamp('2022-11-29 05:25:00'), 'yend': pd.Timestamp('2022-12-02 05:27:00'),'width': 20000000000000.00,  'label': 'Rectangle 2 - D'},\n",
    "    #     {'x': 2000000000000.00, 'ystart': pd.Timestamp('2022-12-25 05:29:00'), 'yend': pd.Timestamp('2022-12-29 05:27:00'),'width': 20000000000000.00,  'label': 'Rectangle 3 - U'}\n",
    "    # ]\n",
    "\n",
    "\n",
    "    # _df_rectangles = pd.DataFrame({\n",
    "    #     'x': [2000000000000.00, 2000000000000.00, 2000000000000.00],\n",
    "    #     'ystart': [pd.Timestamp('2022-11-24 05:27:00'), pd.Timestamp('2022-11-29 05:25:00'), pd.Timestamp('2022-12-25 05:29:00')],\n",
    "    #     'yend': [pd.Timestamp('2022-11-25 05:27:00'), pd.Timestamp('2022-12-02 05:27:00'), pd.Timestamp('2022-12-29 05:27:00')],\n",
    "    #     'width': [20000000000000.00, 20000000000000.00, 20000000000000.00],\n",
    "    #     'label': ['Rectangle 1 - U', 'Rectangle 2 - D', 'Rectangle 3 - U']\n",
    "    # })\n",
    "\n",
    "    # _df_rectangles['ystart_seconds'] =  _df_rectangles['ystart'].apply(lambda x: x.timestamp())\n",
    "    # _df_rectangles['yend_seconds'] =  _df_rectangles['yend'].apply(lambda x: x.timestamp())\n",
    "\n",
    "    # # # Convert the y values to Unix timestamps\n",
    "    # # for rectangle in _df_rectangles:\n",
    "    # #     rectangle['ystart'] = rectangle['ystart'].timestamp()\n",
    "    # #     rectangle['yend'] = rectangle['yend'].timestamp()\n",
    "\n",
    "\n",
    "    # # setting global values for styling graps\n",
    "    # HEIGHT = 500\n",
    "    # WIDTH = 500\n",
    "    \n",
    "    # # Create a list to store the polygons and text labels\n",
    "    # plots = []\n",
    "\n",
    "    # # Add the rectangles to the plot\n",
    "    # for rectangle in _df_rectangles:\n",
    "    #     # Define the vertices of the rectangle\n",
    "    #     vertices = [(rectangle['x'], rectangle['ystart']), (rectangle['x'] + rectangle['width'], rectangle['ystart']),\n",
    "    #                 (rectangle['x'] + rectangle['width'], rectangle['ystart'] + (rectangle['ystart'] - rectangle['yend'])),\n",
    "    #                 (rectangle['x'], rectangle['ystart'] + (rectangle['ystart'] - rectangle['yend']))]\n",
    "        \n",
    "\n",
    "    # # Convert the y-coordinates to float values\n",
    "    # vertices = [(x,ystart) for x, ystart in vertices]\n",
    "\n",
    "    # # set colors of rectanlges\n",
    "    # if '- D' in rectangle['label']:\n",
    "    #     fill_color = 'red'\n",
    "    # elif '- U' in rectangle['label']:\n",
    "    #     fill_color = 'green'\n",
    "    # else:\n",
    "    #     fill_color = 'orange'\n",
    "    \n",
    "    # # Create a polygon for the rectangle\n",
    "    # polygon = hv.Polygons([vertices]).opts(alpha=0.5, color = fill_color)\n",
    "    # print(vertices)\n",
    "    # # Add the polygon to the list of plots\n",
    "    # plots.append(polygon)\n",
    "\n",
    "    # # Add the label to the rectangle\n",
    "    # label = hv.Text(rectangle['x'] + rectangle['width'] / 2, rectangle['ystart'] + (rectangle['ystart'] - rectangle['yend']) / 2, rectangle['label']).opts(color='black', xaxis=None, height =HEIGHT, width = WIDTH) # yaxis=None,\n",
    "    \n",
    "    # # Add the label to the list of plots\n",
    "    # plots.append(label)\n",
    "    # # Combine all the plots into a single plot\n",
    "    # combined_plot = line_plot + hv.Overlay(plots).opts(yaxis )\n",
    "    # Display the plot\n",
    "    # combined_plot = hv.Layout([line_plot, hv.Overlay(plots)]).cols(2).opts(shared_axes=True)\n",
    "\n",
    "    return overlay#(combined_plot).opts(shared_axes=True)\n",
    "\n",
    "# Define a function to update the labels\n",
    "def update_labels( plot, well, sensor, y_label= 'Date'):\n",
    "    plot.opts(xlabel = sensor, title=f\"Real time data for {well} - {sensor}\")\n",
    "\n",
    "\n",
    "\n",
    "\n",
    "\n",
    "\n",
    "\n",
    "\n",
    "# make datasets\n",
    "def _make_pd_real_time_plot(sensorid) :\n",
    "    \"\"\"\n",
    "    make pd of real time dat to be plotted for given sensorid\n",
    "    Args: sensorid - the id of the sensor\n",
    "    Returns: the id column and the pandas to be plotted\n",
    "    \"\"\"\n",
    "    _pd_real_time_plot = _make_pd_real_time(sensorid)\n",
    "    # _realtimedata_id is not really needed, might be nice to have later \n",
    "    _realtimedata_id = _pd_real_time_plot.columns\n",
    "    _pd_real_time_plot = _pd_real_time_plot.drop(_pd_real_time_plot.columns[[0]], axis=1)  # _pd_witsml_flattened.columns is zero-based pd.Index\n",
    "    _pd_real_time_plot['Date'] = pd.to_datetime(_pd_real_time_plot.index)\n",
    "    _pd_real_time_plot['Date_Seconds'] = _pd_real_time_plot['Date'].apply(lambda x: x.timestamp())\n",
    "    # _pd_real_time_plot['Date'] =_pd_real_time_plot.index\n",
    "\n",
    "\n",
    "\n",
    "\n",
    "    \n",
    "\n",
    "    # testing 24.06\n",
    "    df_test = _pd_real_time_plot.sort_index(ascending= True)\n",
    "    df_test['key'] = df_test['Date_Seconds']\n",
    "    _df_rectangles = pd.DataFrame({\n",
    "            'x': [0, 0, 0],\n",
    "            'ystartRect': [pd.Timestamp('2022-11-24 05:27:00'), pd.Timestamp('2022-12-24 05:27:00'), pd.Timestamp('2023-01-08 05:29:00')],\n",
    "            'yendRect': [pd.Timestamp('2022-12-01 05:27:00'), pd.Timestamp('2022-12-28 05:27:00'), pd.Timestamp('2023-01-10 05:27:00')],\n",
    "            'widthRect': [20000000000000.00, 20000000000000.00, 20000000000000.00],\n",
    "            'labelRect': ['Rectangle 1 - U', 'Rectangle 2 - D', 'Rectangle 3 - U']\n",
    "        })\n",
    "    _df_rectangles['ystart_secondsRect'] =  _df_rectangles['ystartRect'].apply(lambda x: x.timestamp())\n",
    "    _df_rectangles['yend_secondsRect'] =  _df_rectangles['yendRect'].apply(lambda x: x.timestamp())\n",
    "    _df_rectangles['key'] =  _df_rectangles['ystart_secondsRect']\n",
    "    #_df_combined = df_test.set_index('index').join(_df_rectangles.set_index('indexRect'))\n",
    "    _df_combined = pd.merge_ordered(df_test, _df_rectangles)\n",
    "    _df_combined[_df_combined['ystartRect'].notna()]\n",
    "    _pd_real_time_plot  =_df_combined\n",
    "\n",
    "\n",
    "\n",
    "    print(_pd_real_time_plot)\n",
    "    return _realtimedata_id, _pd_real_time_plot\n",
    "\n",
    "def _make_pd_real_time(sensorid):\n",
    "    \"\"\"make pd of real time data for given sensorid\"\"\"\n",
    "    _pd_real_time = _get_df_real_time(sensorid).to_pandas()\n",
    "    # make Value column for easier filtering\n",
    "    _pd_real_time['Value'] = _pd_real_time[_pd_real_time.columns]\n",
    "    return _pd_real_time\n",
    "\n",
    "def _get_df_real_time(sensorid):\n",
    "    \"\"\"make cognite client of real time data for given sensorid\"\"\"\n",
    "    _df_real_time = client.time_series.data.retrieve(\n",
    "        external_id= None,\n",
    "        id=sensorid,\n",
    "        start=MIN_TIMESTAMP_MS, # TODO change to acutal vlaues,min(df['Date']) \n",
    "        end=MAX_TIMESTAMP_MS + 1)\n",
    "        # ) \n",
    "    return _df_real_time   \n",
    "\n",
    "# get sensor id\n",
    "def _get_sensorid(df, wellbore, sensortype):\n",
    "    \"\"\"\n",
    "        Args: df on the format of _pd_witsml_flattened\n",
    "        Returns: the sensor id form the _pd_witsml_flattened based on chosen wellbore and chosen sensortype\n",
    "    \"\"\"\n",
    "    _sensor_row = df[(df['nameWellbore'] == wellbore) & (df['uid'] == sensortype)]\n",
    "    _sensorid = _sensor_row['id'].iloc[0]\n",
    "    return _sensorid\n",
    "\n",
    "\n",
    "\n"
   ]
  },
  {
   "cell_type": "code",
   "execution_count": null,
   "metadata": {},
   "outputs": [],
   "source": [
    "# pd.Series(_pd_witsml_flattened[_pd_witsml_flattened['nameWellbore'] == _w_wellbore.param.values().__getitem__('value')]['uid']).unique().tolist() # TODO filter by wellbore as not all wellbores have all sensortypes"
   ]
  },
  {
   "cell_type": "markdown",
   "metadata": {},
   "source": [
    "# INTERACTIVE"
   ]
  },
  {
   "cell_type": "code",
   "execution_count": null,
   "metadata": {},
   "outputs": [],
   "source": [
    "### WORKs as of 20.06 - COPY for test\n",
    "#tesing with new code and proper WORRKSSS YESSS\n",
    "# import hvplot.pandas\n",
    "from bokeh.models import DatetimeTickFormatter\n",
    "\n",
    "def master(wellbore, sensortype):\n",
    "    data = _combine_datasets(wellbore=wellbore, sensortype=sensortype)\n",
    "    # _sensortypes_list = pd.Series(_pd_witsml_flattened[_pd_witsml_flattened['nameWellbore'] == _w_wellbore.param.values().__getitem__('value')]['uid']).unique().tolist() # TODO filter by wellbore as not all wellbores have all sensortypes\n",
    "    print(\"snsortype\")\n",
    "    # _w_sensortype.options = _sensortypes_list\n",
    "    # print(_sensortypes_list)\n",
    "    # _w_sensortype.options = _sensortypes_list\n",
    "    print(\"finished in master\")\n",
    "\n",
    "\n",
    "    return data#, plot\n",
    "\n",
    "\n",
    "def _combine_datasets(wellbore,sensortype):\n",
    "    sensorid = _get_sensorid(_pd_witsml_flattened,wellbore,sensortype)\n",
    "\n",
    "    id, data = _make_pd_real_time_plot(int(sensorid))\n",
    "\n",
    "    return data#, num_rows\n",
    "\n",
    "\n",
    "\n",
    "\n",
    "def _make_interactive():\n",
    "    _interactive = hvplot.bind\\\n",
    "    (master,_w_wellbore, _w_sensortype)\\\n",
    "    .interactive()\n",
    "    # Call the function to update the labels\n",
    "\n",
    "    print(\"finished\")\n",
    "    return _interactive#, dict(_w_sensortype.param.values().items())['value']\n",
    "\n",
    "\n",
    "_interactive = _make_interactive()\n",
    "\n",
    "\n",
    "\n",
    "# TODO not updating properly?"
   ]
  },
  {
   "cell_type": "markdown",
   "metadata": {},
   "source": [
    "# Call create_plot"
   ]
  },
  {
   "cell_type": "code",
   "execution_count": null,
   "metadata": {},
   "outputs": [],
   "source": [
    "create_plot(_interactive)"
   ]
  },
  {
   "cell_type": "code",
   "execution_count": null,
   "metadata": {},
   "outputs": [],
   "source": [
    "# Define two tuples and a dictionary\n",
    "tuple1 = (1, 2, 3)\n",
    "tuple2 = (23, 4)\n",
    "my_dict = {'a': tuple1, 'b': tuple2}\n",
    "\n",
    "# Create a list of dictionaries where each dictionary contains a key-value pair where the key is a string and the value is a tuple\n",
    "result = [{key: value} for key, value in my_dict.items()]\n",
    "\n",
    "# Print the result\n",
    "print(result.values)"
   ]
  },
  {
   "cell_type": "code",
   "execution_count": null,
   "metadata": {},
   "outputs": [],
   "source": [
    "# Fasit for giterating over interactive\n",
    "testing =  _interactive[_interactive['ystartRect'].notna()]\n",
    "\n",
    "\n",
    "result = []\n",
    "# Define a function to get a tuple of values from columns COLA and COLB\n",
    "def get_tuple(row):\n",
    "    result.append((0, row['yend_secondsRect'], 1000, row['ystart_secondsRect'] ))\n",
    "    # return (row['key'], row['ystartRect'])\n",
    "\n",
    "# Initialize an empty list to store the tuples\n",
    "\n",
    "\n",
    "testing.apply(get_tuple, axis=1)\n",
    "result\n"
   ]
  },
  {
   "cell_type": "code",
   "execution_count": null,
   "metadata": {},
   "outputs": [],
   "source": [
    "testing"
   ]
  },
  {
   "cell_type": "code",
   "execution_count": null,
   "metadata": {},
   "outputs": [],
   "source": [
    "\n",
    "result = []\n",
    "# Define a function to get a tuple of values from columns COLA and COLB\n",
    "def get_tuple(row):\n",
    "    result.append((0, row['yend_secondsRect'], 1000, row['ystart_secondsRect'] ))\n",
    "    # return (row['key'], row['ystartRect'])\n",
    "\n",
    "# Initialize an empty list to store the tuples\n",
    "\n",
    "\n",
    "testing.apply(get_tuple, axis=1)\n",
    "result\n",
    "# Print the result"
   ]
  },
  {
   "cell_type": "code",
   "execution_count": null,
   "metadata": {},
   "outputs": [],
   "source": [
    "type(result)"
   ]
  },
  {
   "cell_type": "code",
   "execution_count": null,
   "metadata": {},
   "outputs": [],
   "source": [
    "import pandas as pd\n",
    "\n",
    "# Create a sample DataFrame\n",
    "df = pd.DataFrame({'COLA': [1, 2, 3], 'COLB': ['A', 'B', 'C'], 'COLC': [4.0, 5.0, 6.0]})\n",
    "\n",
    "# Define a function to get a tuple of values from columns COLA and COLB\n",
    "def get_tuple(row):\n",
    "    return (row['COLA'], row['COLB'])\n",
    "\n",
    "# Initialize an empty list to store the tuples\n",
    "result = []\n",
    "\n",
    "# Iterate over the rows of the DataFrame and append the tuples to the list\n",
    "for index, row in df.iterrows():\n",
    "    result.append(get_tuple(row))\n",
    "\n",
    "# Print the result\n",
    "print(result)"
   ]
  },
  {
   "cell_type": "markdown",
   "metadata": {},
   "source": []
  },
  {
   "cell_type": "code",
   "execution_count": null,
   "metadata": {},
   "outputs": [],
   "source": [
    "_string_wellbore = dict(_w_sensortype.param.values().items())['value']\n",
    "    # _sensortypes_list = pd.Series(_pd_witsml_flattened[_pd_witsml_flattened['wellbore' == _string_wellbore]]['uid']).unique().tolist() "
   ]
  },
  {
   "cell_type": "code",
   "execution_count": null,
   "metadata": {},
   "outputs": [],
   "source": [
    "(_interactive)['Value'].iloc[0]"
   ]
  },
  {
   "cell_type": "code",
   "execution_count": null,
   "metadata": {},
   "outputs": [],
   "source": [
    "create_plot(_interactive)\n",
    "# _interactive[_interactive['ystartRect'].notna()]"
   ]
  },
  {
   "cell_type": "code",
   "execution_count": null,
   "metadata": {},
   "outputs": [],
   "source": [
    "# testing 24.06\n",
    "df_test = _pd_real_time_plot\n",
    "df_test['Date_Seconds'] = df_test['Date'].apply(lambda x: x.timestamp())\n",
    "df_test['key'] = df_test['Date_Seconds'] \n",
    "\n",
    "\n",
    "_df_rectangles = pd.DataFrame({\n",
    "        'x': [0.00, 0.00, 0.00],\n",
    "        'ystart': [pd.Timestamp('2022-11-24 05:27:00'), pd.Timestamp('2022-11-29 05:25:00'), pd.Timestamp('2022-12-25 05:29:00')],\n",
    "        'yend': [pd.Timestamp('2022-11-25 05:27:00'), pd.Timestamp('2022-12-02 05:27:00'), pd.Timestamp('2022-12-29 05:27:00')],\n",
    "        'width': [20000000000000.00, 20000000000000.00, 20000000000000.00],\n",
    "        'label': ['Rectangle 1 - U', 'Rectangle 2 - D', 'Rectangle 3 - U']\n",
    "    })\n",
    "\n",
    "_df_rectangles['ystart_seconds'] =  _df_rectangles['ystart'].apply(lambda x: x.timestamp())\n",
    "_df_rectangles['yend_seconds'] =  _df_rectangles['yend'].apply(lambda x: x.timestamp())\n",
    "_df_rectangles['key'] =  _df_rectangles['ystart_seconds']\n",
    "\n",
    "_df_combined = pd.merge_ordered(df_test, _df_rectangles, fill_method=None)\n",
    "_df_combined.head(2)"
   ]
  },
  {
   "cell_type": "code",
   "execution_count": null,
   "metadata": {},
   "outputs": [],
   "source": [
    "# _df_combined[_df_combined['ystart'].notna()]\n",
    "# _df_rectangles.head(5)\n"
   ]
  },
  {
   "cell_type": "code",
   "execution_count": null,
   "metadata": {},
   "outputs": [],
   "source": [
    "import param\n",
    "import panel as pn\n",
    "pn.extension() # that it works within jupyter notebook\n",
    "\n",
    "class Test(param.Parameterized):\n",
    "    value = param.Selector(default=1, objects=[1,2,3])\n",
    "    \n",
    "    @pn.depends(\"value\", watch=True)\n",
    "    def update_param(self):\n",
    "        # add one more number to objects\n",
    "        o = self.param.value.objects\n",
    "        new_objects = o + [o[-1]+1]\n",
    "        self.param.value.objects = new_objects\n",
    "        \n",
    "        # how can I change the value in a way, it is also updated in the rendered panel widget?\n",
    "        # obviously not below with default\n",
    "        self.param.value.default = 2\n",
    "        \n",
    "        # and also not by simply setting the value\n",
    "        # (commented out to not run this function twice due to watch=True):\n",
    "        #self.value = 2 # <-- uncomment this to try, but update_param will called twice\n",
    "        \n",
    "test = Test()\n",
    "test\n",
    "# pn.Param(test.param[\"value\"], widgets={'value':pn.widgets.Select}) # maybe this is the wrong usage of a widget in this specific update case?"
   ]
  },
  {
   "cell_type": "code",
   "execution_count": null,
   "metadata": {},
   "outputs": [],
   "source": [
    "\n",
    "\n",
    "# Create a Rect element for each rectangle in _df_combined\n",
    "rects = []\n",
    "for i, row in _df_combined.iterrows():\n",
    "    if not pd.isna(row['ystart_seconds']):\n",
    "        rect = hv.Rect(0, row['yend_seconds'], row['ystart_seconds'], row['Value'], row['label'])\n",
    "        rects.append(rect)\n",
    "\n",
    "# Create a line plot of Date_Seconds and Value\n",
    "line_plot = _df_combined.hvplot.line(x='Date_Seconds', y='Value')\n",
    "\n",
    "# Create a plot with the line plot and Rect elements overlaid\n",
    "rect_plots = hv.Overlay(rects)\n",
    "plot = line_plot * (line_plot *rect_plots)\n",
    "\n",
    "# Set the x-axis label to 'Date' and the y-axis label to 'Value'\n",
    "plot = plot.opts(xlabel='Date', ylabel='Value')\n",
    "\n",
    "# Display the plot\n",
    "plot"
   ]
  },
  {
   "cell_type": "code",
   "execution_count": null,
   "metadata": {},
   "outputs": [],
   "source": [
    "_sensortype = _w_sensortype\n",
    "_wellbore = _w_wellbore\n",
    "# print(_sensortype)\n",
    "\n",
    "line_plot = _df_combined.hvplot(height=1000,\n",
    "\n",
    "    width=500, title= 'Real Time data for ' + \" \",# + str(dict(_w_sensortype.param.values().items())['value']),# + _wellbore,\n",
    "    x='Value',\n",
    "    xlabel = _sensortype,\n",
    "    # hover_cols=['Description'],\n",
    "    # y=['Date'],\n",
    "    y=['Date_Seconds'],\n",
    "\n",
    "    autorange=\"y\"\n",
    "    # value_label = 'Date'\n",
    "    # ,ylim=(min(df['Date']), max(df['Date']))#,\n",
    ")\n",
    "# plots = []\n",
    "\n",
    "# # Add the rectangles to the plot\n",
    "# for rectangle in _df_combined:\n",
    "#     # print(rectangle)\n",
    "#     # Define the vertices of the rectangle\n",
    "#     vertices = [(_df_combined['x'], _df_combined['ystart_seconds']), (_df_combined['x'] + _df_combined['width'], _df_combined['ystart_seconds']),\n",
    "#                 (_df_combined['x'] + _df_combined['width'], _df_combined['ystart_seconds'] + (_df_combined['ystart_seconds'] - _df_combined['yend_seconds'])),\n",
    "#                 (_df_combined['x'], _df_combined['ystart_seconds'] + (_df_combined['ystart_seconds'] - _df_combined['yend_seconds']))]\n",
    "    \n",
    "\n",
    "# # Convert the y-coordinates to float values\n",
    "# vertices = [(x,ystart) for x, ystart in vertices]\n",
    "\n",
    "# # set colors of rectanlges\n",
    "# if '- D' in _df_combined['label']:\n",
    "#     fill_color = 'red'\n",
    "# elif '- U' in _df_combined['label']:\n",
    "#     fill_color = 'green'\n",
    "# else:\n",
    "#     fill_color = 'orange'\n",
    "\n",
    "# # Create a polygon for the rectangle\n",
    "# polygon = hv.Polygons([vertices]).opts(alpha=0.5, color = fill_color)\n",
    "# # print(vertices)\n",
    "# # Add the polygon to the list of plots\n",
    "# plots.append(polygon)\n",
    "\n",
    "# Add the label to the rectangle\n",
    "# label = hv.Text(_df_combined['x'] + _df_combined['width'] / 2, _df_combined['ystart'] + (_df_combined['ystart'] - _df_combined['yend']) / 2, _df_combined['label']).opts(color='black', xaxis=None, height =100, width = WIDTH) # yaxis=None,\n",
    "\n",
    "# Add the label to the list of plots\n",
    "# plots.append(label)\n",
    "scatter = _df_combined.hvplot(kind='scatter', y=['ystart_seconds'])\n",
    "# Combine all the plots into a single plot\n",
    "\n",
    "combined_plot = line_plot + hv.Overlay(scatter) #hvploy(y='ystart_seconds')#hv.Overlay(plots)\n",
    "# combined_plot.opts(shared_axes=True)\n",
    "combined_plot"
   ]
  },
  {
   "cell_type": "code",
   "execution_count": null,
   "metadata": {},
   "outputs": [],
   "source": [
    "print(str(_w_sensortype))\n",
    "print(dict(_w_sensortype.param.values().items())['value'])"
   ]
  },
  {
   "cell_type": "code",
   "execution_count": null,
   "metadata": {},
   "outputs": [],
   "source": [
    "create_plot(_interactive)"
   ]
  },
  {
   "cell_type": "code",
   "execution_count": null,
   "metadata": {},
   "outputs": [],
   "source": [
    "\n",
    "\n",
    "# Create some sample data\n",
    "df1 = pd.DataFrame({'x': np.arange(10), 'y': np.random.rand(10)})\n",
    "df2 = pd.DataFrame({'x': np.arange(10), 'y': np.random.rand(10)})\n",
    "\n",
    "# Create two plots using hvplot\n",
    "plot1 = df1.hvplot.line(x='x', y='y')\n",
    "plot2 = df2.hvplot.line(x='x', y='y')\n",
    "\n",
    "# Combine the plots into a layout with shared y-axis\n",
    "layout = hv.Layout([plot1, plot2]).cols(2).opts(shared_axes=True)\n",
    "\n",
    "# Display the layout\n",
    "layout"
   ]
  },
  {
   "cell_type": "code",
   "execution_count": null,
   "metadata": {},
   "outputs": [],
   "source": [
    "\n",
    "def _make_interactive_create_plot():\n",
    "    data =  master(_w_wellbore, _w_sensortype)\n",
    "    _int_plot = hvplot.bind\\\n",
    "    (create_plot, data)\\\n",
    "    .interactive()\n",
    "    # Call the function to update the labels\n",
    "    print(\"finished\")\n",
    "_make_interactive_create_plot()"
   ]
  },
  {
   "cell_type": "code",
   "execution_count": null,
   "metadata": {},
   "outputs": [],
   "source": [
    "hv.help(hv.Polygons)"
   ]
  },
  {
   "cell_type": "code",
   "execution_count": null,
   "metadata": {},
   "outputs": [],
   "source": [
    "\n",
    "plot = create_plot(_interactive)\n",
    "plot\n",
    "# # Create two dataframes\n",
    "# df1 = pd.DataFrame({'x': [1, 2, 3], 'y': [4, 5, 6]})\n",
    "# df2 = pd.DataFrame({'x': [1, 2, 3], 'y': [7, 8, 9], 'desc': [\"yo\", \"hello\", \"there\"]})\n",
    "\n",
    "# # Create two plots\n",
    "# plot1 = df1.hvplot.line(x='x', y='y')\n",
    "# plot2 = df2.hvplot.scatter(x='x', y='y', hover_cols = ['desc'],color= \"#f16a6f\")\n",
    "\n",
    "# # Overlay the plots\n",
    "# overlayed_plot = plot1 * plot2\n",
    "\n",
    "# # Display the overlayed plot\n",
    "# overlayed_plot"
   ]
  },
  {
   "cell_type": "code",
   "execution_count": null,
   "metadata": {},
   "outputs": [],
   "source": [
    "update_labels(plot, \"well\", s)\n"
   ]
  },
  {
   "cell_type": "code",
   "execution_count": null,
   "metadata": {},
   "outputs": [],
   "source": [
    "dict(_w_sensortype.param.values().items())['value']"
   ]
  },
  {
   "cell_type": "code",
   "execution_count": null,
   "metadata": {},
   "outputs": [],
   "source": [
    "### THIS ONE - edit with pd.Timestamp() instead\n",
    "# Define the coordinates of the rectangles\n",
    "rectangles = [\n",
    "    {'x': 2000000000000.00, 'ystart': pd.Timestamp('2022-11-24 05:27:00'), 'yend':pd.Timestamp('2022-11-25 05:27:00') ,'width': 20000000000000.00,  'label': 'Rectangle 1 - U'}, #'height': 200000.00,\n",
    "    {'x': 2000000000000.00, 'ystart': pd.Timestamp('2022-11-29 05:25:00'), 'yend': pd.Timestamp('2022-12-02 05:27:00'),'width': 20000000000000.00,  'label': 'Rectangle 2 - D'},\n",
    "    {'x': 2000000000000.00, 'ystart': pd.Timestamp('2022-12-25 05:29:00'), 'yend': pd.Timestamp('2022-12-29 05:27:00'),'width': 20000000000000.00,  'label': 'Rectangle 3 - U'}\n",
    "]\n",
    "\n",
    "\n",
    "# Convert the y values to Unix timestamps\n",
    "for rectangle in rectangles:\n",
    "    rectangle['ystart'] = rectangle['ystart'].timestamp()\n",
    "    rectangle['yend'] = rectangle['yend'].timestamp()\n",
    "\n",
    "\n",
    "# setting global values for styling graps\n",
    "HEIGHT = 500\n",
    "WIDTH = 500\n",
    "# Create a line plot\n",
    "line_plot = _interactive.hvplot(height=HEIGHT,\n",
    "    width=500, title= 'Real Time data for ',# + _wellbore + \" \" + _sensortype,\n",
    "    x='Value',\n",
    "    # xlabel = _sensortype,\n",
    "    # hover_cols=['Description'],\n",
    "    y=['Date']# ,\n",
    "    # value_label = 'Date'\n",
    "    # ,ylim=(min(df['Date']), max(df['Date']))#,\n",
    ")\n",
    "\n",
    "# Create a list to store the polygons and text labels\n",
    "plots = []\n",
    "\n",
    "# Add the rectangles to the plot\n",
    "for rectangle in rectangles:\n",
    "    # Define the vertices of the rectangle\n",
    "    vertices = [(rectangle['x'], rectangle['ystart']), (rectangle['x'] + rectangle['width'], rectangle['ystart']),\n",
    "                (rectangle['x'] + rectangle['width'], rectangle['ystart'] + (rectangle['ystart'] - rectangle['yend'])),\n",
    "                (rectangle['x'], rectangle['ystart'] + (rectangle['ystart'] - rectangle['yend']))]\n",
    "    \n",
    "\n",
    "    # Convert the y-coordinates to float values\n",
    "    vertices = [(x,ystart) for x, ystart in vertices]\n",
    "\n",
    "    # set colors of rectanlges\n",
    "    if '- D' in rectangle['label']:\n",
    "        fill_color = 'red'\n",
    "    elif '- U' in rectangle['label']:\n",
    "        fill_color = 'green'\n",
    "    else:\n",
    "        fill_color = 'orange'\n",
    "    \n",
    "    # Create a polygon for the rectangle\n",
    "    polygon = hv.Polygons([vertices]).opts(alpha=0.5, color = fill_color)\n",
    "    print(vertices)\n",
    "    # Add the polygon to the list of plots\n",
    "    plots.append(polygon)\n",
    "\n",
    "    # Add the label to the rectangle\n",
    "    label = hv.Text(rectangle['x'] + rectangle['width'] / 2, rectangle['ystart'] + (rectangle['ystart'] - rectangle['yend']) / 2, rectangle['label']).opts(color='black', xaxis=None, height =HEIGHT, width = WIDTH) # yaxis=None,\n",
    "    \n",
    "    # Add the label to the list of plots\n",
    "    plots.append(label)\n",
    "\n",
    "# Combine all the plots into a single plot\n",
    "combined_plot = line_plot + hv.Overlay(plots)\n",
    "\n",
    "# Display the plot\n",
    "combined_plot\n",
    "\n",
    "#TODO make plot object and updatexlable attribute?\n",
    "\n"
   ]
  },
  {
   "cell_type": "code",
   "execution_count": null,
   "metadata": {},
   "outputs": [],
   "source": [
    "### THIS ONE - edit with pd.Timestamp() instead\n",
    "# Define the coordinates of the rectangles\n",
    "rectangles = [\n",
    "    {'x': 2000000000000.00, 'ystart': pd.Timestamp('2022-11-24 05:27:00'), 'yend':pd.Timestamp('2022-11-25 05:27:00') ,'width': 20000000000000.00,  'label': 'Rectangle 1 - U'}, #'height': 200000.00,\n",
    "    {'x': 2000000000000.00, 'ystart': pd.Timestamp('2022-11-29 05:25:00'), 'yend': pd.Timestamp('2022-12-02 05:27:00'),'width': 20000000000000.00,  'label': 'Rectangle 2 - D'},\n",
    "    {'x': 2000000000000.00, 'ystart': pd.Timestamp('2022-12-25 05:29:00'), 'yend': pd.Timestamp('2022-12-29 05:27:00'),'width': 20000000000000.00,  'label': 'Rectangle 3 - U'}\n",
    "]\n",
    "\n",
    "\n",
    "# Convert the y values to Unix timestamps\n",
    "for rectangle in rectangles:\n",
    "    rectangle['ystart'] = rectangle['ystart'].timestamp()\n",
    "    rectangle['yend'] = rectangle['yend'].timestamp()\n",
    "\n",
    "\n",
    "# setting global values for styling graps\n",
    "HEIGHT = 500\n",
    "WIDTH = 500\n",
    "# Create a line plot\n",
    "line_plot = _interactive.hvplot(height=HEIGHT,\n",
    "    width=500, title= 'Real Time data for ',# + _wellbore + \" \" + _sensortype,\n",
    "    x='Value',\n",
    "    # xlabel = _sensortype,\n",
    "    # hover_cols=['Description'],\n",
    "    y=['Date']# ,\n",
    "    # value_label = 'Date'\n",
    "    # ,ylim=(min(df['Date']), max(df['Date']))#,\n",
    ")\n",
    "\n",
    "# Create a list to store the polygons and text labels\n",
    "plots = []\n",
    "\n",
    "# Add the rectangles to the plot\n",
    "for rectangle in rectangles:\n",
    "    # Define the vertices of the rectangle\n",
    "    vertices = [(rectangle['x'], rectangle['ystart']), (rectangle['x'] + rectangle['width'], rectangle['ystart']),\n",
    "                (rectangle['x'] + rectangle['width'], rectangle['ystart'] + (rectangle['ystart'] - rectangle['yend'])),\n",
    "                (rectangle['x'], rectangle['ystart'] + (rectangle['ystart'] - rectangle['yend']))]\n",
    "    \n",
    "\n",
    "    # Convert the y-coordinates to float values\n",
    "    vertices = [(x,ystart) for x, ystart in vertices]\n",
    "\n",
    "    # set colors of rectanlges\n",
    "    if '- D' in rectangle['label']:\n",
    "        fill_color = 'red'\n",
    "    elif '- U' in rectangle['label']:\n",
    "        fill_color = 'green'\n",
    "    else:\n",
    "        fill_color = 'orange'\n",
    "    \n",
    "    # Create a polygon for the rectangle\n",
    "    polygon = hv.Polygons([vertices]).opts(alpha=0.5, color = fill_color)\n",
    "    print(vertices)\n",
    "    # Add the polygon to the list of plots\n",
    "    plots.append(polygon)\n",
    "\n",
    "    # Add the label to the rectangle\n",
    "    label = hv.Text(rectangle['x'] + rectangle['width'] / 2, rectangle['ystart'] + (rectangle['ystart'] - rectangle['yend']) / 2, rectangle['label']).opts(color='black', xaxis=None, height =HEIGHT, width = WIDTH) # yaxis=None,\n",
    "    \n",
    "    # Add the label to the list of plots\n",
    "    plots.append(label)\n",
    "\n",
    "# Combine all the plots into a single plot\n",
    "combined_plot = line_plot + hv.Overlay(plots)\n",
    "\n",
    "# Display the plot\n",
    "combined_plot\n",
    "\n",
    "#TODO make plot object and updatexlable attribute?\n",
    "\n"
   ]
  },
  {
   "cell_type": "code",
   "execution_count": null,
   "metadata": {},
   "outputs": [],
   "source": [
    "import pandas as pd\n",
    "import holoviews as hv\n",
    "\n",
    "# Define the coordinates of the rectangles\n",
    "rectangles = [\n",
    "    {'x': 2000000000000.00, 'ystart': pd.Timestamp('2022-11-24 05:27:00'), 'yend':pd.Timestamp('2022-11-25 05:27:00') ,'width': 20000000000000.00,  'label': 'Rectangle 1 - U'}, #'height': 200000.00,\n",
    "    {'x': 2000000000000.00, 'ystart': pd.Timestamp('2022-11-29 05:25:00'), 'yend': pd.Timestamp('2022-12-02 05:27:00'),'width': 20000000000000.00,  'label': 'Rectangle 2 - D'},\n",
    "    {'x': 2000000000000.00, 'ystart': pd.Timestamp('2022-12-25 05:29:00'), 'yend': pd.Timestamp('2022-12-29 05:27:00'),'width': 20000000000000.00,  'label': 'Rectangle 3 - U'}\n",
    "]\n",
    "\n",
    "# Set the plot options\n",
    "plot_opts = dict(height=500, width=500, xaxis=None, yformatter='%Y-%m-%d %H:%M:%S')\n",
    "\n",
    "# Create a list to store the polygons and text labels\n",
    "plots = []\n",
    "\n",
    "# Add the rectangles to the plot\n",
    "for rectangle in rectangles:\n",
    "    # Define the vertices of the rectangle\n",
    "    vertices = [(rectangle['x'], rectangle['ystart'].timestamp()), \n",
    "                (rectangle['x'] + rectangle['width'], rectangle['ystart'].timestamp()),\n",
    "                (rectangle['x'] + rectangle['width'], rectangle['yend'].timestamp()),\n",
    "                (rectangle['x'], rectangle['yend'].timestamp())]\n",
    "\n",
    "    # Set the fill color of the rectangle based on the label\n",
    "    if '- D' in rectangle['label']:\n",
    "        fill_color = 'red'\n",
    "    elif '- U' in rectangle['label']:\n",
    "        fill_color = 'green'\n",
    "    else:\n",
    "        fill_color = 'orange'\n",
    "    \n",
    "    # Create a polygon for the rectangle\n",
    "    polygon = hv.Polygons([vertices]).options(alpha=0.5, color=fill_color)\n",
    "\n",
    "    # Add the polygon to the list of plots\n",
    "    plots.append(polygon)\n",
    "\n",
    "    # Add the label to the rectangle\n",
    "    label = hv.Text(rectangle['x'] + rectangle['width'] / 2, rectangle['ystart'] + (rectangle['yend'] - rectangle['ystart']) / 2, rectangle['label']).options(color='black', xaxis=None)\n",
    "\n",
    "    # Add the label to the list of plots\n",
    "    plots.append(label)\n",
    "\n",
    "# Combine all the plots into a single plot\n",
    "combined_plot = hv.Overlay(plots).options(**plot_opts)\n",
    "\n",
    "# Display the plot\n",
    "combined_plot\n",
    "## LOOK HEREE"
   ]
  },
  {
   "cell_type": "code",
   "execution_count": null,
   "metadata": {},
   "outputs": [],
   "source": [
    "import holoviews as hv\n",
    "import pandas as pd\n",
    "import numpy as np\n",
    "import hvplot.pandas\n",
    "hv.extension('bokeh')\n",
    "\n",
    "index = pd.date_range('1.1.2019', '2.28.2019')\n",
    "df = pd.DataFrame(np.random.rand(len(index)), index)\n",
    "pts = pd.to_datetime(['1.15.2019', '2.15.2019'])\n",
    "box = hv.Bounds((pts[0], 0.1, pts[1], .9)).opts(color='red')\n",
    "df.hvplot.scatter() +box"
   ]
  },
  {
   "cell_type": "code",
   "execution_count": null,
   "metadata": {},
   "outputs": [],
   "source": [
    "%pip install datashader"
   ]
  },
  {
   "cell_type": "code",
   "execution_count": null,
   "metadata": {},
   "outputs": [],
   "source": []
  },
  {
   "cell_type": "code",
   "execution_count": null,
   "metadata": {},
   "outputs": [],
   "source": []
  },
  {
   "cell_type": "code",
   "execution_count": null,
   "metadata": {},
   "outputs": [],
   "source": [
    "combined_plot"
   ]
  },
  {
   "cell_type": "code",
   "execution_count": null,
   "metadata": {},
   "outputs": [],
   "source": [
    "### THIS ONE COPY - works for timestamp() \n",
    "#  # Define the coordinates of the rectangles\n",
    "\n",
    "# from bokeh.plotting import figure, output_file, save, Show\n",
    "# from bokeh.models import DatetimeTickFormatter\n",
    "# import datetime as dt\n",
    "# import datetime as dt\n",
    "\n",
    "rectangles = [\n",
    "    {'x': 2000000000000.00, 'ystart': pd.Timestamp('2022-11-24 05:27:00'), 'yend':pd.Timestamp('2022-11-25 05:27:00') ,'width': 20000000000000.00,  'label': 'Rectangle 1 - U'}, #'height': 200000.00,\n",
    "    {'x': 2000000000000.00, 'ystart': pd.Timestamp('2022-11-29 05:25:00'), 'yend': pd.Timestamp('2022-12-02 05:27:00'),'width': 20000000000000.00,  'label': 'Rectangle 2 - D'},\n",
    "    {'x': 2000000000000.00, 'ystart': pd.Timestamp('2022-12-10 05:29:00'), 'yend': pd.Timestamp('2022-12-29 05:27:00'),'width': 20000000000000.00,  'label': 'Rectangle 3 - U'}\n",
    "]\n",
    "\n",
    "\n",
    "# Convert the y values to Unix timestamps\n",
    "for rectangle in rectangles:\n",
    "    rectangle['ystart'] = rectangle['ystart'].timestamp()\n",
    "    rectangle['yend'] = rectangle['yend'].timestamp()\n",
    "\n",
    "\n",
    "# setting global values for styling graps\n",
    "# HEIGHT = 500\n",
    "# WIDTH = 500\n",
    "# Create a line plot\n",
    "line_plot = _interactive.hvplot(height=HEIGHT,\n",
    "    width=500, title= 'Real Time data for ',# + _wellbore + \" \" + _sensortype,\n",
    "    x='Value',\n",
    "    # xlabel = _sensortype,\n",
    "    # hover_cols=['Description'],\n",
    "    y=['Date']# ,\n",
    "    # value_label = 'Date'\n",
    "    # ,ylim=(min(df['Date']), max(df['Date']))#,\n",
    ")\n",
    "\n",
    "# Create a list to store the polygons and text labels\n",
    "plots = []\n",
    "\n",
    "\n",
    "\n",
    "# Add the rectangles to the plot\n",
    "for rectangle in rectangles:\n",
    "    # Define the vertices of the rectangle\n",
    "    vertices = [(rectangle['x'], rectangle['ystart']), (rectangle['x'] + rectangle['width'], rectangle['ystart']),\n",
    "                (rectangle['x'] + rectangle['width'], rectangle['ystart'] + (rectangle['ystart'] - rectangle['yend'])),\n",
    "                (rectangle['x'], rectangle['ystart'] + (rectangle['ystart'] - rectangle['yend']))]\n",
    "    \n",
    "\n",
    "    # Convert the y-coordinates to float values\n",
    "    vertices = [(x,ystart) for x, ystart in vertices]\n",
    "\n",
    "    # set colors of rectanlges\n",
    "    if '- D' in rectangle['label']:\n",
    "        fill_color = 'red'\n",
    "    elif '- U' in rectangle['label']:\n",
    "        fill_color = 'green'\n",
    "    else:\n",
    "        fill_color = 'orange'\n",
    "    \n",
    "    # Create a polygon for the rectangle\n",
    "    polygon = hv.Polygons([vertices]).opts(alpha=0.5, color = fill_color)\n",
    "    print(vertices)\n",
    "    # Add the polygon to the list of plots\n",
    "    plots.append(polygon)\n",
    "\n",
    "    # Add the label to the rectangle\n",
    "    label = hv.Text(rectangle['x'] + rectangle['width'] / 2, rectangle['ystart'] + (rectangle['ystart'] - rectangle['yend']) / 2, rectangle['label']).opts(color='black', xaxis=None, height =HEIGHT, width = WIDTH) # yaxis=None,\n",
    "    \n",
    "    # Add the label to the list of plots\n",
    "    plots.append(label)\n",
    "\n",
    "# Combine all the plots into a single plot\n",
    "combined_plot = line_plot.options(**plot_opts) + hv.Overlay(plots)#.options(**plot_opts)\n",
    "\n",
    "# Display the plot\n",
    "combined_plot\n",
    "\n",
    "\n"
   ]
  },
  {
   "cell_type": "code",
   "execution_count": null,
   "metadata": {},
   "outputs": [],
   "source": [
    "_interactive = hvplot.bind\\\n",
    "    (function_to_generate_dataframe, _w_wellbores_select(_pd_witsml_flattened), _w_sensortype, lambda param1, param2: _w_another_function(param1, param2)) \\\n",
    "    .interactive()"
   ]
  },
  {
   "cell_type": "code",
   "execution_count": null,
   "metadata": {},
   "outputs": [],
   "source": [
    "\n",
    "import holoviews as hv\n",
    "import pandas as pd\n",
    "import numpy as np\n",
    "import hvplot.pandas\n",
    "hv.extension('bokeh')\n",
    "\n",
    "index = pd.date_range('1.1.2019', '2.28.2019')\n",
    "df = pd.DataFrame(np.random.rand(len(index)), index)\n",
    "pts = pd.to_datetime(['1.15.2019', '2.15.2019'])\n",
    "box = hv.Bounds((pts[0], 0.1, pts[1], .9)).opts(color='red')\n",
    "df.hvplot.scatter() + (df.hvplot.scatter().opts(color='white') * box)\n",
    "\n",
    "\n"
   ]
  },
  {
   "cell_type": "code",
   "execution_count": null,
   "metadata": {},
   "outputs": [],
   "source": [
    "import pandas as pd\n",
    "import hvplot.pandas\n",
    "\n",
    "# Define the coordinates of the rectangles\n",
    "rectangles = [\n",
    "    {'x': 2000000000000.00, 'ystart': pd.Timestamp('2022-11-24 05:27:00'), 'yend':pd.Timestamp('2022-11-25 05:27:00') ,'width': 20000000000000.00,  'label': 'Rectangle 1 - U'}, #'height': 200000.00,\n",
    "    {'x': 2000000000000.00, 'ystart': pd.Timestamp('2022-11-29 05:25:00'), 'yend': pd.Timestamp('2022-12-02 05:27:00'),'width': 20000000000000.00,  'label': 'Rectangle 2 - D'},\n",
    "    {'x': 2000000000000.00, 'ystart': pd.Timestamp('2022-12-25 05:29:00'), 'yend': pd.Timestamp('2022-12-29 05:27:00'),'width': 20000000000000.00,  'label': 'Rectangle 3 - U'}\n",
    "]\n",
    "\n",
    "# Convert the rectangles to a Pandas DataFrame\n",
    "df = pd.DataFrame(rectangles)\n",
    "\n",
    "# Create the fill_color column based on the label of each rectangle\n",
    "# df['fill_color'] = ['red' if '- D' in label else 'green' if '- U' in label else 'orange' for label in df['label']]\n",
    "\n",
    "# Define the plot options\n",
    "plot_opts = dict(height=500, width=500, xaxis=None, yformatter='%Y-%m-%d %H:%M:%S')\n",
    "\n",
    "# Create the area plot\n",
    "area_plot = df.hvplot.area(x='x', alpha=0.5, line_color=None, hover_alpha=1.0, hover_line_color='black').options(**plot_opts)\n",
    "\n",
    "# Display the plot\n",
    "area_plot"
   ]
  },
  {
   "cell_type": "code",
   "execution_count": null,
   "metadata": {},
   "outputs": [],
   "source": [
    "area_plot"
   ]
  },
  {
   "cell_type": "code",
   "execution_count": null,
   "metadata": {},
   "outputs": [],
   "source": [
    "combined_plot"
   ]
  },
  {
   "cell_type": "code",
   "execution_count": null,
   "metadata": {},
   "outputs": [],
   "source": [
    "\n",
    "\n",
    "# Define the coordinates of the rectangles\n",
    "rectangles = [\n",
    "    {'x': 1, 'y': '2022-11-24 05:27:00', 'width': 20000000, 'height': 2, 'label': 'Rectangle 1'},\n",
    "    {'x': 4, 'y': '2022-11-24 05:25:00', 'width': 20000000, 'height': 1, 'label': 'Rectangle 2'},\n",
    "    {'x': 7, 'y': '2022-11-24 05:29:00', 'width': 20000000, 'height': 3, 'label': 'Rectangle 3'}\n",
    "\n",
    "]\n",
    "# df['Date'] = df['Date'].apply(lambda x: x.timestamp())\n",
    "\n",
    "# Create a line plot\n",
    "line_plot = _interactive.hvplot(height=500,\n",
    "    width=250, title= 'Real Time data for ',# + _wellbore + \" \" + _sensortype,\n",
    "    x='Value',\n",
    "    # xlabel = _sensortype,\n",
    "    # hover_cols=['Description'],\n",
    "    y='Date'# ,\n",
    "    # value_label = 'Date'\n",
    "    # ,ylim=(min(df['Date']), max(df['Date']))#,\n",
    ")\n",
    "\n",
    "# Create a list to store the polygons and text labels\n",
    "plots = []\n",
    "\n",
    "# Add the rectangles to the plot\n",
    "for rectangle in rectangles:\n",
    "    # Define the vertices of the rectangle\n",
    "    vertices = [(rectangle['x'], rectangle['y']), (rectangle['x'] + rectangle['width'], rectangle['y']),\n",
    "                (rectangle['x'] + rectangle['width'], rectangle['y'] + rectangle['height']),\n",
    "                (rectangle['x'], rectangle['y'] + rectangle['height'])]\n",
    "    \n",
    "    # Create a polygon for the rectangle\n",
    "    polygon = hv.Polygons([vertices]).opts(alpha=0.5)\n",
    "    \n",
    "    # Add the polygon to the list of plots\n",
    "    plots.append(polygon)\n",
    "    \n",
    "    # Add the label to the rectangle\n",
    "    label = hv.Text(rectangle['x'] + rectangle['width'] / 2, rectangle['y'] + rectangle['height'] / 2, rectangle['label']).opts(color='black')\n",
    "    \n",
    "    # Add the label to the list of plots\n",
    "    plots.append(label)\n",
    "\n",
    "# Combine all the plots into a single plot\n",
    "combined_plot = line_plot * hv.Overlay(plots)\n",
    "\n",
    "# Display the plot\n",
    "combined_plot"
   ]
  },
  {
   "cell_type": "code",
   "execution_count": null,
   "metadata": {},
   "outputs": [],
   "source": [
    "import pandas as pd\n",
    "import hvplot.pandas\n",
    "import holoviews as hv\n",
    "import numpy as np\n",
    "\n",
    "# Define the coordinates of the rectangles\n",
    "rectangles = [\n",
    "    {'x': 1, 'y': pd.Timestamp('2022-11-24 05:27:00'), 'width': 20000000, 'height': 2, 'label': 'Rectangle 1'},\n",
    "    {'x': 4, 'y': pd.Timestamp('2022-11-24 05:25:00'), 'width': 20000000, 'height': 1, 'label': 'Rectangle 2'},\n",
    "    {'x': 7, 'y': pd.Timestamp('2022-11-24 05:29:00'), 'width': 20000000, 'height': 3, 'label': 'Rectangle 3'}\n",
    "]\n",
    "\n",
    "# Convert the y values to Unix timestamps\n",
    "for rectangle in rectangles:\n",
    "    rectangle['y'] = rectangle['y'].timestamp()\n",
    "\n",
    "# Create a line plot\n",
    "df = pd.DataFrame({'Value': [0, 1, 2, 3, 4, 5, 6, 7, 8, 9], 'Date': pd.date_range('2022-11-24 05:25:00', periods=10, freq='T')})\n",
    "line_plot = df.hvplot.line(x='Value', y='Date')\n",
    "\n",
    "# Create a list to store the polygons and text labels\n",
    "plots = []\n",
    "\n",
    "# Add the rectangles to the plot\n",
    "for rectangle in rectangles:\n",
    "    # Define the vertices of the rectangle\n",
    "    vertices = [(rectangle['x'], rectangle['y']), (rectangle['x'] + rectangle['width'], rectangle['y']),\n",
    "                (rectangle['x'] + rectangle['width'], rectangle['y'] + rectangle['height']),\n",
    "                (rectangle['x'], rectangle['y'] + rectangle['height'])]\n",
    "    \n",
    "    # Convert the y-coordinates to float values\n",
    "    vertices = [(x, float(y)) for x, y in vertices]\n",
    "    \n",
    "    # Create a polygon for the rectangle\n",
    "    polygon = hv.Polygons([vertices]).opts(alpha=0.5)\n",
    "    print(vertices)\n",
    "    # Add the polygon to the list of plots\n",
    "    plots.append(polygon)\n",
    "    \n",
    "    # Add the label to the rectangle\n",
    "    # label = hv.Text(rectangle['x'] + rectangle['width'] / 2, rectangle['y'] + rectangle['height'] / 2, rectangle['label']).opts(color='black')\n",
    "    \n",
    "    # Add the label to the list of plots\n",
    "    # plots.append(label)\n",
    "\n",
    "# Combine all the plots into a single plot\n",
    "combined_plot = line_plot * hv.Overlay(plots)\n",
    "\n",
    "# Display the plot\n",
    "combined_plot"
   ]
  },
  {
   "cell_type": "code",
   "execution_count": null,
   "metadata": {},
   "outputs": [],
   "source": [
    "import pandas as pd\n",
    "import hvplot.pandas\n",
    "import holoviews as hv\n",
    "import numpy as np\n",
    "\n",
    "# Define the coordinates of the rectangles\n",
    "rectangles = [\n",
    "    {'x': 1, 'y': pd.Timestamp('2022-11-24 05:27:00'), 'width': 20000000, 'height': 2, 'label': 'Rectangle 1'},\n",
    "    {'x': 4, 'y': pd.Timestamp('2022-11-24 05:25:00'), 'width': 20000000, 'height': 1, 'label': 'Rectangle 2'},\n",
    "    {'x': 7, 'y': pd.Timestamp('2022-11-24 05:29:00'), 'width': 20000000, 'height': 3, 'label': 'Rectangle 3'}\n",
    "]\n",
    "\n",
    "# Convert the y values to Unix timestamps\n",
    "for rectangle in rectangles:\n",
    "    rectangle['y'] = rectangle['y'].timestamp()\n",
    "\n",
    "# Create a line plot with Unix timestamp y values\n",
    "df = pd.DataFrame({'Value': [0, 1, 2, 3, 4, 5, 6, 7, 8, 9], 'Date': pd.date_range('2022-11-24 05:25:00', periods=10, freq='T')})\n",
    "df['Date'] = df['Date'].apply(lambda x: x.timestamp())\n",
    "line_plot = df.hvplot.line(x='Value', y='Date')\n",
    "\n",
    "\n",
    "# line_plot = _interactive.hvplot(height=500,\n",
    "#     width=250, title= 'Real Time data for ',# + _wellbore + \" \" + _sensortype,\n",
    "#     x='Value',\n",
    "#     # xlabel = _sensortype,\n",
    "#     # hover_cols=['Description'],\n",
    "#     y=['Date']# ,\n",
    "#     # value_label = 'Date'\n",
    "#     # ,ylim=(min(df['Date']), max(df['Date']))#,\n",
    "# )\n",
    "\n",
    "\n",
    "\n",
    "# Create a list to store the polygons and text labels\n",
    "plots = []\n",
    "\n",
    "# Add the rectangles to the plot\n",
    "for rectangle in rectangles:\n",
    "    # Define the vertices of the rectangle\n",
    "    vertices = [(rectangle['x'], rectangle['y']), (rectangle['x'] + rectangle['width'], rectangle['y']),\n",
    "                (rectangle['x'] + rectangle['width'], rectangle['y'] + rectangle['height']),\n",
    "                (rectangle['x'], rectangle['y'] + rectangle['height'])]\n",
    "    \n",
    "    # Convert the y-coordinates to float values\n",
    "    vertices = [(x, float(y)) for x, y in vertices]\n",
    "    print(vertices)\n",
    "    \n",
    "    # Create a polygon for the rectangle\n",
    "    polygon = hv.Polygons([vertices]).opts(alpha=0.5)\n",
    "    \n",
    "    # Add the polygon to the list of plots\n",
    "    plots.append(polygon)\n",
    "    \n",
    "    # Add the label to the rectangle\n",
    "    label = hv.Text(rectangle['x'] + rectangle['width'] / 2, rectangle['y'] + rectangle['height'] / 2, rectangle['label']).opts(color='black')\n",
    "    \n",
    "    # Add the label to the list of plots\n",
    "    plots.append(label)\n",
    "\n",
    "# Combine all the plots into a single plot\n",
    "combined_plot = line_plot + hv.Overlay(plots)\n",
    "\n",
    "# Display the plot\n",
    "combined_plot"
   ]
  },
  {
   "cell_type": "code",
   "execution_count": null,
   "metadata": {},
   "outputs": [],
   "source": [
    "df.head(10)"
   ]
  },
  {
   "cell_type": "code",
   "execution_count": null,
   "metadata": {},
   "outputs": [],
   "source": [
    "# Define the coordinates of the rectangle\n",
    "x1, y1 = 1, 4\n",
    "x2, y2 = 3, 6\n",
    "\n",
    "# Create a dataframe with the coordinates of the rectangle\n",
    "df = pd.DataFrame({'x': [x1, x2, x2, x1], 'y': [y1, y1, y2, y2]})\n",
    "\n",
    "# Create an area plot for the rectangle\n",
    "plot = df.hvplot.area(x='x', y='y', alpha=0.5)\n",
    "\n",
    "# Display the plot\n",
    "plot"
   ]
  },
  {
   "cell_type": "code",
   "execution_count": null,
   "metadata": {},
   "outputs": [],
   "source": [
    "import pandas as pd\n",
    "import hvplot.pandas\n",
    "import holoviews as hv\n",
    "import matplotlib.dates as mdates\n",
    "\n",
    "# Define the coordinates of the rectangles\n",
    "y1, y2 = 4, 6\n",
    "df = pd.DataFrame({\n",
    "    'starttime': ['2022-11-24 05:27:00', '2022-11-24 05:27:20'],\n",
    "    'endtime': ['2022-11-24 05:30:10', '2022-11-24 05:32:00'],\n",
    "    'label': ['Rectangle 1', 'Rectangle 2']\n",
    "    \n",
    "})\n",
    "\n",
    "# Convert the starttime and endtime columns to datetime objects\n",
    "df['starttime'] = pd.to_datetime(df['starttime'])\n",
    "df['endtime'] = pd.to_datetime(df['endtime'])\n",
    "\n",
    "# Create a new column with the duration of each rectangle\n",
    "# df['duration'] = df['endtime'] - df['starttime']\n",
    "\n",
    "# Create a new column with the y2 coordinate of each rectangle\n",
    "# df['y2'] = df['starttime']\n",
    "\n",
    "# Create a new column with the y1 coordinate of each rectangle\n",
    "# df['y1'] = df['y2'] - df['duration']\n",
    "\n",
    "# Create an area plot for the rectangles with inverted axes\n",
    "plot = df.hvplot.area(x='starttime', y='starttime', x2='endtime', y2='endtime', alpha=0.5, invert_axes=True)\n",
    "\n",
    "# Convert the datetime objects to numeric values\n",
    "x_values = mdates.date2num(df['starttime'].to_numpy())\n",
    "y_values = mdates.date2num(df['starttime'].to_numpy())\n",
    "\n",
    "# Add text labels to the plot\n",
    "labels = hv.Text('2022-11-24 05:27:00', '2022-11-24 05:30:10', \"test\")#.opts(invert_axes=True, color='black')\n",
    "hv.help(hv.Text)"
   ]
  },
  {
   "cell_type": "code",
   "execution_count": null,
   "metadata": {},
   "outputs": [],
   "source": [
    "%pip install mpld3"
   ]
  },
  {
   "cell_type": "code",
   "execution_count": null,
   "metadata": {},
   "outputs": [],
   "source": [
    "import pandas as pd\n",
    "import hvplot.pandas\n",
    "import holoviews as hv\n",
    "\n",
    "# Define the coordinates of the rectangles\n",
    "rectangles = [\n",
    "    {'x': 1, 'y': 4, 'width': 2, 'height': 2, 'label': 'Rectangle 1'},\n",
    "    {'x': 4, 'y': 5, 'width': 3, 'height': 1, 'label': 'Rectangle 2'},\n",
    "    {'x': 7, 'y': 3, 'width': 1, 'height': 3, 'label': 'Rectangle 3'}\n",
    "]\n",
    "\n",
    "# Create a line plot\n",
    "df = pd.DataFrame({'x': [0, 1, 2, 3, 4, 5, 6, 7, 8, 9], 'y': [3, 4, 5, 6, 5, 4, 3, 2, 1, 2]})\n",
    "line_plot = df.hvplot.line(x='x', y='y')\n",
    "\n",
    "# Create a list to store the polygons and text labels\n",
    "plots = []\n",
    "\n",
    "# Add the rectangles to the plot\n",
    "for rectangle in rectangles:\n",
    "    # Define the vertices of the rectangle\n",
    "    vertices = [(rectangle['x'], rectangle['y']), (rectangle['x'] + rectangle['width'], rectangle['y']),\n",
    "                (rectangle['x'] + rectangle['width'], rectangle['y'] + rectangle['height']),\n",
    "                (rectangle['x'], rectangle['y'] + rectangle['height'])]\n",
    "    \n",
    "    # Create a polygon for the rectangle\n",
    "    polygon = hv.Polygons([vertices]).opts(alpha=0.5)\n",
    "    \n",
    "    # Add the polygon to the list of plots\n",
    "    plots.append(polygon)\n",
    "    \n",
    "    # Add the label to the rectangle\n",
    "    label = hv.Text(rectangle['x'] + rectangle['width'] / 2, rectangle['y'] + rectangle['height'] / 2, rectangle['label']).opts(color='black')\n",
    "    \n",
    "    # Add the label to the list of plots\n",
    "    plots.append(label)\n",
    "\n",
    "# Combine all the plots into a single plot\n",
    "combined_plot = line_plot * hv.Overlay(plots)\n",
    "\n",
    "# Display the plot\n",
    "combined_plot"
   ]
  },
  {
   "cell_type": "code",
   "execution_count": null,
   "metadata": {},
   "outputs": [],
   "source": [
    "hv.help(hv.Text)"
   ]
  },
  {
   "cell_type": "code",
   "execution_count": null,
   "metadata": {},
   "outputs": [],
   "source": [
    "import pandas as pd\n",
    "import hvplot.pandas\n",
    "\n",
    "# Define the coordinates of the rectangles\n",
    "y1, y2 = 4, 6\n",
    "df = pd.DataFrame({\n",
    "    'starttime': ['2022-11-24 05:27:00', '2022-11-24 05:27:20'],\n",
    "    'endtime': ['2022-11-24 05:30:10', '2022-11-24 05:32:00'],\n",
    "    'y1': [y1, y1],\n",
    "    'y2': [60, 60]\n",
    "})\n",
    "\n",
    "# Convert the starttime and endtime columns to datetime objects\n",
    "df['starttime'] = pd.to_datetime(df['starttime'])\n",
    "df['endtime'] = pd.to_datetime(df['endtime'])\n",
    "\n",
    "# Create a new column with the duration of each rectangle\n",
    "df['duration'] = df['endtime'] - df['starttime']\n",
    "\n",
    "# Create a new column with the x2 coordinate of each rectangle\n",
    "df['x2'] = df['starttime']\n",
    "\n",
    "# Create a new column with the x1 coordinate of each rectangle\n",
    "df['x1'] = df['x2'] - df['duration']\n",
    "\n",
    "# Create an area plot for the rectangles\n",
    "plot = df.hvplot.area(x=['y1', 'y2'], y='starttime', y2='endtime', alpha=0.5)\n",
    "\n",
    "# Display the plot\n",
    "plot"
   ]
  },
  {
   "cell_type": "code",
   "execution_count": null,
   "metadata": {},
   "outputs": [],
   "source": [
    "import pandas as pd\n",
    "import hvplot.pandas\n",
    "\n",
    "# Define the coordinates of the rectangles\n",
    "y1, y2 = 4, 6\n",
    "df = pd.DataFrame({\n",
    "    'starttime': ['2022-11-24 05:27:00', '2022-11-24 05:27:20'],\n",
    "    'endtime': ['2022-11-24 05:30:10', '2022-11-24 05:32:00'],\n",
    "    'y1': [y1, y1],\n",
    "    'y2': [60, 60]\n",
    "})\n",
    "\n",
    "# Convert the starttime and endtime columns to datetime objects\n",
    "df['starttime'] = pd.to_datetime(df['starttime'])\n",
    "df['endtime'] = pd.to_datetime(df['endtime'])\n",
    "\n",
    "# Create a new column with the duration of each rectangle\n",
    "df['duration'] = df['endtime'] - df['starttime']\n",
    "\n",
    "# Create a new column with the y2 coordinate of each rectangle\n",
    "df['y2'] = df['starttime']\n",
    "\n",
    "# Create a new column with the y1 coordinate of each rectangle\n",
    "df['y1'] = df['y2'] - df['duration']\n",
    "\n",
    "# Create an area plot for the rectangles with inverted axes\n",
    "plot = df.hvplot.area(x='y1', y='starttime', x2='y2', y2='endtime', alpha=0.5)#.opts(inverted=True)\n",
    "\n",
    "# Display the plot\n",
    "plot"
   ]
  },
  {
   "cell_type": "code",
   "execution_count": null,
   "metadata": {},
   "outputs": [],
   "source": [
    "_interactive.head(5)"
   ]
  },
  {
   "cell_type": "code",
   "execution_count": null,
   "metadata": {},
   "outputs": [],
   "source": [
    "combined_plot"
   ]
  },
  {
   "cell_type": "code",
   "execution_count": null,
   "metadata": {},
   "outputs": [],
   "source": [
    "pn.Row(plot, plot.Scatter)"
   ]
  },
  {
   "cell_type": "code",
   "execution_count": null,
   "metadata": {},
   "outputs": [],
   "source": [
    "print(plot.count())"
   ]
  },
  {
   "cell_type": "code",
   "execution_count": null,
   "metadata": {},
   "outputs": [],
   "source": [
    "print(len(i.result()))\n"
   ]
  },
  {
   "cell_type": "code",
   "execution_count": null,
   "metadata": {},
   "outputs": [],
   "source": [
    "plot.Scatter"
   ]
  },
  {
   "cell_type": "code",
   "execution_count": null,
   "metadata": {},
   "outputs": [],
   "source": [
    "_interactive, s =_make_interactive()\n",
    "# _interactive.head(20)\n",
    "\n",
    "plot = _interactive.hvplot(height=1000,\n",
    "        width=500, title= 'Real Time data for ',# + _wellbore + \" \" + _sensortype,\n",
    "        x='Value',\n",
    "        # xlabel = _sensortype,\n",
    "        y=['Date'] \n",
    "        # ,ylim=(min(df['Date']), max(df['Date']))#,\n",
    "    )\n",
    "scatter_plot = _interactive.hvplot(y=['DescriptionDate'], hover_cols=['Description'], kind='scatter')\n",
    "combined_plot  =plot * scatter_plot\n",
    "# combined_plot"
   ]
  },
  {
   "cell_type": "code",
   "execution_count": null,
   "metadata": {},
   "outputs": [],
   "source": [
    "# combined_plot\n",
    "_interactive.hvplot(y=['DescriptionDate'], hover_cols=['Description'], kind='scatter')"
   ]
  },
  {
   "cell_type": "code",
   "execution_count": null,
   "metadata": {},
   "outputs": [],
   "source": [
    "# _interactive[!_interactive.isna()]\n",
    "             \n",
    "_interactive[_interactive['Date'].notna()].head(5)\n"
   ]
  },
  {
   "cell_type": "code",
   "execution_count": null,
   "metadata": {},
   "outputs": [],
   "source": [
    "import random\n",
    "import string\n",
    "\n",
    "\n",
    "# Create a range of timestamps\n",
    "timestamps = pd.date_range(start='2022-01-01', end='2022-01-05', freq='H')\n",
    "\n",
    "\n",
    "\n",
    "# Plot the DataFrame with data points for the 'description' column\n",
    "plot_test = _interactive.hvplot(height=1000,\n",
    "        width=500, title= 'Real Time data for ' ,\n",
    "        x='Value',\n",
    "        y=['Date'] \n",
    "        # ,ylim=(min(df['Date']), max(df['Date']))#,\n",
    "    )\n",
    "# Display the plot\n",
    "plot_test"
   ]
  },
  {
   "cell_type": "code",
   "execution_count": null,
   "metadata": {},
   "outputs": [],
   "source": [
    "plot"
   ]
  },
  {
   "cell_type": "code",
   "execution_count": null,
   "metadata": {},
   "outputs": [],
   "source": [
    "# new_interactive_obj = _make_interactive()[0].observe(create_plot, _make_interactive()[0],_make_interactive()[1])\n",
    "_interactive.head(5)\n"
   ]
  },
  {
   "cell_type": "code",
   "execution_count": null,
   "metadata": {},
   "outputs": [],
   "source": [
    "import ipywidgets as widgets\n",
    "from IPython.display import display\n",
    "\n",
    "# Define the function that will be used in the interactive object\n",
    "def my_function(x, y):\n",
    "    return x + y\n",
    "\n",
    "# Create the widgets for the interactive object\n",
    "x_widget = widgets.IntSlider(min=0, max=10, step=1, value=5, description='x:')\n",
    "y_widget = widgets.IntSlider(min=0, max=10, step=1, value=5, description='y:')\n",
    "\n",
    "# Create the interactive object using the function and widgets\n",
    "interactive_obj = widgets.interactive(my_function, x=x_widget, y=y_widget)\n",
    "\n",
    "# Define a function to update the title of the interactive object\n",
    "def update_title(change):\n",
    "    interactive_obj.title = f\"x={x_widget.value}, y={y_widget.value}, result={interactive_obj.result}\"\n",
    "\n",
    "# Watch for changes in the value of the x_widget and y_widget, and update the title of the interactive object\n",
    "x_widget.observe(update_title, 'value')\n",
    "y_widget.observe(update_title,   'value')\n",
    "\n",
    "# Display the interactive object\n",
    "display(interactive_obj)"
   ]
  },
  {
   "cell_type": "code",
   "execution_count": null,
   "metadata": {},
   "outputs": [],
   "source": [
    "### TEST MAKE CLASS\n",
    "\n",
    "\n",
    "class Interactive(param.parameterized):\n",
    "    # import hvplot.pandas\n",
    "    def function_to_generate_dataframe(wellbore, sensortype):\n",
    "        print(wellbore, sensortype)\n",
    "        sensorid = _get_sensorid(_pd_witsml_flattened,wellbore,sensortype)\n",
    "        print(type(sensorid))\n",
    "        print(sensorid)\n",
    "        s= int(sensorid)\n",
    "        id, data = _make_pd_real_time_plot(s)\n",
    "        min_d = min(data['Date'])\n",
    "        max_d = max(data['Date'])\n",
    "        return data\n",
    "\n",
    "    _w_sensortype = _w_sensortypes_select(_pd_witsml_flattened)\n",
    "\n",
    "\n",
    "    # # get the current value of the try_sensor widget\n",
    "    # def callback_sensortype(event):\n",
    "    #     sensortype = event\n",
    "    #     return sensortype\n",
    "\n",
    "    # # bind the callback function to the _w_sensortypes_select widget\n",
    "    # _w_sensortype.param.watch(callback_sensortype, 'value')\n",
    "    # # try_sensor\n",
    "\n",
    "    # def get_chosen_sensortype():\n",
    "    #     # get the current value of the try_sensor widget using the callback_sensortype function\n",
    "    #     sensortype = callback_sensortype( _w_sensortype.value)\n",
    "    #     print(\"sensortype\")\n",
    "    #     print(sensortype)\n",
    "    #     return sensortype\n",
    "    def callback_sensortype(event):\n",
    "        # get the current value of the _w_sensortype widget\n",
    "        print(type(event))\n",
    "        sensortype = event.new\n",
    "        print(type(sensortype))\n",
    "        # print(type(_w_sensortype.__getattribute__('value')))\n",
    "        # print(_w_sensortype.__getattribute__('value'))\n",
    "        return sensortype\n",
    "\n",
    "    # bind the callback function to the _w_sensortype widget\n",
    "    _w_sensortype.param.watch(callback_sensortype, 'value')\n",
    "\n",
    "\n",
    "\n",
    "    def _make_interactive():\n",
    "        _interactive = hvplot.bind\\\n",
    "        (function_to_generate_dataframe, _w_wellbores_select(_pd_witsml_flattened), _w_sensortype) \\\n",
    "        .interactive()\n",
    "        return _interactive, _w_sensortype.param.get_param_values().__getitem__(24)[1]\n",
    "\n",
    "\n",
    "    # get_chosen_sensortype()\n",
    "    # _w_sensortype\n",
    "\n",
    "    # callback_sensortype(_w_sensortype)\n",
    "\n",
    "    # _make_interactive().head(5)\n"
   ]
  },
  {
   "cell_type": "code",
   "execution_count": null,
   "metadata": {},
   "outputs": [],
   "source": [
    "callback_sensortype(_w_sensortype)"
   ]
  },
  {
   "cell_type": "code",
   "execution_count": null,
   "metadata": {},
   "outputs": [],
   "source": [
    "_w_sensortype"
   ]
  },
  {
   "cell_type": "code",
   "execution_count": null,
   "metadata": {},
   "outputs": [],
   "source": [
    "widget = _w_sensortype.param\n",
    "\n",
    "value = widget.get_param_values().__getitem__(24)[1]\n",
    "value\n",
    "# values.__dict__()\n",
    "# value = widget.value()"
   ]
  },
  {
   "cell_type": "code",
   "execution_count": null,
   "metadata": {},
   "outputs": [],
   "source": [
    "_make_interactive().head(5)"
   ]
  },
  {
   "cell_type": "code",
   "execution_count": null,
   "metadata": {},
   "outputs": [],
   "source": [
    "try_sensor = _w_sensortypes_select(_pd_witsml_flattened)\n"
   ]
  },
  {
   "cell_type": "code",
   "execution_count": null,
   "metadata": {},
   "outputs": [],
   "source": [
    "try_sensor"
   ]
  },
  {
   "cell_type": "code",
   "execution_count": null,
   "metadata": {},
   "outputs": [],
   "source": [
    "create_plot(_make_interactive()[0],_make_interactive()[1])"
   ]
  },
  {
   "cell_type": "code",
   "execution_count": null,
   "metadata": {},
   "outputs": [],
   "source": [
    "# TItle of plot is not updating bc you don't trigger _create_plot(), only change the ds within it"
   ]
  },
  {
   "cell_type": "code",
   "execution_count": null,
   "metadata": {},
   "outputs": [],
   "source": [
    "import pandas as pd\n",
    "import hvplot.pandas\n",
    "import param\n",
    "\n",
    "# Define the interactive object with a select widget\n",
    "class MyObject(param.Parameterized):\n",
    "    select_widget = param.Selector(objects=['Option 1', 'Option 2'], default='Option 1', label='Select an option')\n",
    "\n",
    "    def plot(self):\n",
    "        # Generate a sample DataFrame\n",
    "        df = pd.DataFrame({'x': [1, 2, 3], 'y': [4, 5, 6]})\n",
    "\n",
    "        # Create the plot with hvplot\n",
    "        plot = df.hvplot.scatter(x='x', y='y', title=self.select_widget)\n",
    "\n",
    "        # Watch for changes in the value of the select widget and update the title of the plot\n",
    "        def update_title(event):\n",
    "            plot.title = event.new\n",
    "        self.param.watch(update_title, 'select_widget')\n",
    "\n",
    "        return plot\n",
    "\n",
    "# Create an instance of the interactive object and display the plot\n",
    "my_object = MyObject()\n",
    "my_object.plot()"
   ]
  },
  {
   "cell_type": "code",
   "execution_count": null,
   "metadata": {},
   "outputs": [],
   "source": []
  },
  {
   "cell_type": "code",
   "execution_count": null,
   "metadata": {},
   "outputs": [],
   "source": [
    "_w_wellbores_select(_pd_witsml_flattened)"
   ]
  },
  {
   "cell_type": "code",
   "execution_count": null,
   "metadata": {},
   "outputs": [],
   "source": [
    "_w_wellbores_select(_pd_witsml_flattened).param.values()"
   ]
  },
  {
   "cell_type": "code",
   "execution_count": null,
   "metadata": {},
   "outputs": [],
   "source": [
    "\n",
    "\n",
    "df = pn.rx(data)\n",
    "plot = df.hvplot(height=1000,\n",
    "    width=500, title='Real Time',\n",
    "    x='Value',\n",
    "    y=['Date'], \n",
    "    ylim=(min(df['Date']), max(df['Date']))    # ).opts(invert_yaxis=True)\n",
    ")\n",
    "\n"
   ]
  },
  {
   "cell_type": "code",
   "execution_count": null,
   "metadata": {},
   "outputs": [],
   "source": [
    "df = data\n",
    "e = pn.widgets.IntSlider(value=2, start=1, end=10, name=\"e\").rx()\n",
    "pn.Row(pn.rx(df.hvplot.line)(line_width=e))"
   ]
  },
  {
   "cell_type": "code",
   "execution_count": null,
   "metadata": {},
   "outputs": [],
   "source": [
    "min(data['Date'])"
   ]
  },
  {
   "cell_type": "code",
   "execution_count": null,
   "metadata": {},
   "outputs": [],
   "source": [
    "create_plot(data, _pd_witsml_flattened)"
   ]
  },
  {
   "cell_type": "code",
   "execution_count": null,
   "metadata": {},
   "outputs": [],
   "source": [
    "print(wellbore, sensor)"
   ]
  },
  {
   "cell_type": "code",
   "execution_count": null,
   "metadata": {},
   "outputs": [],
   "source": [
    "_get_sensorid(_pd_witsml_flattened)"
   ]
  },
  {
   "cell_type": "code",
   "execution_count": null,
   "metadata": {},
   "outputs": [],
   "source": [
    "_pd_witsml_flattened[(_pd_witsml_flattened['nameWellbore'] == 'NO 16/2-D-18') & (_pd_witsml_flattened['uid'] == 'BITDEP')]\n"
   ]
  },
  {
   "cell_type": "code",
   "execution_count": null,
   "metadata": {},
   "outputs": [],
   "source": [
    "_pd_witsml_flattened[_pd_witsml_flattened['id'] == 881650803765]"
   ]
  },
  {
   "cell_type": "code",
   "execution_count": null,
   "metadata": {},
   "outputs": [],
   "source": [
    "_pd_witsml_flattened"
   ]
  },
  {
   "cell_type": "code",
   "execution_count": null,
   "metadata": {},
   "outputs": [],
   "source": [
    "_sel_sensorid"
   ]
  },
  {
   "cell_type": "code",
   "execution_count": null,
   "metadata": {},
   "outputs": [],
   "source": [
    "id, data = _make_pd_real_time_plot(7119861774595595)\n",
    "data"
   ]
  },
  {
   "cell_type": "code",
   "execution_count": null,
   "metadata": {},
   "outputs": [],
   "source": [
    "test= pn.rx(_pd_real_time_plot)\n",
    "\n",
    "head_widget = pn.widgets.IntSlider(name=\"Head\", start=1, end=10)\n",
    "\n",
    "test.head(head_widget)"
   ]
  },
  {
   "cell_type": "code",
   "execution_count": null,
   "metadata": {},
   "outputs": [],
   "source": [
    "\n",
    "pn.ReactiveExpr(\n",
    "    test.head(head_widget),  # only show a few rows to save some space\n",
    "    widget_layout=pn.Column,\n",
    "    widget_location=\"top\",\n",
    ")"
   ]
  },
  {
   "cell_type": "code",
   "execution_count": null,
   "metadata": {},
   "outputs": [],
   "source": [
    "table = pn.widgets.Tabulator(test, page_size=10, pagination=\"remote\")\n",
    "pn.Column(_w_wellbores_select(_pd_witsml),  table)\n"
   ]
  },
  {
   "cell_type": "code",
   "execution_count": null,
   "metadata": {},
   "outputs": [],
   "source": [
    "import matplotlib.pyplot as plt\n",
    "import numpy as np\n",
    "import streamlit as st\n",
    "\n",
    "from matplotlib.figure import Figure\n",
    "\n",
    "data = np.random.normal(1, 1, size=100)\n",
    "fig = Figure(figsize=(8,4))\n",
    "ax = fig.subplots()\n",
    "bins = pn.widgets.slider(value=20, min_value=10, max_value=30, step=1, label=\"Bins\")\n",
    "ax.hist(data, bins=bins)\n",
    "\n",
    "st.pyplot(fig)"
   ]
  }
 ],
 "metadata": {
  "kernelspec": {
   "display_name": "Python 3",
   "language": "python",
   "name": "python3"
  },
  "language_info": {
   "codemirror_mode": {
    "name": "ipython",
    "version": 3
   },
   "file_extension": ".py",
   "mimetype": "text/x-python",
   "name": "python",
   "nbconvert_exporter": "python",
   "pygments_lexer": "ipython3",
   "version": "3.11.5"
  }
 },
 "nbformat": 4,
 "nbformat_minor": 2
}
