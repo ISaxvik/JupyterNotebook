{
 "cells": [
  {
   "cell_type": "code",
   "execution_count": null,
   "metadata": {},
   "outputs": [],
   "source": [
    "# %pip install hvplot\n",
    "# %pip install plotly\n",
    "# %pip install holoviews\n",
    "# %pip install xarray\n",
    "# %pip install panel"
   ]
  },
  {
   "cell_type": "code",
   "execution_count": null,
   "metadata": {},
   "outputs": [],
   "source": [
    "import numpy as np\n",
    "\n",
    "import datetime as dt\n",
    "import panel as pn\n",
    "\n",
    "pn.extension()\n",
    "import panel as pn\n",
    "import pandas as pd\n",
    "import numpy as np\n",
    "import random\n",
    "from datetime import datetime, timedelta\n",
    "\n",
    "import pathlib\n",
    "\n",
    "import holoviews as hv\n",
    "import matplotlib.pyplot as plt\n",
    "import hvplot\n",
    "import param\n",
    "import hvplot.pandas\n",
    "\n",
    "\n",
    "pn.extension(sizing_mode='stretch_width')\n",
    "\n",
    "pn.extension('perspective')"
   ]
  },
  {
   "cell_type": "code",
   "execution_count": null,
   "metadata": {},
   "outputs": [],
   "source": [
    "# Contact Project Administrator to get these\n",
    "TENANT_ID = \"3aa4a235-b6e2-48d5-9195-7fcf05b459b0\" # AAD using @equinor.com\n",
    "CLIENT_ID = \"3d7a85da-05ab-4675-b5f9-0c4b96a1c84b\" # CDF_ALL_USER_APPLICATION_FLOW\n",
    "CDF_CLUSTER = \"westeurope-1\"\n",
    "\n",
    "# -------------for DEV project-----------------\n",
    "COGNITE_PROJECT = \"equinor-dev\"\n",
    "\n",
    "# -------------for TEST project-----------------\n",
    "# COGNITE_PROJECT = \"equinor-test\""
   ]
  },
  {
   "cell_type": "code",
   "execution_count": null,
   "metadata": {},
   "outputs": [],
   "source": [
    "from cognite.client import CogniteClient\n",
    "client = CogniteClient.default_oauth_interactive(\n",
    "    project=COGNITE_PROJECT,\n",
    "    tenant_id=TENANT_ID,\n",
    "    client_id=CLIENT_ID,\n",
    "    cdf_cluster=CDF_CLUSTER,\n",
    "    client_name=\"my-cognite-python-test\", # a name to identify your session\n",
    ")\n",
    "from cognite.client.data_classes import LabelFilter"
   ]
  },
  {
   "cell_type": "code",
   "execution_count": null,
   "metadata": {},
   "outputs": [],
   "source": [
    "display(f'{client.version=} / {client.config.project=}')\n",
    "# print(client.iam.token.inspect())"
   ]
  },
  {
   "cell_type": "code",
   "execution_count": null,
   "metadata": {},
   "outputs": [],
   "source": [
    "#test"
   ]
  },
  {
   "cell_type": "code",
   "execution_count": null,
   "metadata": {},
   "outputs": [],
   "source": [
    "wellcom_dataset = \"src:015:wellcom\"\n",
    "edm_dataset = \"src:012:edm\"\n",
    "witsml_dataset = \"src:014:witsmldata\""
   ]
  },
  {
   "cell_type": "code",
   "execution_count": null,
   "metadata": {},
   "outputs": [],
   "source": [
    "active_wellbore = \"active:wellbore\"\n",
    "match_witsml = \"match:witsml:wellcom\" # sensor data only for johan svendrup\n",
    "match_edm = \"match:edm:wellcom\""
   ]
  },
  {
   "cell_type": "markdown",
   "metadata": {},
   "source": [
    "# defien and show datasets"
   ]
  },
  {
   "cell_type": "code",
   "execution_count": null,
   "metadata": {},
   "outputs": [],
   "source": [
    "#list wellcom wellbores that are active in WITSML\n",
    "active_wellbores = client.assets.list(data_set_external_ids = wellcom_dataset, labels=LabelFilter(contains_all=[active_wellbore]), limit=-1)\n",
    "active_wellbores"
   ]
  },
  {
   "cell_type": "code",
   "execution_count": null,
   "metadata": {},
   "outputs": [],
   "source": [
    "witsml_db  = client.time_series.list(data_set_external_ids = witsml_dataset, limit=-1)\n",
    "witsml_db"
   ]
  },
  {
   "cell_type": "markdown",
   "metadata": {},
   "source": [
    "## make to padnas"
   ]
  },
  {
   "cell_type": "code",
   "execution_count": null,
   "metadata": {},
   "outputs": [],
   "source": [
    "pd_active_wellbores = active_wellbores.to_pandas(metadata_prefix=active_wellbores)\n",
    "pd_active_wellbores"
   ]
  },
  {
   "cell_type": "code",
   "execution_count": null,
   "metadata": {},
   "outputs": [],
   "source": [
    "_pd_witsml = witsml_db.to_pandas(metadata_prefix=witsml_db)\n",
    "_pd_witsml"
   ]
  },
  {
   "cell_type": "markdown",
   "metadata": {},
   "source": [
    "### query pandas witsml"
   ]
  },
  {
   "cell_type": "code",
   "execution_count": null,
   "metadata": {},
   "outputs": [],
   "source": [
    "_pd_witsml.columns"
   ]
  },
  {
   "cell_type": "code",
   "execution_count": null,
   "metadata": {},
   "outputs": [],
   "source": [
    "import json \n",
    "import pandas as pd \n",
    "# from pandas.json_normalize import json_normalize #package for flattening json in pandas df"
   ]
  },
  {
   "cell_type": "markdown",
   "metadata": {},
   "source": [
    "## flatten witsml data"
   ]
  },
  {
   "cell_type": "code",
   "execution_count": null,
   "metadata": {},
   "outputs": [],
   "source": [
    "_pd_witsml_flattened = pd.concat([_pd_witsml.drop(['metadata'], axis=1), pd.json_normalize(_pd_witsml['metadata'])], axis=1)\n",
    "\n"
   ]
  },
  {
   "cell_type": "code",
   "execution_count": null,
   "metadata": {},
   "outputs": [],
   "source": [
    "_pd_witsml_flattened.columns"
   ]
  },
  {
   "cell_type": "code",
   "execution_count": null,
   "metadata": {},
   "outputs": [],
   "source": [
    "_pd_witsml_flattened = _pd_witsml_flattened[['id', 'uidWell', 'uidWellbore',  'nameWellbore','external_id', 'name', 'is_string', 'unit', 'asset_id', 'is_step',\n",
    "       'description', 'security_categories', 'data_set_id', 'created_time',\n",
    "       'last_updated_time', 'type', 'commonData_dTimCreation',\n",
    "       'commonData_dTimLastChange', 'commonData_itemState',\n",
    "       'commonData_sourceName', 'creationDate', 'direction',\n",
    "       'endDateTimeIndex', 'indexCurve', 'indexType', 'name', 'nameWell',\n",
    "       'nullValue', 'objectGrowing', 'serviceCompany',\n",
    "       'startDateTimeIndex',  'uidLog',\n",
    "       'unavailable_in_source', 'witsml-server-ref', 'source',\n",
    "       'curveDescription', 'maxDateTimeIndex', 'minDateTimeIndex', 'mnemAlias',\n",
    "       'mnemonic', 'typeLogData', 'uid', 'unit']]\n",
    "_pd_witsml_flattened"
   ]
  },
  {
   "cell_type": "code",
   "execution_count": null,
   "metadata": {},
   "outputs": [],
   "source": [
    "_pd_witsml_flattened[_pd_witsml_flattened['description'] == 'BITDEP']['external_id'].iloc[0]"
   ]
  },
  {
   "cell_type": "code",
   "execution_count": null,
   "metadata": {},
   "outputs": [],
   "source": [
    "_pd_witsml_flattened['nameWell'].nunique()"
   ]
  },
  {
   "cell_type": "code",
   "execution_count": null,
   "metadata": {},
   "outputs": [],
   "source": [
    "_df_name_is_cempumppr = _pd_witsml_flattened[_pd_witsml_flattened['description'] == 'CEMPUMPPR']"
   ]
  },
  {
   "cell_type": "code",
   "execution_count": null,
   "metadata": {},
   "outputs": [],
   "source": [
    "_df_name_is_cempumppr.sort_values(by=['startDateTimeIndex']).head(80)"
   ]
  },
  {
   "cell_type": "code",
   "execution_count": null,
   "metadata": {},
   "outputs": [],
   "source": [
    "len(_df_name_is_cempumppr)"
   ]
  },
  {
   "cell_type": "code",
   "execution_count": null,
   "metadata": {},
   "outputs": [],
   "source": [
    "len(_df_name_is_cempumppr['nameWellbore'].unique())"
   ]
  },
  {
   "cell_type": "markdown",
   "metadata": {},
   "source": [
    "## find sensorid to base real time data on"
   ]
  },
  {
   "cell_type": "code",
   "execution_count": null,
   "metadata": {},
   "outputs": [],
   "source": [
    "_df_name_is_bitdep = _pd_witsml_flattened[_pd_witsml_flattened['description'] == 'BITDEP']"
   ]
  },
  {
   "cell_type": "code",
   "execution_count": null,
   "metadata": {},
   "outputs": [],
   "source": [
    "_df_name_is_bitdep[_df_name_is_bitdep['nameWellbore'] == 'NO 16/2-D-18']"
   ]
  },
  {
   "cell_type": "markdown",
   "metadata": {},
   "source": [
    "## set sensorid"
   ]
  },
  {
   "cell_type": "code",
   "execution_count": null,
   "metadata": {},
   "outputs": [],
   "source": [
    "_sel_sensorid = int(_df_name_is_bitdep[_df_name_is_bitdep['nameWellbore'] == 'NO 16/2-D-15'].id.iloc[0])\n",
    "_sel_sensorid "
   ]
  },
  {
   "cell_type": "markdown",
   "metadata": {},
   "source": [
    "#### make list of all sensorids to use in panel"
   ]
  },
  {
   "cell_type": "code",
   "execution_count": null,
   "metadata": {},
   "outputs": [],
   "source": [
    "_sensorids_list = pd.Series(_df_name_is_bitdep['nameWellbore']).unique().tolist()\n",
    "# _sensorids_list"
   ]
  },
  {
   "cell_type": "code",
   "execution_count": null,
   "metadata": {},
   "outputs": [],
   "source": [
    "sr2 = pd.Series(pd.Series(_df_name_is_bitdep['nameWellbore']).tolist(), index = _df_name_is_bitdep['id'])\n",
    "d = {key: value for key, value in sr2.items()}\n",
    "_sensorids_list = d\n",
    "_sensorids_list\n"
   ]
  },
  {
   "cell_type": "markdown",
   "metadata": {},
   "source": [
    "#### panel choose _sel_sensorid"
   ]
  },
  {
   "cell_type": "code",
   "execution_count": null,
   "metadata": {},
   "outputs": [],
   "source": [
    "# indicator = pn.indicators.LoadingSpinner(value=False, size=25)\n",
    "# text = pn.widgets.TextInput(value='Start')\n",
    "\n",
    "# def update_indicator(event, clicks):\n",
    "#     if not event:\n",
    "#         return\n",
    "    \n",
    "#     indicator.value = not indicator.value\n",
    "#     text.value = f\"you have clicked me {clicks} times\"\n",
    "\n",
    "# pn.bind(update_indicator, test_widget, test_widget.param.clicks, watch=True)\n",
    "\n",
    "# pn.Column(pn.Row(test_widget, text),indicator)"
   ]
  },
  {
   "cell_type": "code",
   "execution_count": null,
   "metadata": {},
   "outputs": [],
   "source": [
    "# _sensorids_list = [{1:\"fefe\"}, {2 :\"foo\"}]"
   ]
  },
  {
   "cell_type": "code",
   "execution_count": null,
   "metadata": {},
   "outputs": [],
   "source": [
    "sr2 = pd.Series(pd.Series(_df_name_is_bitdep['nameWellbore']).tolist(), index = _df_name_is_bitdep['id'])\n",
    "d = {key: value for key, value in sr2.items()}\n",
    "_sensorids_list = d\n",
    "_sensorids_list\n",
    "\n",
    "\n",
    "\n",
    "_sel_sensorid_widget = pn.widgets.Select(name='Select', options=_sensorids_list)\n",
    "\n",
    "\n",
    "\n",
    "# def _update__sel_sensorid\n",
    "# @param.depends(_sel_sensorid_widget.param.values().__getattribute__('value'))\n",
    "def _update__sel_sensorid( self, value):\n",
    "    _sel_sensorid = value\n",
    "    return _sel_sensorid\n",
    "\n",
    "# bind _sel_sensorid to event _sel_sensorid_widget and display together with _sel_sensorid_widget\n",
    "pn.Row(_sel_sensorid_widget, _sel_sensorid_widget.param.values().__getitem__('value'), pn.bind(_update__sel_sensorid, _sel_sensorid_widget,value=_sel_sensorid_widget.param.values().__getitem__('value'), watch=True )).servable() \n",
    "\n",
    "# pn.Row(_sel_sensorid_widget, pn.bind(_update__sel_sensorid, _sel_sensorid_widget,value=_sel_sensorid_widget.param.values().items())).servable()"
   ]
  },
  {
   "cell_type": "code",
   "execution_count": null,
   "metadata": {},
   "outputs": [],
   "source": [
    "_sel_sensorid =_sel_sensorid_widget.param.values().__getitem__('value')\n",
    "_sel_sensorid\n",
    "## TODO why is _sel_sensorid not updating automatically?"
   ]
  },
  {
   "cell_type": "code",
   "execution_count": null,
   "metadata": {},
   "outputs": [],
   "source": [
    "_sel_sensorid"
   ]
  },
  {
   "cell_type": "code",
   "execution_count": null,
   "metadata": {},
   "outputs": [],
   "source": [
    "_sel_sensorid = 746172675242144"
   ]
  },
  {
   "cell_type": "code",
   "execution_count": null,
   "metadata": {},
   "outputs": [],
   "source": []
  },
  {
   "cell_type": "markdown",
   "metadata": {},
   "source": [
    "## TIME SERIES QUERY based on _sel_sensorid"
   ]
  },
  {
   "cell_type": "code",
   "execution_count": null,
   "metadata": {},
   "outputs": [],
   "source": [
    "from cognite.client.utils import MIN_TIMESTAMP_MS, MAX_TIMESTAMP_MS"
   ]
  },
  {
   "cell_type": "code",
   "execution_count": null,
   "metadata": {},
   "outputs": [],
   "source": [
    "client.time_series.data.retrieve(id=746172675242144,\n",
    "    start=MIN_TIMESTAMP_MS,\n",
    "    end=MAX_TIMESTAMP_MS + 1)"
   ]
  },
  {
   "cell_type": "code",
   "execution_count": null,
   "metadata": {},
   "outputs": [],
   "source": [
    "_df_real_time = client.time_series.data.retrieve(\n",
    "    id=_sel_sensorid,\n",
    "    start=MIN_TIMESTAMP_MS,\n",
    "    end=MAX_TIMESTAMP_MS + 1) \n",
    "_df_real_time\n"
   ]
  },
  {
   "cell_type": "markdown",
   "metadata": {},
   "source": [
    "## to pandas"
   ]
  },
  {
   "cell_type": "code",
   "execution_count": null,
   "metadata": {},
   "outputs": [],
   "source": [
    "_pd_real_time = _df_real_time.to_pandas( )\n",
    "# make Value columsn or easier filtering\n",
    "_pd_real_time['Value'] = _pd_real_time[_pd_real_time.columns]"
   ]
  },
  {
   "cell_type": "code",
   "execution_count": null,
   "metadata": {},
   "outputs": [],
   "source": [
    "_pd_real_time.sort_index(ascending=True)"
   ]
  },
  {
   "cell_type": "code",
   "execution_count": null,
   "metadata": {},
   "outputs": [],
   "source": [
    "_pd_real_time"
   ]
  },
  {
   "cell_type": "code",
   "execution_count": null,
   "metadata": {},
   "outputs": [],
   "source": [
    "\n",
    "_pd_real_time_plot = _pd_real_time\n",
    "# da['new_index'] = str(da.index)\n",
    "# da = da.drop(columns=['dw:witsml:log.1ac57fe7-4c90-4bc7-a350-8d17f077bb32.05424d07-6a7d-4ef2-acc1-2c2a6c2eb062.05424d07-6a7d-4ef2-acc1-2c2a6c2eb062.bitdep||v1'])\n",
    "# da.set_index('new_index')"
   ]
  },
  {
   "cell_type": "code",
   "execution_count": null,
   "metadata": {},
   "outputs": [],
   "source": [
    "_pd_real_time_plot = _pd_real_time_plot.drop(_pd_real_time_plot.columns[[0]], axis=1)  # _pd_witsml_flattened.columns is zero-based pd.Index\n",
    "_pd_real_time_plot['_new_index'] = _pd_real_time_plot.index\n",
    "_pd_real_time_plot"
   ]
  },
  {
   "cell_type": "code",
   "execution_count": null,
   "metadata": {},
   "outputs": [],
   "source": [
    "# from bokeh.sampledata.sea_surface_temperature import sea_surface_temperature as sst\n",
    "\n",
    "# sst.hvplot()"
   ]
  },
  {
   "cell_type": "code",
   "execution_count": null,
   "metadata": {},
   "outputs": [],
   "source": [
    "min(_pd_real_time_plot['_new_index'])\n",
    "# Timestamp('2022-01-26 07:42:42')"
   ]
  },
  {
   "cell_type": "code",
   "execution_count": null,
   "metadata": {},
   "outputs": [],
   "source": [
    "max(_pd_real_time_plot['_new_index'])"
   ]
  },
  {
   "cell_type": "code",
   "execution_count": null,
   "metadata": {},
   "outputs": [],
   "source": [
    "_pd_real_time_plot[pd.isnull(_pd_real_time_plot).any(axis=1)]"
   ]
  },
  {
   "cell_type": "markdown",
   "metadata": {},
   "source": [
    "## plot real time data"
   ]
  },
  {
   "cell_type": "code",
   "execution_count": null,
   "metadata": {},
   "outputs": [],
   "source": [
    "_pd_real_time_plot.hvplot(height=1000,\n",
    "    width=500, title='Real Time',\n",
    "    x='Value',\n",
    "    y=['_new_index'], \n",
    "    ylim=(min(_pd_real_time_plot['_new_index']), max(_pd_real_time_plot['_new_index']))\n",
    ").opts(invert_yaxis=True)"
   ]
  },
  {
   "cell_type": "markdown",
   "metadata": {},
   "source": [
    "## plot with panel"
   ]
  },
  {
   "cell_type": "code",
   "execution_count": null,
   "metadata": {},
   "outputs": [],
   "source": [
    "# sr2 = pd.Series(pd.Series(_pd_witsml_flattened['id']).tolist(), index = _pd_witsml_flattened['id'])\n",
    "# d = {key: value for key, value in sr2.items()}\n",
    "# _sensorids_list = d\n",
    "_sensorids_list = pd.Series(_pd_witsml_flattened['id']).tolist()\n",
    "\n",
    "\n",
    "\n",
    "# create the Select widget\n",
    "_sel_sensorid_widget = pn.widgets.Select(name='Select', options=_sensorids_list, width=200)\n",
    "\n",
    "\n",
    "\n",
    "# def _update__sel_sensorid\n",
    "# @param.depends(_sel_sensorid_widget.param.values().__getattribute__('value'))\n",
    "def _update__sel_sensorid(value):\n",
    "    _sel_sensorid = value\n",
    "    # do something with _sel_sensorid\n",
    "    return _sel_sensorid\n",
    "\n",
    "# bind _sel_sensorid to event _sel_sensorid_widget and display together with _sel_sensorid_widget\n",
    "# pn.Row(_sel_sensorid_widget, _sel_sensorid_widget.param.values().__getitem__('value'), pn.bind(_update__sel_sensorid, _sel_sensorid_widget,value=_sel_sensorid_widget.param.values().__getitem__('value'), watch=True )).servable() \n",
    "\n",
    "# pn.Row(_sel_sensorid_widget, pn.bind(_update__sel_sensorid, _sel_sensorid_widget,value=_sel_sensorid_widget.param.values().items())).servable()"
   ]
  },
  {
   "cell_type": "markdown",
   "metadata": {},
   "source": [
    "#### make plot"
   ]
  },
  {
   "cell_type": "code",
   "execution_count": null,
   "metadata": {},
   "outputs": [],
   "source": [
    "\n",
    "# make plot of real time data\n",
    "plot =_pd_real_time_plot.hvplot(height=1000,\n",
    "    width=500, title='Real Time',\n",
    "    x='Value',\n",
    "    y='_new_index', \n",
    "    ylim=(min(_pd_real_time_plot['_new_index']), max(_pd_real_time_plot['_new_index']))\n",
    ").opts(invert_yaxis=True)\n",
    "\n",
    "\n"
   ]
  },
  {
   "cell_type": "markdown",
   "metadata": {},
   "source": [
    "#### show panel"
   ]
  },
  {
   "cell_type": "code",
   "execution_count": null,
   "metadata": {},
   "outputs": [],
   "source": [
    "\n",
    "# bind the update function to the widget\n",
    "_sel_sensorid_widget.param.watch(_update__sel_sensorid, 'value')\n",
    "\n",
    "# display the widget and plot side by side\n",
    "pn.Row(_sel_sensorid_widget, plot,_sel_sensorid_widget.value).servable()"
   ]
  },
  {
   "cell_type": "markdown",
   "metadata": {},
   "source": [
    "## trying with plotly"
   ]
  },
  {
   "cell_type": "code",
   "execution_count": null,
   "metadata": {},
   "outputs": [],
   "source": [
    "pn.pane.Perspective(\n",
    "    _pd_real_time,columns=['Value']\n",
    ").servable()"
   ]
  },
  {
   "cell_type": "markdown",
   "metadata": {},
   "source": [
    "## trying to bind properly"
   ]
  },
  {
   "cell_type": "code",
   "execution_count": null,
   "metadata": {},
   "outputs": [],
   "source": [
    "# pn.extension(design='material')\n",
    " \n",
    "# csv_file = (\"https://raw.githubusercontent.com/holoviz/panel/main/examples/assets/occupancy.csv\")\n",
    "\n",
    "# data = pd.read_csv(csv_file, parse_dates=[\"date\"], index_col=\"date\")\n",
    " \n",
    "# data.tail()\n",
    " \n",
    " \n",
    " \n",
    "# def transform_data(variable, window, sigma):\n",
    "#     ''' Calculates the rolling average and the outliers '''\n",
    "#     avg = data[variable].rolling(window=window).mean()\n",
    "#     residual = data[variable] - avg\n",
    "#     std = residual.rolling(window=window).std()\n",
    "#     outliers = np.abs(residual) > std * sigma\n",
    "#     return avg, avg[outliers]\n",
    " \n",
    "def create_plot(df):\n",
    "    ''' Plots data '''\n",
    "    # avg, highlight = transform_data(variable, window, sigma)\n",
    "    plot = df.hvplot(height=1000,\n",
    "        width=500, title='Real Time',\n",
    "        x='Value',\n",
    "        y=['_new_index'], \n",
    "        ylim=(min(df['_new_index']), max(df['_new_index']))\n",
    "        ).opts(invert_yaxis=True)\n",
    "    return plot\n",
    "    # return avg.hvplot(height=300, width=400, legend=False) * highlight.hvplot.scatter(\n",
    "    #     color=\"orange\", padding=0.1, legend=False\n",
    "    # )\n",
    " \n",
    " \n",
    " \n",
    " \n",
    "variable_widget = pn.widgets.Select(name=\"variable\", options=list(_pd_real_time_plot.columns))\n",
    "window_widget = pn.widgets.IntSlider(name=\"window\", value=30, start=1, end=60)\n",
    "sigma_widget = pn.widgets.IntSlider(name=\"sigma\", value=10, start=0, end=20)\n",
    "test_widget = pn.widgets.Button(name=\"testing\", button_type=\"primary\")\n",
    " \n",
    " \n",
    "# variable_widget.servable()\n",
    " \n",
    " \n",
    " \n",
    "# create_plot(data=_pd_real_time_plot, window=20, sigma=10)\n",
    " \n",
    " \n",
    " \n",
    "indicator = pn.indicators.LoadingSpinner(value=False, size=25)\n",
    "text = pn.widgets.TextInput(value='Start')\n",
    " \n",
    "def update_indicator(event, clicks):\n",
    "    if not event:\n",
    "        return\n",
    "   \n",
    "    indicator.value = not indicator.value\n",
    "    text.value = f\"you have clicked me {clicks} times\"\n",
    " \n",
    "# pn.bind(update_indicator, test_widget, test_widget.param.clicks, watch=True)\n",
    " \n",
    "# pn.Column(pn.Row(test_widget, text),indicator)\n",
    " \n",
    " \n",
    " \n",
    " \n",
    " \n",
    " \n",
    "# bound_plot = pn.bind(create_plot, variable=variable_widget, window=window_widget, sigma=sigma_widget)\n",
    " \n",
    " \n",
    " \n",
    " \n",
    " \n",
    "# first_app = pn.Column(variable_widget, window_widget, test_widget, sigma_widget, bound_plot)\n",
    "# first_app.servable()"
   ]
  },
  {
   "cell_type": "code",
   "execution_count": null,
   "metadata": {},
   "outputs": [],
   "source": [
    "#plot data \n",
    "def create_plot(df, wellbore, sensortype, df_witsml):\n",
    "    ''' Plots data '''\n",
    "    # avg, highlight = transform_data(variable, window, sigma)\n",
    "    # id, df = _make_pd_real_time_plot(_get_sensorid(_pd_witsml_flattened))\n",
    "    # df = _new_plot\n",
    "    _w_wellbores_rx = _w_wellbores_select(df_witsml).rx()\n",
    "    \n",
    "    plot = df.hvplot(height=1000,\n",
    "        width=500, title= 'Real Time data for ' + wellbore + \" \" + sensortype,\n",
    "        x='Value',\n",
    "        y=['_new_index'], \n",
    "        ylim=(min(df['_new_index']), max(df['_new_index']))#,\n",
    "        \n",
    "        #widgets={'nameWellbore' : _w_wellbores}\n",
    "        # ).opts(invert_yaxis=True)\n",
    "    )\n",
    "    \n",
    "    _pn_plot = pn.Row(pn.Column(_w_wellbores_rx ),pn.rx(plot))\n",
    "    return plot\n",
    "    # return avg.hvplot(height=300, width=400, legend=False) * highlight.hvplot.scatter(\n",
    "    #     color=\"orange\", padding=0.1, legend=False\n",
    "    # )\n",
    "\n",
    "\n",
    "\n",
    "\n",
    "\n",
    "# make datasets\n",
    "def _make_pd_real_time_plot(sensorid) :\n",
    "    \"\"\"\n",
    "    make pd of real time dat to be plotted for given sensorid\n",
    "    Args: sensorid - the id of the sensor\n",
    "    Returns: the id column and the pandas to be plotted\n",
    "    \"\"\"\n",
    "    _pd_real_time_plot = _make_pd_real_time(sensorid)\n",
    "    _realtimedata_id = _pd_real_time_plot.columns\n",
    "    _pd_real_time_plot = _pd_real_time_plot.drop(_pd_real_time_plot.columns[[0]], axis=1)  # _pd_witsml_flattened.columns is zero-based pd.Index\n",
    "    _pd_real_time_plot['_new_index'] = _pd_real_time_plot.index\n",
    "    return _realtimedata_id, _pd_real_time_plot\n",
    "\n",
    "def _make_pd_real_time(sensorid):\n",
    "    \"\"\"make pd of real time data for given sensorid\"\"\"\n",
    "    _pd_real_time = _get_df_real_time(sensorid).to_pandas()\n",
    "    # make Value columsn or easier filtering\n",
    "    _pd_real_time['Value'] = _pd_real_time[_pd_real_time.columns]\n",
    "    return _pd_real_time\n",
    "\n",
    "def _get_df_real_time(sensorid):\n",
    "    \"\"\"make cognite client of real time data for given sensorid\"\"\"\n",
    "    _df_real_time = client.time_series.data.retrieve(\n",
    "        id=sensorid, # TODO make function to choose\n",
    "        start=MIN_TIMESTAMP_MS,\n",
    "        end=MAX_TIMESTAMP_MS + 1) \n",
    "    return _df_real_time   \n",
    "\n",
    "# get sensor id\n",
    "def _get_sensorid(df):\n",
    "    \"\"\"\n",
    "        Args: df on the format of _pd_witsml_flattened\n",
    "        Returns: the sensor id form the _pd_witsml_flattened based on chosen wellbore and chosen sensortype\n",
    "    \"\"\"\n",
    "    # _chosen_wellbore = str(_w_wellbores_select(df).value)\n",
    "    _chosen_wellbore = _w_wellbores_select(df).value\n",
    "    _chosen_sensortype= str(_w_sensortypes_select(df).value)\n",
    "    # _chosen_sensortype= _chosen_sensortype.value\n",
    "    _sensor_row = df[(df['nameWellbore'] == _chosen_wellbore) & (df['uid'] == _chosen_sensortype)]\n",
    "    _sensorid = int(_sensor_row['id'].iloc[0])\n",
    "    _sensortype = _sensor_row['uid'].iloc[0]\n",
    "    _wellbore = _sensor_row['nameWellbore'].iloc[0]\n",
    "    return _sensorid, _wellbore, _sensortype\n",
    "\n",
    "\n",
    "\n",
    "\n",
    "# make list for the widgets\n",
    "\n",
    "# def _make_sensorids_list(df):\n",
    "#     sr2 = pd.Series(pd.Series(df['id']).tolist(), index = df['id'])\n",
    "#     d = {key: value for key, value in sr2.items()}\n",
    "#     _sensorids_list = d\n",
    "#     return _sensorids_list\n",
    "\n",
    "\n",
    "def _make_wellbores_list(df):\n",
    "    # sr2 = pd.Series(pd.Series(df['nameWellbore']).unique().tolist(), index = df['id'])\n",
    "    _wellbores_list = pd.Series(df['nameWellbore']).unique().tolist()\n",
    "    # d = {key: value for key, value in sr2.items()}\n",
    "    # _sensorids_list = d\n",
    "    return _wellbores_list\n",
    "\n",
    "def _make_sensortypes_list(df):\n",
    "    # sr2 = pd.Series(pd.Series(df['uid']).unique().tolist(), index = df['id']) # TODO check that uid is same as name aka sensortype\n",
    "    _sensortypes_list = pd.Series(df['uid']).unique().tolist()\n",
    "    # d = {key: value for key, value in sr2.items()}\n",
    "    # _sensorids_list = d\n",
    "    return _sensortypes_list\n",
    "\n",
    "\n",
    "\n",
    "\n",
    "## make widgets\n",
    "def _w_wellbores_select(df):\n",
    "    \"\"\"\n",
    "    Args: df on the format of _pd_witsml_flattened\n",
    "    \"\"\"\n",
    "    _sel_sensorid_widget = pn.widgets.Select(name='Select', options=_make_wellbores_list(df))\n",
    "    return _sel_sensorid_widget\n",
    "\n",
    "def _w_sensortypes_select(df):\n",
    "    \"\"\"\n",
    "    Args: df on the format of _pd_witsml_flattened\n",
    "    \"\"\"\n",
    "    _sel_sensortype_widget = pn.widgets.Select(name='Select', options=_make_sensortypes_list(df))\n",
    "    return _sel_sensortype_widget\n",
    "\n",
    "# get widget values\n",
    "def _get_wellbore():\n",
    "    return _w_wellbores_select().value\n",
    "\n",
    "def _get_sensortype():\n",
    "    return _w_sensortypes_select().value\n",
    "\n",
    "# @pn.depends(_w_wellbores_select(_pd_witsml_flattened))\n",
    "# def _new_plot():\n",
    "    # return _w_wellbores_select(_pd_witsml_flattened).value\n",
    "\n",
    "def b(event):\n",
    "    print(\"hellp\")\n",
    "\n",
    "\n",
    "\n",
    "# define the update function\n",
    "def update_plot(event):\n",
    "    sensorid = _get_sensorid(_pd_witsml_flattened)\n",
    "    id, data = _make_pd_real_time_plot(sensorid)\n",
    "    new_plot = create_plot(data, _pd_witsml_flattened)\n",
    "    plot.object = new_plot.object\n",
    "\n",
    "# _w_wellbores_select(df)\n",
    "\n",
    "\n",
    "\n",
    "# _w_wellbores_select =  select(_pd_witsml_flattened)\n",
    "# _w_sensortypes_select = pn.widgets.Select(name='Select Sensor Type')\n",
    "\n",
    "# define the update function\n",
    "def update_plot(wellbore):\n",
    "    sensorid = _get_sensorid(_pd_witsml_flattened, wellbore)\n",
    "    id, data = _make_pd_real_time_plot(sensorid)\n",
    "    new_plot = create_plot(data, wellbore, _w_sensortypes_select.value, _pd_witsml_flattened)\n",
    "    plot.object = new_plot.object\n",
    "\n",
    "# bind the update function to the widget values\n",
    "_w_wellbores_select.param.value = pn.bind(update_plot, wellbore=_w_wellbores_select.value)\n",
    "\n",
    "_w_sensortypes_select.param.value = pn.bind(update_plot, wellbore=_w_wellbores_select.value)\n",
    "\n",
    "# display the widgets and plot\n",
    "pn.Row(_w_wellbores_select, _w_sensortypes_select, plot).servable()\n",
    "\n",
    "\n",
    "\n",
    "# create the Select widgets\n",
    "# _w_wellbores_select_widget = _w_wellbores_select(_pd_witsml_flattened)\n",
    "# _w_sensortypes_select_widget = pn.widgets.Select(name='Select Sensor Type', options=_make_sensortypes_list(_pd_witsml_flattened))\n",
    "\n",
    "# bind the update function to the widget values\n",
    "#_w_wellbores_select(_pd_witsml_flattened).param.watch(update_plot, 'value')\n",
    "# pn.bind(update_plot, pn.widgets.Select(name='Select Wellbore', options=_make_wellbores_list(_pd_witsml_flattened)))\n",
    "# _w_sensortypes_select.param.watch(update_plot, 'value')\n",
    "\n",
    "# \\pn.bind(update_plot, event='new')\n",
    "# pn.bind(update_plot, event='new')\n",
    "\n",
    "# pn.bind(update_plot, _w_wellbores_select_widget,  watch=True)\n",
    "\n",
    "# _w_wellbores_select.param.value.bind(update_plot)\n",
    "# _w_sensortypes_select.param.value.bind(update_plot)"
   ]
  },
  {
   "cell_type": "code",
   "execution_count": null,
   "metadata": {},
   "outputs": [],
   "source": [
    "#### REWQRITE PROPER NEW ONES\n",
    "\n",
    "\n",
    "#plot data \n",
    "def create_plot(_plot_param):#, wellbore, sensortype, df_witsml):\n",
    "    ''' Plots data '''    \n",
    "    plot = _plot_param.hvplot(height=1000,\n",
    "        width=500, title= 'Real Time data for ' , #+ wellbore + \" \" + sensortype,\n",
    "        x='Value',\n",
    "        y=['_new_index'] \n",
    "        # ,ylim=(min(df['_new_index']), max(df['_new_index']))#,\n",
    "    )\n",
    "    \n",
    "    return plot\n",
    "\n",
    "# make datasets\n",
    "def _make_pd_real_time_plot(sensorid) :\n",
    "    \"\"\"\n",
    "    make pd of real time dat to be plotted for given sensorid\n",
    "    Args: sensorid - the id of the sensor\n",
    "    Returns: the id column and the pandas to be plotted\n",
    "    \"\"\"\n",
    "    _pd_real_time_plot = _make_pd_real_time(sensorid)\n",
    "    _realtimedata_id = _pd_real_time_plot.columns\n",
    "    _pd_real_time_plot = _pd_real_time_plot.drop(_pd_real_time_plot.columns[[0]], axis=1)  # _pd_witsml_flattened.columns is zero-based pd.Index\n",
    "    _pd_real_time_plot['_new_index'] = _pd_real_time_plot.index\n",
    "    return _realtimedata_id, _pd_real_time_plot\n",
    "\n",
    "def _make_pd_real_time(sensorid):\n",
    "    \"\"\"make pd of real time data for given sensorid\"\"\"\n",
    "    _pd_real_time = _get_df_real_time(sensorid).to_pandas()\n",
    "    # make Value columsn or easier filtering\n",
    "    _pd_real_time['Value'] = _pd_real_time[_pd_real_time.columns]\n",
    "    return _pd_real_time\n",
    "\n",
    "def _get_df_real_time(sensorid):\n",
    "    \"\"\"make cognite client of real time data for given sensorid\"\"\"\n",
    "    _df_real_time = client.time_series.data.retrieve(\n",
    "        external_id= None,\n",
    "        id=sensorid, # TODO make function to choose\n",
    "        start=MIN_TIMESTAMP_MS,\n",
    "        end=MAX_TIMESTAMP_MS + 1) \n",
    "    return _df_real_time   \n",
    "\n",
    "# get sensor id\n",
    "def _get_sensorid(df, wellbore, sensortype):\n",
    "    \"\"\"\n",
    "        Args: df on the format of _pd_witsml_flattened\n",
    "        Returns: the sensor id form the _pd_witsml_flattened based on chosen wellbore and chosen sensortype\n",
    "    \"\"\"\n",
    "    _sensor_row = df[(df['nameWellbore'] == wellbore) & (df['uid'] == sensortype)]\n",
    "    _sensorid = _sensor_row['id'].iloc[0]\n",
    "    return _sensorid\n",
    "\n",
    "\n",
    "# make lists to use in widgets\n",
    "def _make_wellbores_list(df):\n",
    "    _wellbores_list = pd.Series(df['nameWellbore']).unique().tolist()\n",
    "    return _wellbores_list\n",
    "\n",
    "def _make_sensortypes_list(df):\n",
    "    _sensortypes_list = pd.Series(df['uid']).unique().tolist()\n",
    "    return _sensortypes_list\n",
    "\n",
    "\n",
    "\n",
    "\n",
    "## make widgets\n",
    "def _w_wellbores_select(df):\n",
    "    \"\"\"\n",
    "    Args: df on the format of _pd_witsml_flattened\n",
    "    \"\"\"\n",
    "    _sel_sensorid_widget = pn.widgets.Select(name='Select', options=_make_wellbores_list(df))\n",
    "    return _sel_sensorid_widget\n",
    "\n",
    "def _w_sensortypes_select(df):\n",
    "    \"\"\"\n",
    "    Args: df on the format of _pd_witsml_flattened\n",
    "    \"\"\"\n",
    "    _sel_sensortype_widget = pn.widgets.Select(name='Select', options=_make_sensortypes_list(df))\n",
    "    return _sel_sensortype_widget\n"
   ]
  },
  {
   "cell_type": "code",
   "execution_count": null,
   "metadata": {},
   "outputs": [],
   "source": [
    "# display the widgets and plot\n",
    "# pn.Row(_w_wellbores_select, _w_sensortypes_select, plot).servable()"
   ]
  },
  {
   "cell_type": "code",
   "execution_count": null,
   "metadata": {},
   "outputs": [],
   "source": [
    "\n",
    "sensorid, wellbore, sensor =  _get_sensorid(_pd_witsml_flattened)\n",
    "id, data = _make_pd_real_time_plot(sensorid)\n",
    "\n",
    "\n",
    "# #btn = pn.widgets.Button(name = \"click me\", button_type = 'primary')\n",
    "\n",
    "plot = create_plot(data, wellbore, sensor, _pd_witsml_flattened)\n",
    "# plot.param.trigger('draw')\n",
    "plot"
   ]
  },
  {
   "cell_type": "code",
   "execution_count": null,
   "metadata": {},
   "outputs": [],
   "source": [
    "import panel as pn\n",
    "import pandas as pd\n",
    "import xarray as xr\n",
    "import hvplot.xarray\n",
    "\n",
    "# create the Select widgets\n",
    "_w_wellbores_select = pn.widgets.Select(name='Select Wellbore',  options=_make_wellbores_list(_pd_witsml_flattened))\n",
    "_w_sensortypes_select = pn.widgets.Select(name='Select Sensor Type')\n",
    "\n",
    "# create the DataFrame and plot\n",
    "_pd_real_time_plot = pd.DataFrame({\n",
    "    'Value': [1, 2, 3, 4, 5],\n",
    "    '_new_index': pd.date_range('2022-01-01', periods=5, freq='D')\n",
    "})\n",
    "\n",
    "plot = _pd_real_time_plot.hvplot(height=1000,\n",
    "    width=500, title='Real Time',\n",
    "    x='Value',\n",
    "    y=['_new_index'], \n",
    "    ylim=(min(_pd_real_time_plot['_new_index']), max(_pd_real_time_plot['_new_index']))\n",
    ").opts(invert_yaxis=True)\n",
    "\n",
    "# define the update function\n",
    "def update_plot(event):\n",
    "    sensorid = _get_sensorid(_pd_witsml_flattened)\n",
    "    id, data = _make_pd_real_time_plot(sensorid)\n",
    "    new_plot = create_plot(data, _pd_witsml_flattened)\n",
    "    plot.object = new_plot.object\n",
    "\n",
    "# bind the update function to the widget values\n",
    "_w_wellbores_select.param.watch(update_plot, 'value')\n",
    "_w_sensortypes_select.param.watch(update_plot, 'value')\n",
    "\n",
    "# display the widgets and plot\n",
    "pn.Row(_w_wellbores_select, _w_sensortypes_select, plot).servable()"
   ]
  },
  {
   "cell_type": "code",
   "execution_count": null,
   "metadata": {},
   "outputs": [],
   "source": [
    "import pandas as pd\n",
    "import numpy as np\n",
    "import hvplot.pandas\n",
    "import panel as pn\n",
    "\n",
    "# create dataset d1\n",
    "d1 = pd.DataFrame({\n",
    "    'x': np.arange(10),\n",
    "    'y1': np.random.rand(10),\n",
    "    'y2': np.random.rand(10)\n",
    "})\n",
    "\n",
    "# create dataset d2 with different column names\n",
    "d2 = pd.DataFrame({\n",
    "    'x': np.arange(10),\n",
    "    'z1': np.random.rand(10),\n",
    "    'z2': np.random.rand(10)\n",
    "})\n",
    "\n",
    "# plot d1 using hvplot\n",
    "plot = d1.hvplot.line(x='x', y=['y1', 'y2'])\n",
    "\n",
    "# define the update function\n",
    "def update_plot(event):\n",
    "    #global plot\n",
    "    newplot = d2.hvplot.line(x='x', y=['z1', 'z2'], title=\"d2\")\n",
    "    plot = newplot\n",
    "    plot\n",
    "\n",
    "# create the button widget\n",
    "button = pn.widgets.Button(name='Update Plot')\n",
    "\n",
    "\n",
    "indicator = pn.indicators.LoadingSpinner(value=False, size=25)\n",
    "text = pn.widgets.TextInput(value='Start')\n",
    " \n",
    "def update_indicator(event, clicks):\n",
    "    if not event:\n",
    "        return\n",
    "   \n",
    "    indicator.value = not indicator.value\n",
    "\n",
    "    test = pn.Column(button, (d2.hvplot.line(x='x', y=['z1', 'z2'], title=\"d2\")), indicator, text).servable()\n",
    "    test.servable\n",
    "    text.value = f\"you have clicked me {clicks} times\"\n",
    "    plot.title = \"hjhkj\"\n",
    " \n",
    "# pn.bind(update_indicator, button, button.param.clicks, watch=True)\n",
    "\n",
    "# pn.bind(update_plot, button, watch=True)\n",
    "\n",
    "# bind the update function to the button click event\n",
    "# button.on_click(update_plot)\n",
    "\n",
    "# display the button and plot using Panel\n",
    "# pn.Column(button, plot, indicator, text).servable()\n",
    "hvplot.bind(update_plot, button).interactive().hvplot.line(title=\"d2\")\n"
   ]
  },
  {
   "cell_type": "code",
   "execution_count": null,
   "metadata": {},
   "outputs": [],
   "source": [
    "import hvplot.pandas  # noqa\n",
    "import pandas as pd\n",
    "import panel as pn\n",
    "\n",
    "pn.extension()\n",
    "\n",
    "\n",
    "def function_to_generate_dataframe(x):\n",
    "    # x only used to trigger the function\n",
    "    df =  pd.DataFrame({\n",
    "    'x': np.arange(10),\n",
    "    'y1': np.random.rand(10),\n",
    "    'y2': np.random.rand(10)\n",
    "})\n",
    "    # df[\"C\"] = df[\"C\"].round()\n",
    "    return df\n",
    "\n",
    "\n",
    "widget = pn.widgets.IntSlider(end=100)\n",
    "hvplot.bind(function_to_generate_dataframe, widget).interactive().hvplot.line()\n"
   ]
  },
  {
   "cell_type": "code",
   "execution_count": null,
   "metadata": {},
   "outputs": [],
   "source": [
    "import hvplot.pandas\n",
    "import pandas as pd\n",
    "import panel as pn\n",
    "import numpy as np\n",
    "\n",
    "pn.extension()\n",
    "\n",
    "# create dataset d1\n",
    "d1 = pd.DataFrame({\n",
    "    'x': np.arange(10),\n",
    "    'y1': np.random.rand(10)\n",
    "})\n",
    "\n",
    "\n",
    "# create dataset d2 with different column names\n",
    "d2 = pd.DataFrame({\n",
    "    'x': np.arange(10),\n",
    "    'y1': np.random.rand(10)\n",
    "    })\n",
    "\n",
    "def function_to_generate_dataframe(x):\n",
    "    # x only used to trigger the function\n",
    "    global d1, d2\n",
    "    if x == 'd1':\n",
    "        df = d1\n",
    "    else:\n",
    "        df = d2\n",
    "    \n",
    "    return df.hvplot.line(x='x', title=x)\n",
    "\n",
    "widget = pn.widgets.Select(options=['d1', 'd2'])\n",
    "hvplot.bind(function_to_generate_dataframe, widget).interactive().hvplot.line()"
   ]
  },
  {
   "cell_type": "code",
   "execution_count": null,
   "metadata": {},
   "outputs": [],
   "source": [
    "#WORKS\n",
    "\n",
    "\n",
    "# create dataset d1\n",
    "d1 = _pd_real_time_plot\n",
    "\n",
    "\n",
    "# create dataset d2 with different column names\n",
    "d2 = _pd_real_time_plot\n",
    "\n",
    "def function_to_generate_dataframe2(x):\n",
    "    # x only used to trigger the function\n",
    "    global d1, d2\n",
    "    if x == 'd1':\n",
    "        df = d1\n",
    "    else:\n",
    "        df = d2\n",
    "    \n",
    "    return df.hvplot.line(x='Value', title=x)\n",
    "\n",
    "widget2 = pn.widgets.Select(options=['d1', 'd2'])\n",
    "p = hvplot.bind(function_to_generate_dataframe2, widget2).interactive()\n",
    "p.hvplot().line()\n"
   ]
  },
  {
   "cell_type": "code",
   "execution_count": null,
   "metadata": {},
   "outputs": [],
   "source": [
    "d2"
   ]
  },
  {
   "cell_type": "code",
   "execution_count": null,
   "metadata": {},
   "outputs": [],
   "source": [
    "#tesing with new code and proper WORRKSSS YESSS\n",
    "# import hvplot.pandas\n",
    "def function_to_generate_dataframe(wellbore, sensortype):\n",
    "    print(wellbore, sensortype)\n",
    "    sensorid = _get_sensorid(_pd_witsml_flattened,wellbore,sensortype)\n",
    "    print(type(sensorid))\n",
    "    print(sensorid)\n",
    "    s= int(sensorid)\n",
    "    id, data = _make_pd_real_time_plot(s)\n",
    "    return data\n",
    "\n",
    "plot = hvplot.bind\\\n",
    "    (function_to_generate_dataframe, _w_wellbores_select(_pd_witsml_flattened),_w_sensortypes_select(_pd_witsml_flattened)) \\\n",
    "    .interactive()\n",
    "plot.head(20)\n",
    "\n"
   ]
  },
  {
   "cell_type": "code",
   "execution_count": null,
   "metadata": {},
   "outputs": [],
   "source": [
    "create_plot(plot)"
   ]
  },
  {
   "cell_type": "code",
   "execution_count": null,
   "metadata": {},
   "outputs": [],
   "source": []
  },
  {
   "cell_type": "code",
   "execution_count": null,
   "metadata": {},
   "outputs": [],
   "source": [
    "d2"
   ]
  },
  {
   "cell_type": "code",
   "execution_count": null,
   "metadata": {},
   "outputs": [],
   "source": [
    "_w_wellbores_select(_pd_witsml_flattened)"
   ]
  },
  {
   "cell_type": "code",
   "execution_count": null,
   "metadata": {},
   "outputs": [],
   "source": [
    "_w_wellbores_select(_pd_witsml_flattened).param.values()"
   ]
  },
  {
   "cell_type": "code",
   "execution_count": null,
   "metadata": {},
   "outputs": [],
   "source": [
    "\n",
    "\n",
    "df = pn.rx(data)\n",
    "plot = df.hvplot(height=1000,\n",
    "    width=500, title='Real Time',\n",
    "    x='Value',\n",
    "    y=['_new_index'], \n",
    "    ylim=(min(df['_new_index']), max(df['_new_index']))    # ).opts(invert_yaxis=True)\n",
    ")\n",
    "\n"
   ]
  },
  {
   "cell_type": "code",
   "execution_count": null,
   "metadata": {},
   "outputs": [],
   "source": [
    "df = data\n",
    "e = pn.widgets.IntSlider(value=2, start=1, end=10, name=\"e\").rx()\n",
    "pn.Row(pn.rx(df.hvplot.line)(line_width=e))"
   ]
  },
  {
   "cell_type": "code",
   "execution_count": null,
   "metadata": {},
   "outputs": [],
   "source": [
    "min(data['_new_index'])"
   ]
  },
  {
   "cell_type": "code",
   "execution_count": null,
   "metadata": {},
   "outputs": [],
   "source": [
    "create_plot(data, _pd_witsml_flattened)"
   ]
  },
  {
   "cell_type": "code",
   "execution_count": null,
   "metadata": {},
   "outputs": [],
   "source": [
    "print(wellbore, sensor)"
   ]
  },
  {
   "cell_type": "code",
   "execution_count": null,
   "metadata": {},
   "outputs": [],
   "source": [
    "_get_sensorid(_pd_witsml_flattened)"
   ]
  },
  {
   "cell_type": "code",
   "execution_count": null,
   "metadata": {},
   "outputs": [],
   "source": [
    "_pd_witsml_flattened[(_pd_witsml_flattened['nameWellbore'] == 'NO 16/2-D-18') & (_pd_witsml_flattened['uid'] == 'BITDEP')]\n"
   ]
  },
  {
   "cell_type": "code",
   "execution_count": null,
   "metadata": {},
   "outputs": [],
   "source": [
    "_pd_witsml_flattened[_pd_witsml_flattened['id'] == 881650803765]"
   ]
  },
  {
   "cell_type": "code",
   "execution_count": null,
   "metadata": {},
   "outputs": [],
   "source": [
    "_pd_witsml_flattened"
   ]
  },
  {
   "cell_type": "code",
   "execution_count": null,
   "metadata": {},
   "outputs": [],
   "source": [
    "_sel_sensorid"
   ]
  },
  {
   "cell_type": "code",
   "execution_count": null,
   "metadata": {},
   "outputs": [],
   "source": [
    "id, data = _make_pd_real_time_plot(7119861774595595)\n",
    "data"
   ]
  },
  {
   "cell_type": "code",
   "execution_count": null,
   "metadata": {},
   "outputs": [],
   "source": [
    "test= pn.rx(_pd_real_time_plot)\n",
    "\n",
    "head_widget = pn.widgets.IntSlider(name=\"Head\", start=1, end=10)\n",
    "\n",
    "test.head(head_widget)"
   ]
  },
  {
   "cell_type": "code",
   "execution_count": null,
   "metadata": {},
   "outputs": [],
   "source": [
    "\n",
    "pn.ReactiveExpr(\n",
    "    test.head(head_widget),  # only show a few rows to save some space\n",
    "    widget_layout=pn.Column,\n",
    "    widget_location=\"top\",\n",
    ")"
   ]
  },
  {
   "cell_type": "code",
   "execution_count": null,
   "metadata": {},
   "outputs": [],
   "source": [
    "table = pn.widgets.Tabulator(test, page_size=10, pagination=\"remote\")\n",
    "pn.Column(_w_wellbores_select(_pd_witsml),  table)\n"
   ]
  },
  {
   "cell_type": "code",
   "execution_count": null,
   "metadata": {},
   "outputs": [],
   "source": [
    "import matplotlib.pyplot as plt\n",
    "import numpy as np\n",
    "import streamlit as st\n",
    "\n",
    "from matplotlib.figure import Figure\n",
    "\n",
    "data = np.random.normal(1, 1, size=100)\n",
    "fig = Figure(figsize=(8,4))\n",
    "ax = fig.subplots()\n",
    "bins = pn.widgets.slider(value=20, min_value=10, max_value=30, step=1, label=\"Bins\")\n",
    "ax.hist(data, bins=bins)\n",
    "\n",
    "st.pyplot(fig)"
   ]
  }
 ],
 "metadata": {
  "kernelspec": {
   "display_name": "Python 3",
   "language": "python",
   "name": "python3"
  },
  "language_info": {
   "codemirror_mode": {
    "name": "ipython",
    "version": 3
   },
   "file_extension": ".py",
   "mimetype": "text/x-python",
   "name": "python",
   "nbconvert_exporter": "python",
   "pygments_lexer": "ipython3",
   "version": "3.11.5"
  }
 },
 "nbformat": 4,
 "nbformat_minor": 2
}
